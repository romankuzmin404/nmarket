{
 "cells": [
  {
   "cell_type": "markdown",
   "id": "5ecb2796",
   "metadata": {
    "toc": true
   },
   "source": [
    "<h1>Table of Contents<span class=\"tocSkip\"></span></h1>\n",
    "<div class=\"toc\"><ul class=\"toc-item\"><li><span><a href=\"#Исследование-объектов-Нмаркет-Про\" data-toc-modified-id=\"Исследование-объектов-Нмаркет-Про-1\"><span class=\"toc-item-num\">1&nbsp;&nbsp;</span>Исследование объектов Нмаркет Про</a></span><ul class=\"toc-item\"><li><span><a href=\"#Проверка-на-Null\" data-toc-modified-id=\"Проверка-на-Null-1.1\"><span class=\"toc-item-num\">1.1&nbsp;&nbsp;</span>Проверка на Null</a></span></li><li><span><a href=\"#Замена-типов-данных\" data-toc-modified-id=\"Замена-типов-данных-1.2\"><span class=\"toc-item-num\">1.2&nbsp;&nbsp;</span>Замена типов данных</a></span></li><li><span><a href=\"#Проверка-дубликатов\" data-toc-modified-id=\"Проверка-дубликатов-1.3\"><span class=\"toc-item-num\">1.3&nbsp;&nbsp;</span>Проверка дубликатов</a></span></li><li><span><a href=\"#Проверка-на-аномалии\" data-toc-modified-id=\"Проверка-на-аномалии-1.4\"><span class=\"toc-item-num\">1.4&nbsp;&nbsp;</span>Проверка на аномалии</a></span></li><li><span><a href=\"#Добавление-признаков\" data-toc-modified-id=\"Добавление-признаков-1.5\"><span class=\"toc-item-num\">1.5&nbsp;&nbsp;</span>Добавление признаков</a></span></li><li><span><a href=\"#Первичный-обзор-содержимого\" data-toc-modified-id=\"Первичный-обзор-содержимого-1.6\"><span class=\"toc-item-num\">1.6&nbsp;&nbsp;</span>Первичный обзор содержимого</a></span></li><li><span><a href=\"#Объекты-на-карте\" data-toc-modified-id=\"Объекты-на-карте-1.7\"><span class=\"toc-item-num\">1.7&nbsp;&nbsp;</span>Объекты на карте</a></span></li></ul></li><li><span><a href=\"#Обзор-групп\" data-toc-modified-id=\"Обзор-групп-2\"><span class=\"toc-item-num\">2&nbsp;&nbsp;</span>Обзор групп</a></span><ul class=\"toc-item\"><li><span><a href=\"#По-населенным-пунктам\" data-toc-modified-id=\"По-населенным-пунктам-2.1\"><span class=\"toc-item-num\">2.1&nbsp;&nbsp;</span>По населенным пунктам</a></span></li></ul></li><li><span><a href=\"#Старт-сервера\" data-toc-modified-id=\"Старт-сервера-3\"><span class=\"toc-item-num\">3&nbsp;&nbsp;</span>Старт сервера</a></span></li></ul></div>"
   ]
  },
  {
   "cell_type": "markdown",
   "id": "31b89f60",
   "metadata": {},
   "source": [
    " # Исследование объектов Нмаркет Про"
   ]
  },
  {
   "cell_type": "markdown",
   "id": "c0cf3436",
   "metadata": {},
   "source": [
    "Задачи исследования\n",
    "\n",
    "- Количество квартир имеющихся в продаже в сервисе.\n",
    "  - Сколько студий, 1к, 2к, 3к, 4к >\n",
    "  \n",
    "- Распределение новостроек по районам\n",
    "- Распределение цен по районам\n",
    "- Зависимость цен от этажности\n",
    "- Зависимость цен от застройщика"
   ]
  },
  {
   "cell_type": "markdown",
   "id": "7e4de4c1",
   "metadata": {},
   "source": [
    "Импортируем необходимые библиотеки"
   ]
  },
  {
   "cell_type": "code",
   "execution_count": 64,
   "id": "a46c4374",
   "metadata": {},
   "outputs": [],
   "source": [
    "import pandas as pd\n",
    "#import matplotlib.pyplot as plt\n",
    "import plotly.graph_objects as go\n",
    "from plotly.subplots import make_subplots\n",
    "import plotly.graph_objects as go # or plotly.express as px\n",
    "fig = go.Figure() # or any Plotly Express function e.g. px.bar(...)\n",
    "# fig.add_trace( ... )\n",
    "# fig.update_layout( ... )\n",
    "\n",
    "# import dash\n",
    "# from dash import dcc\n",
    "# from dash import html\n",
    "show_docs=False\n",
    "from keplergl import KeplerGl\n",
    "\n",
    "from math import ceil"
   ]
  },
  {
   "cell_type": "code",
   "execution_count": 65,
   "id": "557b2729",
   "metadata": {},
   "outputs": [],
   "source": [
    "df = pd.read_csv('datasets/nmarket.csv')"
   ]
  },
  {
   "cell_type": "code",
   "execution_count": 66,
   "id": "f9b68713",
   "metadata": {},
   "outputs": [],
   "source": [
    "pd.set_option('display.max_rows', 500)\n",
    "pd.set_option('display.max_columns', 500)\n",
    "pd.set_option('display.width', 1000)"
   ]
  },
  {
   "cell_type": "code",
   "execution_count": 67,
   "id": "5a8f1840",
   "metadata": {},
   "outputs": [
    {
     "data": {
      "text/html": [
       "<div>\n",
       "<style scoped>\n",
       "    .dataframe tbody tr th:only-of-type {\n",
       "        vertical-align: middle;\n",
       "    }\n",
       "\n",
       "    .dataframe tbody tr th {\n",
       "        vertical-align: top;\n",
       "    }\n",
       "\n",
       "    .dataframe thead th {\n",
       "        text-align: right;\n",
       "    }\n",
       "</style>\n",
       "<table border=\"1\" class=\"dataframe\">\n",
       "  <thead>\n",
       "    <tr style=\"text-align: right;\">\n",
       "      <th></th>\n",
       "      <th>id</th>\n",
       "      <th>type</th>\n",
       "      <th>property_type</th>\n",
       "      <th>category</th>\n",
       "      <th>creation_date</th>\n",
       "      <th>last_update_date</th>\n",
       "      <th>manually_added</th>\n",
       "      <th>mortgage</th>\n",
       "      <th>haggle</th>\n",
       "      <th>renovation</th>\n",
       "      <th>description</th>\n",
       "      <th>new_flat</th>\n",
       "      <th>rooms</th>\n",
       "      <th>balcony</th>\n",
       "      <th>bathroom_unit</th>\n",
       "      <th>floor</th>\n",
       "      <th>floors_total</th>\n",
       "      <th>building_name</th>\n",
       "      <th>building_type</th>\n",
       "      <th>building_phase</th>\n",
       "      <th>building_section</th>\n",
       "      <th>built_year</th>\n",
       "      <th>ready_quarter</th>\n",
       "      <th>lift</th>\n",
       "      <th>parking</th>\n",
       "      <th>ceiling_height</th>\n",
       "      <th>nmarket_complex_id</th>\n",
       "      <th>nmarket_building_id</th>\n",
       "      <th>country</th>\n",
       "      <th>region</th>\n",
       "      <th>district</th>\n",
       "      <th>locality_name</th>\n",
       "      <th>sub_locality_name</th>\n",
       "      <th>non_admin_sub_locality</th>\n",
       "      <th>address</th>\n",
       "      <th>apartment</th>\n",
       "      <th>latitude</th>\n",
       "      <th>longitude</th>\n",
       "      <th>name</th>\n",
       "      <th>time_on_foot</th>\n",
       "      <th>time_on_transport</th>\n",
       "      <th>price</th>\n",
       "      <th>area</th>\n",
       "      <th>living_space</th>\n",
       "      <th>kitchen_space</th>\n",
       "    </tr>\n",
       "  </thead>\n",
       "  <tbody>\n",
       "    <tr>\n",
       "      <th>59</th>\n",
       "      <td>60</td>\n",
       "      <td>продажа</td>\n",
       "      <td>жилая</td>\n",
       "      <td>квартира</td>\n",
       "      <td>2021-05-28T10:38:28+00:00</td>\n",
       "      <td>2021-06-09T14:42:00+00:00</td>\n",
       "      <td>0</td>\n",
       "      <td>True</td>\n",
       "      <td>True</td>\n",
       "      <td>Отделка \"под ключ\"</td>\n",
       "      <td>Квартира: 1 ккв 35, 30 кв.м.,  7 этаж в компле...</td>\n",
       "      <td>1</td>\n",
       "      <td>1</td>\n",
       "      <td>нет</td>\n",
       "      <td>совмещенный</td>\n",
       "      <td>7</td>\n",
       "      <td>9</td>\n",
       "      <td>Moskovsky AVENIR</td>\n",
       "      <td>монолитный</td>\n",
       "      <td>Очередь 1</td>\n",
       "      <td>Корпус 1</td>\n",
       "      <td>2022</td>\n",
       "      <td>4</td>\n",
       "      <td>1</td>\n",
       "      <td>1.0</td>\n",
       "      <td>2.6</td>\n",
       "      <td>77336</td>\n",
       "      <td>77345</td>\n",
       "      <td>Россия</td>\n",
       "      <td>Санкт-Петербург</td>\n",
       "      <td>NaN</td>\n",
       "      <td>Санкт-Петербург</td>\n",
       "      <td>Московский</td>\n",
       "      <td>Московский</td>\n",
       "      <td>Киевская ул.,  д. 5/6</td>\n",
       "      <td>723</td>\n",
       "      <td>59.902846</td>\n",
       "      <td>30.326251</td>\n",
       "      <td>Фрунзенская</td>\n",
       "      <td>10.0</td>\n",
       "      <td>NaN</td>\n",
       "      <td>6695718</td>\n",
       "      <td>35.30</td>\n",
       "      <td>31.70</td>\n",
       "      <td>31.70</td>\n",
       "    </tr>\n",
       "    <tr>\n",
       "      <th>373</th>\n",
       "      <td>374</td>\n",
       "      <td>продажа</td>\n",
       "      <td>жилая</td>\n",
       "      <td>квартира</td>\n",
       "      <td>2021-06-04T11:29:34+00:00</td>\n",
       "      <td>2021-06-07T15:56:00+00:00</td>\n",
       "      <td>0</td>\n",
       "      <td>False</td>\n",
       "      <td>True</td>\n",
       "      <td>Подготовка под чистовую отделку</td>\n",
       "      <td>Квартира: 1 ккв 31, 08 кв.м.,  9 этаж в компле...</td>\n",
       "      <td>1</td>\n",
       "      <td>1</td>\n",
       "      <td>лоджия</td>\n",
       "      <td>совмещенный</td>\n",
       "      <td>9</td>\n",
       "      <td>12</td>\n",
       "      <td>ID Murino 2</td>\n",
       "      <td>кирпично-монолитный</td>\n",
       "      <td>Очередь 1</td>\n",
       "      <td>Корпус 3</td>\n",
       "      <td>2023</td>\n",
       "      <td>4</td>\n",
       "      <td>1</td>\n",
       "      <td>1.0</td>\n",
       "      <td>3.0</td>\n",
       "      <td>76109</td>\n",
       "      <td>77394</td>\n",
       "      <td>Россия</td>\n",
       "      <td>Ленинградская область</td>\n",
       "      <td>NaN</td>\n",
       "      <td>Лаврики</td>\n",
       "      <td>Всеволожский</td>\n",
       "      <td>Всеволожский</td>\n",
       "      <td>Лаврики дер.,</td>\n",
       "      <td>273</td>\n",
       "      <td>60.069523</td>\n",
       "      <td>30.439588</td>\n",
       "      <td>Девяткино</td>\n",
       "      <td>NaN</td>\n",
       "      <td>5.0</td>\n",
       "      <td>3885005</td>\n",
       "      <td>31.08</td>\n",
       "      <td>11.31</td>\n",
       "      <td>12.05</td>\n",
       "    </tr>\n",
       "    <tr>\n",
       "      <th>1510</th>\n",
       "      <td>1511</td>\n",
       "      <td>продажа</td>\n",
       "      <td>жилая</td>\n",
       "      <td>квартира</td>\n",
       "      <td>2019-05-14T10:53:01+00:00</td>\n",
       "      <td>2021-02-04T11:01:20+00:00</td>\n",
       "      <td>0</td>\n",
       "      <td>True</td>\n",
       "      <td>False</td>\n",
       "      <td>Черновая отделка</td>\n",
       "      <td>Квартира: 6 ккв 308, 54 кв.м.,  2 этаж в компл...</td>\n",
       "      <td>1</td>\n",
       "      <td>6</td>\n",
       "      <td>2 балкона</td>\n",
       "      <td>2</td>\n",
       "      <td>2</td>\n",
       "      <td>3</td>\n",
       "      <td>Resort</td>\n",
       "      <td>кирпично-монолитный</td>\n",
       "      <td>Очередь 1</td>\n",
       "      <td>Корпус 98</td>\n",
       "      <td>2023</td>\n",
       "      <td>3</td>\n",
       "      <td>1</td>\n",
       "      <td>1.0</td>\n",
       "      <td>3.2</td>\n",
       "      <td>62222</td>\n",
       "      <td>62229</td>\n",
       "      <td>Россия</td>\n",
       "      <td>Ленинградская область</td>\n",
       "      <td>NaN</td>\n",
       "      <td>Красницы</td>\n",
       "      <td>Гатчинский</td>\n",
       "      <td>Гатчинский</td>\n",
       "      <td>Красницы дер.,</td>\n",
       "      <td>4</td>\n",
       "      <td>59.461561</td>\n",
       "      <td>30.328669</td>\n",
       "      <td>Купчино</td>\n",
       "      <td>NaN</td>\n",
       "      <td>60.0</td>\n",
       "      <td>58622600</td>\n",
       "      <td>308.54</td>\n",
       "      <td>110.79</td>\n",
       "      <td>66.54</td>\n",
       "    </tr>\n",
       "    <tr>\n",
       "      <th>454</th>\n",
       "      <td>455</td>\n",
       "      <td>продажа</td>\n",
       "      <td>жилая</td>\n",
       "      <td>квартира</td>\n",
       "      <td>2021-04-28T11:16:35+00:00</td>\n",
       "      <td>2021-05-27T09:09:00+00:00</td>\n",
       "      <td>0</td>\n",
       "      <td>True</td>\n",
       "      <td>False</td>\n",
       "      <td>Подготовка под чистовую отделку</td>\n",
       "      <td>Квартира: 3 ккв 83, 91 кв.м.,  6 этаж в компле...</td>\n",
       "      <td>1</td>\n",
       "      <td>3</td>\n",
       "      <td>лоджия</td>\n",
       "      <td>2</td>\n",
       "      <td>6</td>\n",
       "      <td>11</td>\n",
       "      <td>ID Парк Победы</td>\n",
       "      <td>кирпично-монолитный</td>\n",
       "      <td>Очередь 2</td>\n",
       "      <td>Корпус 3</td>\n",
       "      <td>2024</td>\n",
       "      <td>1</td>\n",
       "      <td>1</td>\n",
       "      <td>1.0</td>\n",
       "      <td>3.0</td>\n",
       "      <td>65673</td>\n",
       "      <td>77063</td>\n",
       "      <td>Россия</td>\n",
       "      <td>Санкт-Петербург</td>\n",
       "      <td>NaN</td>\n",
       "      <td>Санкт-Петербург</td>\n",
       "      <td>Московский</td>\n",
       "      <td>Московский</td>\n",
       "      <td>Сызранская ул.,  д. 23/А</td>\n",
       "      <td>24</td>\n",
       "      <td>59.877217</td>\n",
       "      <td>30.339226</td>\n",
       "      <td>Электросила</td>\n",
       "      <td>15.0</td>\n",
       "      <td>NaN</td>\n",
       "      <td>20557950</td>\n",
       "      <td>83.91</td>\n",
       "      <td>48.84</td>\n",
       "      <td>17.25</td>\n",
       "    </tr>\n",
       "    <tr>\n",
       "      <th>1674</th>\n",
       "      <td>1675</td>\n",
       "      <td>продажа</td>\n",
       "      <td>жилая</td>\n",
       "      <td>квартира</td>\n",
       "      <td>2019-05-16T14:44:39+00:00</td>\n",
       "      <td>2021-06-04T05:20:51+00:00</td>\n",
       "      <td>0</td>\n",
       "      <td>True</td>\n",
       "      <td>False</td>\n",
       "      <td>Отделка \"под ключ\"</td>\n",
       "      <td>Студия:  22, 10 кв.м.,  20 этаж в комплексе St...</td>\n",
       "      <td>1</td>\n",
       "      <td>1</td>\n",
       "      <td>нет</td>\n",
       "      <td>совмещенный</td>\n",
       "      <td>20</td>\n",
       "      <td>20</td>\n",
       "      <td>Start</td>\n",
       "      <td>монолитный</td>\n",
       "      <td>Очередь 1</td>\n",
       "      <td>Корпус 1</td>\n",
       "      <td>2021</td>\n",
       "      <td>4</td>\n",
       "      <td>1</td>\n",
       "      <td>1.0</td>\n",
       "      <td>2.8</td>\n",
       "      <td>62275</td>\n",
       "      <td>62257</td>\n",
       "      <td>Россия</td>\n",
       "      <td>Санкт-Петербург</td>\n",
       "      <td>NaN</td>\n",
       "      <td>Санкт-Петербург</td>\n",
       "      <td>Выборгский</td>\n",
       "      <td>Выборгский</td>\n",
       "      <td>Энгельса пр.,  д. 174/лит. А</td>\n",
       "      <td>2104</td>\n",
       "      <td>60.071612</td>\n",
       "      <td>30.342862</td>\n",
       "      <td>Парнас</td>\n",
       "      <td>5.0</td>\n",
       "      <td>NaN</td>\n",
       "      <td>2832099</td>\n",
       "      <td>22.10</td>\n",
       "      <td>18.90</td>\n",
       "      <td>18.90</td>\n",
       "    </tr>\n",
       "  </tbody>\n",
       "</table>\n",
       "</div>"
      ],
      "text/plain": [
       "        id     type property_type  category              creation_date           last_update_date  manually_added  mortgage  haggle                       renovation                                        description  new_flat  rooms    balcony bathroom_unit  floor  floors_total     building_name        building_type building_phase building_section  built_year  ready_quarter  lift  parking  ceiling_height  nmarket_complex_id  nmarket_building_id country                 region district    locality_name sub_locality_name non_admin_sub_locality                       address apartment   latitude  longitude         name  time_on_foot  time_on_transport     price    area  living_space  kitchen_space\n",
       "59      60  продажа         жилая  квартира  2021-05-28T10:38:28+00:00  2021-06-09T14:42:00+00:00               0      True    True               Отделка \"под ключ\"  Квартира: 1 ккв 35, 30 кв.м.,  7 этаж в компле...         1      1        нет   совмещенный      7             9  Moskovsky AVENIR           монолитный      Очередь 1         Корпус 1        2022              4     1      1.0             2.6               77336                77345  Россия        Санкт-Петербург      NaN  Санкт-Петербург        Московский             Московский         Киевская ул.,  д. 5/6       723  59.902846  30.326251  Фрунзенская          10.0                NaN   6695718   35.30         31.70          31.70\n",
       "373    374  продажа         жилая  квартира  2021-06-04T11:29:34+00:00  2021-06-07T15:56:00+00:00               0     False    True  Подготовка под чистовую отделку  Квартира: 1 ккв 31, 08 кв.м.,  9 этаж в компле...         1      1     лоджия   совмещенный      9            12       ID Murino 2  кирпично-монолитный      Очередь 1         Корпус 3        2023              4     1      1.0             3.0               76109                77394  Россия  Ленинградская область      NaN          Лаврики      Всеволожский           Всеволожский               Лаврики дер.,         273  60.069523  30.439588    Девяткино           NaN                5.0   3885005   31.08         11.31          12.05\n",
       "1510  1511  продажа         жилая  квартира  2019-05-14T10:53:01+00:00  2021-02-04T11:01:20+00:00               0      True   False                 Черновая отделка  Квартира: 6 ккв 308, 54 кв.м.,  2 этаж в компл...         1      6  2 балкона             2      2             3            Resort  кирпично-монолитный      Очередь 1        Корпус 98        2023              3     1      1.0             3.2               62222                62229  Россия  Ленинградская область      NaN         Красницы        Гатчинский             Гатчинский              Красницы дер.,           4  59.461561  30.328669      Купчино           NaN               60.0  58622600  308.54        110.79          66.54\n",
       "454    455  продажа         жилая  квартира  2021-04-28T11:16:35+00:00  2021-05-27T09:09:00+00:00               0      True   False  Подготовка под чистовую отделку  Квартира: 3 ккв 83, 91 кв.м.,  6 этаж в компле...         1      3     лоджия             2      6            11    ID Парк Победы  кирпично-монолитный      Очередь 2         Корпус 3        2024              1     1      1.0             3.0               65673                77063  Россия        Санкт-Петербург      NaN  Санкт-Петербург        Московский             Московский      Сызранская ул.,  д. 23/А        24  59.877217  30.339226  Электросила          15.0                NaN  20557950   83.91         48.84          17.25\n",
       "1674  1675  продажа         жилая  квартира  2019-05-16T14:44:39+00:00  2021-06-04T05:20:51+00:00               0      True   False               Отделка \"под ключ\"  Студия:  22, 10 кв.м.,  20 этаж в комплексе St...         1      1        нет   совмещенный     20            20             Start           монолитный      Очередь 1         Корпус 1        2021              4     1      1.0             2.8               62275                62257  Россия        Санкт-Петербург      NaN  Санкт-Петербург        Выборгский             Выборгский  Энгельса пр.,  д. 174/лит. А      2104  60.071612  30.342862       Парнас           5.0                NaN   2832099   22.10         18.90          18.90"
      ]
     },
     "metadata": {},
     "output_type": "display_data"
    }
   ],
   "source": [
    "display(df.sample(5))"
   ]
  },
  {
   "cell_type": "code",
   "execution_count": 68,
   "id": "00087446",
   "metadata": {},
   "outputs": [
    {
     "name": "stdout",
     "output_type": "stream",
     "text": [
      "<class 'pandas.core.frame.DataFrame'>\n",
      "RangeIndex: 2005 entries, 0 to 2004\n",
      "Data columns (total 45 columns):\n",
      " #   Column                  Non-Null Count  Dtype  \n",
      "---  ------                  --------------  -----  \n",
      " 0   id                      2005 non-null   int64  \n",
      " 1   type                    2005 non-null   object \n",
      " 2   property_type           2005 non-null   object \n",
      " 3   category                2005 non-null   object \n",
      " 4   creation_date           2005 non-null   object \n",
      " 5   last_update_date        2005 non-null   object \n",
      " 6   manually_added          2005 non-null   int64  \n",
      " 7   mortgage                2005 non-null   bool   \n",
      " 8   haggle                  2005 non-null   bool   \n",
      " 9   renovation              2000 non-null   object \n",
      " 10  description             2005 non-null   object \n",
      " 11  new_flat                2005 non-null   int64  \n",
      " 12  rooms                   2005 non-null   int64  \n",
      " 13  balcony                 2000 non-null   object \n",
      " 14  bathroom_unit           2000 non-null   object \n",
      " 15  floor                   2005 non-null   int64  \n",
      " 16  floors_total            2005 non-null   int64  \n",
      " 17  building_name           2005 non-null   object \n",
      " 18  building_type           2005 non-null   object \n",
      " 19  building_phase          2005 non-null   object \n",
      " 20  building_section        2005 non-null   object \n",
      " 21  built_year              2005 non-null   int64  \n",
      " 22  ready_quarter           2005 non-null   int64  \n",
      " 23  lift                    2005 non-null   int64  \n",
      " 24  parking                 1944 non-null   float64\n",
      " 25  ceiling_height          2005 non-null   float64\n",
      " 26  nmarket_complex_id      2005 non-null   int64  \n",
      " 27  nmarket_building_id     2005 non-null   int64  \n",
      " 28  country                 2005 non-null   object \n",
      " 29  region                  2005 non-null   object \n",
      " 30  district                196 non-null    object \n",
      " 31  locality_name           2005 non-null   object \n",
      " 32  sub_locality_name       1809 non-null   object \n",
      " 33  non_admin_sub_locality  2005 non-null   object \n",
      " 34  address                 2005 non-null   object \n",
      " 35  apartment               2005 non-null   object \n",
      " 36  latitude                2005 non-null   float64\n",
      " 37  longitude               2005 non-null   float64\n",
      " 38  name                    2004 non-null   object \n",
      " 39  time_on_foot            624 non-null    float64\n",
      " 40  time_on_transport       1380 non-null   float64\n",
      " 41  price                   2005 non-null   int64  \n",
      " 42  area                    2005 non-null   float64\n",
      " 43  living_space            2005 non-null   float64\n",
      " 44  kitchen_space           2005 non-null   float64\n",
      "dtypes: bool(2), float64(9), int64(12), object(22)\n",
      "memory usage: 677.6+ KB\n"
     ]
    }
   ],
   "source": [
    "df.info()"
   ]
  },
  {
   "cell_type": "code",
   "execution_count": 69,
   "id": "85e4d2ca",
   "metadata": {},
   "outputs": [
    {
     "data": {
      "text/html": [
       "<div>\n",
       "<style scoped>\n",
       "    .dataframe tbody tr th:only-of-type {\n",
       "        vertical-align: middle;\n",
       "    }\n",
       "\n",
       "    .dataframe tbody tr th {\n",
       "        vertical-align: top;\n",
       "    }\n",
       "\n",
       "    .dataframe thead th {\n",
       "        text-align: right;\n",
       "    }\n",
       "</style>\n",
       "<table border=\"1\" class=\"dataframe\">\n",
       "  <thead>\n",
       "    <tr style=\"text-align: right;\">\n",
       "      <th></th>\n",
       "      <th>count</th>\n",
       "      <th>mean</th>\n",
       "      <th>std</th>\n",
       "      <th>min</th>\n",
       "      <th>25%</th>\n",
       "      <th>50%</th>\n",
       "      <th>75%</th>\n",
       "      <th>max</th>\n",
       "    </tr>\n",
       "  </thead>\n",
       "  <tbody>\n",
       "    <tr>\n",
       "      <th>id</th>\n",
       "      <td>2005.0</td>\n",
       "      <td>1003.0</td>\n",
       "      <td>578.9</td>\n",
       "      <td>1.0</td>\n",
       "      <td>502.0</td>\n",
       "      <td>1003.0</td>\n",
       "      <td>1504.0</td>\n",
       "      <td>2005.0</td>\n",
       "    </tr>\n",
       "    <tr>\n",
       "      <th>manually_added</th>\n",
       "      <td>2005.0</td>\n",
       "      <td>0.0</td>\n",
       "      <td>0.0</td>\n",
       "      <td>0.0</td>\n",
       "      <td>0.0</td>\n",
       "      <td>0.0</td>\n",
       "      <td>0.0</td>\n",
       "      <td>0.0</td>\n",
       "    </tr>\n",
       "    <tr>\n",
       "      <th>new_flat</th>\n",
       "      <td>2005.0</td>\n",
       "      <td>1.0</td>\n",
       "      <td>0.0</td>\n",
       "      <td>1.0</td>\n",
       "      <td>1.0</td>\n",
       "      <td>1.0</td>\n",
       "      <td>1.0</td>\n",
       "      <td>1.0</td>\n",
       "    </tr>\n",
       "    <tr>\n",
       "      <th>rooms</th>\n",
       "      <td>2005.0</td>\n",
       "      <td>1.6</td>\n",
       "      <td>0.9</td>\n",
       "      <td>1.0</td>\n",
       "      <td>1.0</td>\n",
       "      <td>1.0</td>\n",
       "      <td>2.0</td>\n",
       "      <td>6.0</td>\n",
       "    </tr>\n",
       "    <tr>\n",
       "      <th>floor</th>\n",
       "      <td>2005.0</td>\n",
       "      <td>7.9</td>\n",
       "      <td>5.4</td>\n",
       "      <td>1.0</td>\n",
       "      <td>3.0</td>\n",
       "      <td>7.0</td>\n",
       "      <td>11.0</td>\n",
       "      <td>27.0</td>\n",
       "    </tr>\n",
       "    <tr>\n",
       "      <th>floors_total</th>\n",
       "      <td>2005.0</td>\n",
       "      <td>13.1</td>\n",
       "      <td>5.4</td>\n",
       "      <td>1.0</td>\n",
       "      <td>12.0</td>\n",
       "      <td>12.0</td>\n",
       "      <td>18.0</td>\n",
       "      <td>27.0</td>\n",
       "    </tr>\n",
       "    <tr>\n",
       "      <th>built_year</th>\n",
       "      <td>2005.0</td>\n",
       "      <td>2022.0</td>\n",
       "      <td>1.0</td>\n",
       "      <td>2014.0</td>\n",
       "      <td>2022.0</td>\n",
       "      <td>2022.0</td>\n",
       "      <td>2022.0</td>\n",
       "      <td>2024.0</td>\n",
       "    </tr>\n",
       "    <tr>\n",
       "      <th>ready_quarter</th>\n",
       "      <td>2005.0</td>\n",
       "      <td>3.4</td>\n",
       "      <td>0.8</td>\n",
       "      <td>1.0</td>\n",
       "      <td>3.0</td>\n",
       "      <td>4.0</td>\n",
       "      <td>4.0</td>\n",
       "      <td>4.0</td>\n",
       "    </tr>\n",
       "    <tr>\n",
       "      <th>lift</th>\n",
       "      <td>2005.0</td>\n",
       "      <td>1.0</td>\n",
       "      <td>0.0</td>\n",
       "      <td>1.0</td>\n",
       "      <td>1.0</td>\n",
       "      <td>1.0</td>\n",
       "      <td>1.0</td>\n",
       "      <td>1.0</td>\n",
       "    </tr>\n",
       "    <tr>\n",
       "      <th>parking</th>\n",
       "      <td>1944.0</td>\n",
       "      <td>1.0</td>\n",
       "      <td>0.0</td>\n",
       "      <td>1.0</td>\n",
       "      <td>1.0</td>\n",
       "      <td>1.0</td>\n",
       "      <td>1.0</td>\n",
       "      <td>1.0</td>\n",
       "    </tr>\n",
       "    <tr>\n",
       "      <th>ceiling_height</th>\n",
       "      <td>2005.0</td>\n",
       "      <td>2.4</td>\n",
       "      <td>1.0</td>\n",
       "      <td>0.0</td>\n",
       "      <td>2.7</td>\n",
       "      <td>2.8</td>\n",
       "      <td>2.8</td>\n",
       "      <td>3.7</td>\n",
       "    </tr>\n",
       "    <tr>\n",
       "      <th>nmarket_complex_id</th>\n",
       "      <td>2005.0</td>\n",
       "      <td>55841.7</td>\n",
       "      <td>21750.8</td>\n",
       "      <td>542.0</td>\n",
       "      <td>49585.0</td>\n",
       "      <td>62404.0</td>\n",
       "      <td>65673.0</td>\n",
       "      <td>77368.0</td>\n",
       "    </tr>\n",
       "    <tr>\n",
       "      <th>nmarket_building_id</th>\n",
       "      <td>2005.0</td>\n",
       "      <td>66676.5</td>\n",
       "      <td>6817.7</td>\n",
       "      <td>1820.0</td>\n",
       "      <td>62408.0</td>\n",
       "      <td>64061.0</td>\n",
       "      <td>77063.0</td>\n",
       "      <td>77394.0</td>\n",
       "    </tr>\n",
       "    <tr>\n",
       "      <th>latitude</th>\n",
       "      <td>2005.0</td>\n",
       "      <td>60.0</td>\n",
       "      <td>0.2</td>\n",
       "      <td>59.5</td>\n",
       "      <td>59.9</td>\n",
       "      <td>60.0</td>\n",
       "      <td>60.1</td>\n",
       "      <td>60.1</td>\n",
       "    </tr>\n",
       "    <tr>\n",
       "      <th>longitude</th>\n",
       "      <td>2005.0</td>\n",
       "      <td>30.3</td>\n",
       "      <td>0.1</td>\n",
       "      <td>30.0</td>\n",
       "      <td>30.2</td>\n",
       "      <td>30.3</td>\n",
       "      <td>30.4</td>\n",
       "      <td>30.6</td>\n",
       "    </tr>\n",
       "    <tr>\n",
       "      <th>time_on_foot</th>\n",
       "      <td>624.0</td>\n",
       "      <td>9.3</td>\n",
       "      <td>6.5</td>\n",
       "      <td>3.0</td>\n",
       "      <td>5.0</td>\n",
       "      <td>5.0</td>\n",
       "      <td>15.0</td>\n",
       "      <td>20.0</td>\n",
       "    </tr>\n",
       "    <tr>\n",
       "      <th>time_on_transport</th>\n",
       "      <td>1380.0</td>\n",
       "      <td>15.9</td>\n",
       "      <td>15.7</td>\n",
       "      <td>5.0</td>\n",
       "      <td>10.0</td>\n",
       "      <td>10.0</td>\n",
       "      <td>15.0</td>\n",
       "      <td>60.0</td>\n",
       "    </tr>\n",
       "    <tr>\n",
       "      <th>price</th>\n",
       "      <td>2005.0</td>\n",
       "      <td>10659746.6</td>\n",
       "      <td>9705870.0</td>\n",
       "      <td>2810000.0</td>\n",
       "      <td>5495400.0</td>\n",
       "      <td>7489208.0</td>\n",
       "      <td>12814848.0</td>\n",
       "      <td>82788300.0</td>\n",
       "    </tr>\n",
       "    <tr>\n",
       "      <th>area</th>\n",
       "      <td>2005.0</td>\n",
       "      <td>62.2</td>\n",
       "      <td>90.2</td>\n",
       "      <td>20.8</td>\n",
       "      <td>33.3</td>\n",
       "      <td>48.4</td>\n",
       "      <td>65.7</td>\n",
       "      <td>1757.0</td>\n",
       "    </tr>\n",
       "    <tr>\n",
       "      <th>living_space</th>\n",
       "      <td>2005.0</td>\n",
       "      <td>25.2</td>\n",
       "      <td>14.6</td>\n",
       "      <td>1.0</td>\n",
       "      <td>14.6</td>\n",
       "      <td>22.2</td>\n",
       "      <td>30.5</td>\n",
       "      <td>136.9</td>\n",
       "    </tr>\n",
       "    <tr>\n",
       "      <th>kitchen_space</th>\n",
       "      <td>2005.0</td>\n",
       "      <td>19.8</td>\n",
       "      <td>10.6</td>\n",
       "      <td>1.0</td>\n",
       "      <td>13.7</td>\n",
       "      <td>18.6</td>\n",
       "      <td>22.2</td>\n",
       "      <td>87.4</td>\n",
       "    </tr>\n",
       "  </tbody>\n",
       "</table>\n",
       "</div>"
      ],
      "text/plain": [
       "                     count       mean       std       min       25%       50%        75%        max\n",
       "id                  2005.0     1003.0     578.9       1.0     502.0    1003.0     1504.0     2005.0\n",
       "manually_added      2005.0        0.0       0.0       0.0       0.0       0.0        0.0        0.0\n",
       "new_flat            2005.0        1.0       0.0       1.0       1.0       1.0        1.0        1.0\n",
       "rooms               2005.0        1.6       0.9       1.0       1.0       1.0        2.0        6.0\n",
       "floor               2005.0        7.9       5.4       1.0       3.0       7.0       11.0       27.0\n",
       "floors_total        2005.0       13.1       5.4       1.0      12.0      12.0       18.0       27.0\n",
       "built_year          2005.0     2022.0       1.0    2014.0    2022.0    2022.0     2022.0     2024.0\n",
       "ready_quarter       2005.0        3.4       0.8       1.0       3.0       4.0        4.0        4.0\n",
       "lift                2005.0        1.0       0.0       1.0       1.0       1.0        1.0        1.0\n",
       "parking             1944.0        1.0       0.0       1.0       1.0       1.0        1.0        1.0\n",
       "ceiling_height      2005.0        2.4       1.0       0.0       2.7       2.8        2.8        3.7\n",
       "nmarket_complex_id  2005.0    55841.7   21750.8     542.0   49585.0   62404.0    65673.0    77368.0\n",
       "nmarket_building_id 2005.0    66676.5    6817.7    1820.0   62408.0   64061.0    77063.0    77394.0\n",
       "latitude            2005.0       60.0       0.2      59.5      59.9      60.0       60.1       60.1\n",
       "longitude           2005.0       30.3       0.1      30.0      30.2      30.3       30.4       30.6\n",
       "time_on_foot         624.0        9.3       6.5       3.0       5.0       5.0       15.0       20.0\n",
       "time_on_transport   1380.0       15.9      15.7       5.0      10.0      10.0       15.0       60.0\n",
       "price               2005.0 10659746.6 9705870.0 2810000.0 5495400.0 7489208.0 12814848.0 82788300.0\n",
       "area                2005.0       62.2      90.2      20.8      33.3      48.4       65.7     1757.0\n",
       "living_space        2005.0       25.2      14.6       1.0      14.6      22.2       30.5      136.9\n",
       "kitchen_space       2005.0       19.8      10.6       1.0      13.7      18.6       22.2       87.4"
      ]
     },
     "execution_count": 69,
     "metadata": {},
     "output_type": "execute_result"
    }
   ],
   "source": [
    "pd.set_option('display.float_format', lambda x: '%.1f' % x)\n",
    "df.describe().T"
   ]
  },
  {
   "cell_type": "code",
   "execution_count": 70,
   "id": "3021bbba",
   "metadata": {},
   "outputs": [],
   "source": [
    "df = df.rename(columns={\"name\": \"metro\"})"
   ]
  },
  {
   "cell_type": "markdown",
   "id": "562dedbd",
   "metadata": {},
   "source": [
    "## Проверка на Null"
   ]
  },
  {
   "cell_type": "code",
   "execution_count": 71,
   "id": "e32f68ac",
   "metadata": {},
   "outputs": [],
   "source": [
    "def missing_zero_values_table(df):\n",
    "        zero_val = (df == 0.00).astype(int).sum(axis=0)\n",
    "        mis_val = df.isnull().sum()\n",
    "        mis_val_percent = 100 * df.isnull().sum() / len(df)\n",
    "        mz_table = pd.concat([zero_val, mis_val, mis_val_percent], axis=1)\n",
    "        mz_table = mz_table.rename(\n",
    "        columns = {0 : 'Zero Values', 1 : 'Missing Values', 2 : '% of Total Values'})\n",
    "        mz_table['Total Zero Missing Values'] = mz_table['Zero Values'] + mz_table['Missing Values']\n",
    "        mz_table['% Total Zero Missing Values'] = 100 * mz_table['Total Zero Missing Values'] / len(df)\n",
    "        mz_table['Data Type'] = df.dtypes\n",
    "        mz_table = mz_table[\n",
    "            mz_table.iloc[:,1] != 0].sort_values(\n",
    "        '% of Total Values', ascending=False).round(1)\n",
    "        print (\"Your selected dataframe has \" + str(df.shape[1]) + \" columns and \" + str(df.shape[0]) + \" Rows.\\n\"      \n",
    "            \"There are \" + str(mz_table.shape[0]) +\n",
    "              \" columns that have missing values.\")\n",
    "        return mz_table"
   ]
  },
  {
   "cell_type": "code",
   "execution_count": 72,
   "id": "e1a78a97",
   "metadata": {
    "scrolled": false
   },
   "outputs": [
    {
     "name": "stdout",
     "output_type": "stream",
     "text": [
      "Your selected dataframe has 45 columns and 2005 Rows.\n",
      "There are 9 columns that have missing values.\n"
     ]
    },
    {
     "data": {
      "text/html": [
       "<div>\n",
       "<style scoped>\n",
       "    .dataframe tbody tr th:only-of-type {\n",
       "        vertical-align: middle;\n",
       "    }\n",
       "\n",
       "    .dataframe tbody tr th {\n",
       "        vertical-align: top;\n",
       "    }\n",
       "\n",
       "    .dataframe thead th {\n",
       "        text-align: right;\n",
       "    }\n",
       "</style>\n",
       "<table border=\"1\" class=\"dataframe\">\n",
       "  <thead>\n",
       "    <tr style=\"text-align: right;\">\n",
       "      <th></th>\n",
       "      <th>Zero Values</th>\n",
       "      <th>Missing Values</th>\n",
       "      <th>% of Total Values</th>\n",
       "      <th>Total Zero Missing Values</th>\n",
       "      <th>% Total Zero Missing Values</th>\n",
       "      <th>Data Type</th>\n",
       "    </tr>\n",
       "  </thead>\n",
       "  <tbody>\n",
       "    <tr>\n",
       "      <th>district</th>\n",
       "      <td>0</td>\n",
       "      <td>1809</td>\n",
       "      <td>90.2</td>\n",
       "      <td>1809</td>\n",
       "      <td>90.2</td>\n",
       "      <td>object</td>\n",
       "    </tr>\n",
       "    <tr>\n",
       "      <th>time_on_foot</th>\n",
       "      <td>0</td>\n",
       "      <td>1381</td>\n",
       "      <td>68.9</td>\n",
       "      <td>1381</td>\n",
       "      <td>68.9</td>\n",
       "      <td>float64</td>\n",
       "    </tr>\n",
       "    <tr>\n",
       "      <th>time_on_transport</th>\n",
       "      <td>0</td>\n",
       "      <td>625</td>\n",
       "      <td>31.2</td>\n",
       "      <td>625</td>\n",
       "      <td>31.2</td>\n",
       "      <td>float64</td>\n",
       "    </tr>\n",
       "    <tr>\n",
       "      <th>sub_locality_name</th>\n",
       "      <td>0</td>\n",
       "      <td>196</td>\n",
       "      <td>9.8</td>\n",
       "      <td>196</td>\n",
       "      <td>9.8</td>\n",
       "      <td>object</td>\n",
       "    </tr>\n",
       "    <tr>\n",
       "      <th>parking</th>\n",
       "      <td>0</td>\n",
       "      <td>61</td>\n",
       "      <td>3.0</td>\n",
       "      <td>61</td>\n",
       "      <td>3.0</td>\n",
       "      <td>float64</td>\n",
       "    </tr>\n",
       "    <tr>\n",
       "      <th>renovation</th>\n",
       "      <td>0</td>\n",
       "      <td>5</td>\n",
       "      <td>0.2</td>\n",
       "      <td>5</td>\n",
       "      <td>0.2</td>\n",
       "      <td>object</td>\n",
       "    </tr>\n",
       "    <tr>\n",
       "      <th>balcony</th>\n",
       "      <td>0</td>\n",
       "      <td>5</td>\n",
       "      <td>0.2</td>\n",
       "      <td>5</td>\n",
       "      <td>0.2</td>\n",
       "      <td>object</td>\n",
       "    </tr>\n",
       "    <tr>\n",
       "      <th>bathroom_unit</th>\n",
       "      <td>0</td>\n",
       "      <td>5</td>\n",
       "      <td>0.2</td>\n",
       "      <td>5</td>\n",
       "      <td>0.2</td>\n",
       "      <td>object</td>\n",
       "    </tr>\n",
       "    <tr>\n",
       "      <th>metro</th>\n",
       "      <td>0</td>\n",
       "      <td>1</td>\n",
       "      <td>0.0</td>\n",
       "      <td>1</td>\n",
       "      <td>0.0</td>\n",
       "      <td>object</td>\n",
       "    </tr>\n",
       "  </tbody>\n",
       "</table>\n",
       "</div>"
      ],
      "text/plain": [
       "                   Zero Values  Missing Values  % of Total Values  Total Zero Missing Values  % Total Zero Missing Values Data Type\n",
       "district                     0            1809               90.2                       1809                         90.2    object\n",
       "time_on_foot                 0            1381               68.9                       1381                         68.9   float64\n",
       "time_on_transport            0             625               31.2                        625                         31.2   float64\n",
       "sub_locality_name            0             196                9.8                        196                          9.8    object\n",
       "parking                      0              61                3.0                         61                          3.0   float64\n",
       "renovation                   0               5                0.2                          5                          0.2    object\n",
       "balcony                      0               5                0.2                          5                          0.2    object\n",
       "bathroom_unit                0               5                0.2                          5                          0.2    object\n",
       "metro                        0               1                0.0                          1                          0.0    object"
      ]
     },
     "execution_count": 72,
     "metadata": {},
     "output_type": "execute_result"
    }
   ],
   "source": [
    "pd.reset_option(\"display.float_format\")\n",
    "missing_zero_values_table(df)"
   ]
  },
  {
   "cell_type": "markdown",
   "id": "d56fddc2",
   "metadata": {},
   "source": [
    "Предполагаем что пропущенные значения в balcony, parking, renovation свидетельствуют об отсутсвии, bathroom_unit заменим на совмещенный, наименование станции метро проверим на основании адреса здания, при не совпадении отметим как \"нет\". time_on_foot и time_on_transport заменим на -1. Остальные столбцы проверим на дубликаты далее."
   ]
  },
  {
   "cell_type": "code",
   "execution_count": 73,
   "id": "67d29c7d",
   "metadata": {},
   "outputs": [],
   "source": [
    "df.parking = df.parking.fillna(0)\n",
    "df.balcony = df.balcony.fillna('нет')\n",
    "df.renovation = df.renovation.fillna('Черновая отделка')\n",
    "df.bathroom_unit = df.bathroom_unit.fillna('cовмещенный')"
   ]
  },
  {
   "cell_type": "code",
   "execution_count": 74,
   "id": "581df8b6",
   "metadata": {},
   "outputs": [
    {
     "data": {
      "text/html": [
       "<div>\n",
       "<style scoped>\n",
       "    .dataframe tbody tr th:only-of-type {\n",
       "        vertical-align: middle;\n",
       "    }\n",
       "\n",
       "    .dataframe tbody tr th {\n",
       "        vertical-align: top;\n",
       "    }\n",
       "\n",
       "    .dataframe thead th {\n",
       "        text-align: right;\n",
       "    }\n",
       "</style>\n",
       "<table border=\"1\" class=\"dataframe\">\n",
       "  <thead>\n",
       "    <tr style=\"text-align: right;\">\n",
       "      <th></th>\n",
       "      <th>id</th>\n",
       "      <th>type</th>\n",
       "      <th>property_type</th>\n",
       "      <th>category</th>\n",
       "      <th>creation_date</th>\n",
       "      <th>last_update_date</th>\n",
       "      <th>manually_added</th>\n",
       "      <th>mortgage</th>\n",
       "      <th>haggle</th>\n",
       "      <th>renovation</th>\n",
       "      <th>description</th>\n",
       "      <th>new_flat</th>\n",
       "      <th>rooms</th>\n",
       "      <th>balcony</th>\n",
       "      <th>bathroom_unit</th>\n",
       "      <th>floor</th>\n",
       "      <th>floors_total</th>\n",
       "      <th>building_name</th>\n",
       "      <th>building_type</th>\n",
       "      <th>building_phase</th>\n",
       "      <th>building_section</th>\n",
       "      <th>built_year</th>\n",
       "      <th>ready_quarter</th>\n",
       "      <th>lift</th>\n",
       "      <th>parking</th>\n",
       "      <th>ceiling_height</th>\n",
       "      <th>nmarket_complex_id</th>\n",
       "      <th>nmarket_building_id</th>\n",
       "      <th>country</th>\n",
       "      <th>region</th>\n",
       "      <th>district</th>\n",
       "      <th>locality_name</th>\n",
       "      <th>sub_locality_name</th>\n",
       "      <th>non_admin_sub_locality</th>\n",
       "      <th>address</th>\n",
       "      <th>apartment</th>\n",
       "      <th>latitude</th>\n",
       "      <th>longitude</th>\n",
       "      <th>metro</th>\n",
       "      <th>time_on_foot</th>\n",
       "      <th>time_on_transport</th>\n",
       "      <th>price</th>\n",
       "      <th>area</th>\n",
       "      <th>living_space</th>\n",
       "      <th>kitchen_space</th>\n",
       "    </tr>\n",
       "  </thead>\n",
       "  <tbody>\n",
       "    <tr>\n",
       "      <th>1857</th>\n",
       "      <td>1858</td>\n",
       "      <td>продажа</td>\n",
       "      <td>жилая</td>\n",
       "      <td>квартира</td>\n",
       "      <td>2019-07-15T12:15:35+00:00</td>\n",
       "      <td>2021-04-02T11:16:00+00:00</td>\n",
       "      <td>0</td>\n",
       "      <td>True</td>\n",
       "      <td>False</td>\n",
       "      <td>Черновая отделка</td>\n",
       "      <td>Квартира: 4 ккв 231, 90 кв.м.,  8 этаж в компл...</td>\n",
       "      <td>1</td>\n",
       "      <td>4</td>\n",
       "      <td>терраса</td>\n",
       "      <td>2</td>\n",
       "      <td>8</td>\n",
       "      <td>8</td>\n",
       "      <td>Лахта Плаза</td>\n",
       "      <td>кирпично-монолитный</td>\n",
       "      <td>Очередь 2</td>\n",
       "      <td>Корпус А</td>\n",
       "      <td>2016</td>\n",
       "      <td>3</td>\n",
       "      <td>1</td>\n",
       "      <td>1.0</td>\n",
       "      <td>2.75</td>\n",
       "      <td>62646</td>\n",
       "      <td>62649</td>\n",
       "      <td>Россия</td>\n",
       "      <td>Санкт-Петербург</td>\n",
       "      <td>NaN</td>\n",
       "      <td>Санкт-Петербург</td>\n",
       "      <td>Приморский</td>\n",
       "      <td>Приморский</td>\n",
       "      <td>Приморский пр.,  д. 78/2</td>\n",
       "      <td>33-Н</td>\n",
       "      <td>59.987588</td>\n",
       "      <td>30.18798</td>\n",
       "      <td>NaN</td>\n",
       "      <td>NaN</td>\n",
       "      <td>NaN</td>\n",
       "      <td>82788300</td>\n",
       "      <td>231.9</td>\n",
       "      <td>72.5</td>\n",
       "      <td>74.5</td>\n",
       "    </tr>\n",
       "  </tbody>\n",
       "</table>\n",
       "</div>"
      ],
      "text/plain": [
       "        id     type property_type  category              creation_date           last_update_date  manually_added  mortgage  haggle        renovation                                        description  new_flat  rooms  balcony bathroom_unit  floor  floors_total building_name        building_type building_phase building_section  built_year  ready_quarter  lift  parking  ceiling_height  nmarket_complex_id  nmarket_building_id country           region district    locality_name sub_locality_name non_admin_sub_locality                   address apartment   latitude  longitude metro  time_on_foot  time_on_transport     price   area  living_space  kitchen_space\n",
       "1857  1858  продажа         жилая  квартира  2019-07-15T12:15:35+00:00  2021-04-02T11:16:00+00:00               0      True   False  Черновая отделка  Квартира: 4 ккв 231, 90 кв.м.,  8 этаж в компл...         1      4  терраса             2      8             8   Лахта Плаза  кирпично-монолитный      Очередь 2         Корпус А        2016              3     1      1.0            2.75               62646                62649  Россия  Санкт-Петербург      NaN  Санкт-Петербург        Приморский             Приморский  Приморский пр.,  д. 78/2      33-Н  59.987588   30.18798   NaN           NaN                NaN  82788300  231.9          72.5           74.5"
      ]
     },
     "execution_count": 74,
     "metadata": {},
     "output_type": "execute_result"
    }
   ],
   "source": [
    "df[df['address'].str.contains('Приморский')]"
   ]
  },
  {
   "cell_type": "code",
   "execution_count": 75,
   "id": "556ae125",
   "metadata": {},
   "outputs": [],
   "source": [
    "df.metro = df.metro.fillna('нет')"
   ]
  },
  {
   "cell_type": "code",
   "execution_count": 76,
   "id": "ce4ead46",
   "metadata": {},
   "outputs": [],
   "source": [
    "df.time_on_foot = df.time_on_foot.fillna(-1)\n",
    "df.time_on_transport = df.time_on_transport.fillna(-1)"
   ]
  },
  {
   "cell_type": "markdown",
   "id": "1d38c53e",
   "metadata": {},
   "source": [
    "## Замена типов данных"
   ]
  },
  {
   "cell_type": "code",
   "execution_count": 77,
   "id": "82d4bca6",
   "metadata": {},
   "outputs": [],
   "source": [
    "df['creation_date'] = pd.to_datetime(df['creation_date'], yearfirst=True)\n",
    "df['last_update_date'] = pd.to_datetime(df['creation_date'], yearfirst=True)\n",
    "\n",
    "df['parking'] = df['parking'].apply(lambda x: int(x))"
   ]
  },
  {
   "cell_type": "code",
   "execution_count": 78,
   "id": "a7382321",
   "metadata": {},
   "outputs": [
    {
     "name": "stdout",
     "output_type": "stream",
     "text": [
      "2021-06-09 08:35:58+00:00\n",
      "2019-03-07 13:39:55+00:00\n"
     ]
    },
    {
     "data": {
      "text/plain": [
       "Timedelta('824 days 18:56:03')"
      ]
     },
     "execution_count": 78,
     "metadata": {},
     "output_type": "execute_result"
    }
   ],
   "source": [
    "print(df.creation_date.max())\n",
    "print(df.creation_date.min())\n",
    "df.creation_date.max()-df.creation_date.min()"
   ]
  },
  {
   "cell_type": "markdown",
   "id": "ccf448a8",
   "metadata": {},
   "source": [
    "## Проверка дубликатов"
   ]
  },
  {
   "cell_type": "code",
   "execution_count": 79,
   "id": "84ad4619",
   "metadata": {},
   "outputs": [
    {
     "data": {
      "text/plain": [
       "0"
      ]
     },
     "execution_count": 79,
     "metadata": {},
     "output_type": "execute_result"
    }
   ],
   "source": [
    "df.duplicated().sum()"
   ]
  },
  {
   "cell_type": "markdown",
   "id": "25d71f58",
   "metadata": {},
   "source": [
    "Проверим соответствия между районами"
   ]
  },
  {
   "cell_type": "code",
   "execution_count": 80,
   "id": "7640446b",
   "metadata": {},
   "outputs": [
    {
     "name": "stdout",
     "output_type": "stream",
     "text": [
      "[nan 'Тосненский район' 'Всеволожский район' 'Петродворцовый район'\n",
      " 'Приморский район' 'Пушкинский район' 'Гатчинский район'\n",
      " 'Ломоносовский район' 'Колпинский район']\n",
      "\n",
      "['Калининский' 'Московский' 'Выборгский' 'Всеволожский' nan\n",
      " 'Красногвардейский' 'Адмиралтейский' 'Приморский' 'Фрунзенский'\n",
      " 'Кировский' 'Красносельский' 'Гатчинский']\n",
      "\n",
      "['Калининский' 'Московский' 'Выборгский' 'Всеволожский' 'Тосненский'\n",
      " 'Красногвардейский' 'Адмиралтейский' 'Приморский' 'Петродворцовый'\n",
      " 'Пушкинский' 'Фрунзенский' 'Гатчинский' 'Кировский' 'Красносельский'\n",
      " 'Ломоносовский' 'Колпинский']\n"
     ]
    }
   ],
   "source": [
    "print(df.district.unique())\n",
    "print()\n",
    "print(df.sub_locality_name.unique())\n",
    "print()\n",
    "print(df.non_admin_sub_locality.unique())"
   ]
  },
  {
   "cell_type": "code",
   "execution_count": 81,
   "id": "7369a598",
   "metadata": {},
   "outputs": [],
   "source": [
    "df.district = df.district.fillna(' район')"
   ]
  },
  {
   "cell_type": "code",
   "execution_count": 82,
   "id": "73d25ba3",
   "metadata": {},
   "outputs": [],
   "source": [
    "df.district = df.district.apply(lambda x: x.replace(' район', '', 1))"
   ]
  },
  {
   "cell_type": "code",
   "execution_count": 83,
   "id": "8b633d65",
   "metadata": {},
   "outputs": [],
   "source": [
    "df.sub_locality_name = df.sub_locality_name.fillna('')"
   ]
  },
  {
   "cell_type": "code",
   "execution_count": 84,
   "id": "64b4cbb6",
   "metadata": {},
   "outputs": [
    {
     "name": "stdout",
     "output_type": "stream",
     "text": [
      "(0, 45)\n",
      "(196, 45)\n",
      "(1809, 45)\n",
      "2005\n"
     ]
    }
   ],
   "source": [
    "print(df[df['district']==df['sub_locality_name']].shape)\n",
    "print(df[df['district']==df['non_admin_sub_locality']].shape)\n",
    "print(df[df['non_admin_sub_locality']==df['sub_locality_name']].shape)\n",
    "print(df[df['non_admin_sub_locality']==df['sub_locality_name']].shape[0] + \\\n",
    "                df[df['district']==df['non_admin_sub_locality']].shape[0])"
   ]
  },
  {
   "cell_type": "code",
   "execution_count": 85,
   "id": "c17f8718",
   "metadata": {},
   "outputs": [],
   "source": [
    "pd.set_option('display.max_rows', 100)"
   ]
  },
  {
   "cell_type": "code",
   "execution_count": 86,
   "id": "d33c5519",
   "metadata": {},
   "outputs": [
    {
     "data": {
      "text/html": [
       "<div>\n",
       "<style scoped>\n",
       "    .dataframe tbody tr th:only-of-type {\n",
       "        vertical-align: middle;\n",
       "    }\n",
       "\n",
       "    .dataframe tbody tr th {\n",
       "        vertical-align: top;\n",
       "    }\n",
       "\n",
       "    .dataframe thead th {\n",
       "        text-align: right;\n",
       "    }\n",
       "</style>\n",
       "<table border=\"1\" class=\"dataframe\">\n",
       "  <thead>\n",
       "    <tr style=\"text-align: right;\">\n",
       "      <th></th>\n",
       "      <th>district</th>\n",
       "      <th>sub_locality_name</th>\n",
       "      <th>non_admin_sub_locality</th>\n",
       "      <th>region</th>\n",
       "    </tr>\n",
       "  </thead>\n",
       "  <tbody>\n",
       "    <tr>\n",
       "      <th>472</th>\n",
       "      <td></td>\n",
       "      <td>Московский</td>\n",
       "      <td>Московский</td>\n",
       "      <td>Санкт-Петербург</td>\n",
       "    </tr>\n",
       "    <tr>\n",
       "      <th>807</th>\n",
       "      <td></td>\n",
       "      <td>Приморский</td>\n",
       "      <td>Приморский</td>\n",
       "      <td>Санкт-Петербург</td>\n",
       "    </tr>\n",
       "    <tr>\n",
       "      <th>675</th>\n",
       "      <td></td>\n",
       "      <td>Приморский</td>\n",
       "      <td>Приморский</td>\n",
       "      <td>Санкт-Петербург</td>\n",
       "    </tr>\n",
       "    <tr>\n",
       "      <th>642</th>\n",
       "      <td></td>\n",
       "      <td>Приморский</td>\n",
       "      <td>Приморский</td>\n",
       "      <td>Санкт-Петербург</td>\n",
       "    </tr>\n",
       "    <tr>\n",
       "      <th>1814</th>\n",
       "      <td></td>\n",
       "      <td>Гатчинский</td>\n",
       "      <td>Гатчинский</td>\n",
       "      <td>Ленинградская область</td>\n",
       "    </tr>\n",
       "    <tr>\n",
       "      <th>1309</th>\n",
       "      <td>Всеволожский</td>\n",
       "      <td></td>\n",
       "      <td>Всеволожский</td>\n",
       "      <td>Ленинградская область</td>\n",
       "    </tr>\n",
       "    <tr>\n",
       "      <th>981</th>\n",
       "      <td></td>\n",
       "      <td>Приморский</td>\n",
       "      <td>Приморский</td>\n",
       "      <td>Санкт-Петербург</td>\n",
       "    </tr>\n",
       "    <tr>\n",
       "      <th>960</th>\n",
       "      <td></td>\n",
       "      <td>Приморский</td>\n",
       "      <td>Приморский</td>\n",
       "      <td>Санкт-Петербург</td>\n",
       "    </tr>\n",
       "    <tr>\n",
       "      <th>418</th>\n",
       "      <td></td>\n",
       "      <td>Всеволожский</td>\n",
       "      <td>Всеволожский</td>\n",
       "      <td>Ленинградская область</td>\n",
       "    </tr>\n",
       "    <tr>\n",
       "      <th>180</th>\n",
       "      <td></td>\n",
       "      <td>Всеволожский</td>\n",
       "      <td>Всеволожский</td>\n",
       "      <td>Ленинградская область</td>\n",
       "    </tr>\n",
       "    <tr>\n",
       "      <th>1686</th>\n",
       "      <td></td>\n",
       "      <td>Выборгский</td>\n",
       "      <td>Выборгский</td>\n",
       "      <td>Санкт-Петербург</td>\n",
       "    </tr>\n",
       "    <tr>\n",
       "      <th>570</th>\n",
       "      <td></td>\n",
       "      <td>Приморский</td>\n",
       "      <td>Приморский</td>\n",
       "      <td>Санкт-Петербург</td>\n",
       "    </tr>\n",
       "    <tr>\n",
       "      <th>1753</th>\n",
       "      <td>Ломоносовский</td>\n",
       "      <td></td>\n",
       "      <td>Ломоносовский</td>\n",
       "      <td>Ленинградская область</td>\n",
       "    </tr>\n",
       "    <tr>\n",
       "      <th>1851</th>\n",
       "      <td></td>\n",
       "      <td>Гатчинский</td>\n",
       "      <td>Гатчинский</td>\n",
       "      <td>Ленинградская область</td>\n",
       "    </tr>\n",
       "    <tr>\n",
       "      <th>270</th>\n",
       "      <td></td>\n",
       "      <td>Всеволожский</td>\n",
       "      <td>Всеволожский</td>\n",
       "      <td>Ленинградская область</td>\n",
       "    </tr>\n",
       "    <tr>\n",
       "      <th>977</th>\n",
       "      <td></td>\n",
       "      <td>Приморский</td>\n",
       "      <td>Приморский</td>\n",
       "      <td>Санкт-Петербург</td>\n",
       "    </tr>\n",
       "    <tr>\n",
       "      <th>352</th>\n",
       "      <td></td>\n",
       "      <td>Всеволожский</td>\n",
       "      <td>Всеволожский</td>\n",
       "      <td>Ленинградская область</td>\n",
       "    </tr>\n",
       "    <tr>\n",
       "      <th>1358</th>\n",
       "      <td></td>\n",
       "      <td>Приморский</td>\n",
       "      <td>Приморский</td>\n",
       "      <td>Санкт-Петербург</td>\n",
       "    </tr>\n",
       "    <tr>\n",
       "      <th>1632</th>\n",
       "      <td></td>\n",
       "      <td>Выборгский</td>\n",
       "      <td>Выборгский</td>\n",
       "      <td>Санкт-Петербург</td>\n",
       "    </tr>\n",
       "    <tr>\n",
       "      <th>1217</th>\n",
       "      <td></td>\n",
       "      <td>Фрунзенский</td>\n",
       "      <td>Фрунзенский</td>\n",
       "      <td>Санкт-Петербург</td>\n",
       "    </tr>\n",
       "  </tbody>\n",
       "</table>\n",
       "</div>"
      ],
      "text/plain": [
       "           district sub_locality_name non_admin_sub_locality                 region\n",
       "472                        Московский             Московский        Санкт-Петербург\n",
       "807                        Приморский             Приморский        Санкт-Петербург\n",
       "675                        Приморский             Приморский        Санкт-Петербург\n",
       "642                        Приморский             Приморский        Санкт-Петербург\n",
       "1814                       Гатчинский             Гатчинский  Ленинградская область\n",
       "1309   Всеволожский                             Всеволожский  Ленинградская область\n",
       "981                        Приморский             Приморский        Санкт-Петербург\n",
       "960                        Приморский             Приморский        Санкт-Петербург\n",
       "418                      Всеволожский           Всеволожский  Ленинградская область\n",
       "180                      Всеволожский           Всеволожский  Ленинградская область\n",
       "1686                       Выборгский             Выборгский        Санкт-Петербург\n",
       "570                        Приморский             Приморский        Санкт-Петербург\n",
       "1753  Ломоносовский                            Ломоносовский  Ленинградская область\n",
       "1851                       Гатчинский             Гатчинский  Ленинградская область\n",
       "270                      Всеволожский           Всеволожский  Ленинградская область\n",
       "977                        Приморский             Приморский        Санкт-Петербург\n",
       "352                      Всеволожский           Всеволожский  Ленинградская область\n",
       "1358                       Приморский             Приморский        Санкт-Петербург\n",
       "1632                       Выборгский             Выборгский        Санкт-Петербург\n",
       "1217                      Фрунзенский            Фрунзенский        Санкт-Петербург"
      ]
     },
     "execution_count": 86,
     "metadata": {},
     "output_type": "execute_result"
    }
   ],
   "source": [
    "df[['district','sub_locality_name','non_admin_sub_locality', 'region']].sample(20, random_state=2)"
   ]
  },
  {
   "cell_type": "markdown",
   "id": "45be54f2",
   "metadata": {},
   "source": [
    "Нет зависимости района внесенного в разные столбцы от принадлежности к области или городу - например Всеволожский район внесен в разные столбцы.\n",
    "\n",
    "При этом значения столбцов district и sub_locality_name содержатся в non_admin_sub_locality. Удалим дублирующие столбцы"
   ]
  },
  {
   "cell_type": "code",
   "execution_count": 87,
   "id": "1ef718e0",
   "metadata": {},
   "outputs": [],
   "source": [
    "del df['district']\n",
    "del df['sub_locality_name']"
   ]
  },
  {
   "cell_type": "markdown",
   "id": "b998c1f9",
   "metadata": {},
   "source": [
    "## Проверка на аномалии"
   ]
  },
  {
   "cell_type": "markdown",
   "id": "aecde316",
   "metadata": {},
   "source": [
    "Заменим нулевые значения высоты потолка на среднее"
   ]
  },
  {
   "cell_type": "code",
   "execution_count": 88,
   "id": "caba36aa",
   "metadata": {},
   "outputs": [
    {
     "data": {
      "text/plain": [
       "277"
      ]
     },
     "execution_count": 88,
     "metadata": {},
     "output_type": "execute_result"
    }
   ],
   "source": [
    "(df['ceiling_height'] == 0).sum()"
   ]
  },
  {
   "cell_type": "code",
   "execution_count": 89,
   "id": "93827d88",
   "metadata": {},
   "outputs": [
    {
     "data": {
      "text/plain": [
       "2.8"
      ]
     },
     "execution_count": 89,
     "metadata": {},
     "output_type": "execute_result"
    }
   ],
   "source": [
    "ceiling_height_mean = round(df[df['ceiling_height']!=0]['ceiling_height'].mean(), 1)\n",
    "ceiling_height_mean"
   ]
  },
  {
   "cell_type": "code",
   "execution_count": 90,
   "id": "0fd0a1b6",
   "metadata": {},
   "outputs": [],
   "source": [
    "df.ceiling_height.loc[df.ceiling_height ==0] = ceiling_height_mean"
   ]
  },
  {
   "cell_type": "code",
   "execution_count": 91,
   "id": "1b9edfbb",
   "metadata": {},
   "outputs": [
    {
     "data": {
      "text/plain": [
       "2.75    711\n",
       "2.80    505\n",
       "3.00    412\n",
       "2.70    140\n",
       "2.60     91\n",
       "3.20     67\n",
       "2.72     60\n",
       "2.85     11\n",
       "3.70      8\n",
       "Name: ceiling_height, dtype: int64"
      ]
     },
     "execution_count": 91,
     "metadata": {},
     "output_type": "execute_result"
    }
   ],
   "source": [
    "df['ceiling_height'].value_counts()"
   ]
  },
  {
   "cell_type": "markdown",
   "id": "1c973b7c",
   "metadata": {},
   "source": [
    "## Добавление признаков"
   ]
  },
  {
   "cell_type": "code",
   "execution_count": 310,
   "id": "adfc0a81",
   "metadata": {},
   "outputs": [],
   "source": [
    "df['price_per_meter'] = df['price'] / df['area']"
   ]
  },
  {
   "cell_type": "markdown",
   "id": "582f6701",
   "metadata": {},
   "source": [
    "## Первичный обзор содержимого"
   ]
  },
  {
   "cell_type": "code",
   "execution_count": 92,
   "id": "b2194add",
   "metadata": {},
   "outputs": [
    {
     "data": {
      "text/plain": [
       "(2005, 43)"
      ]
     },
     "execution_count": 92,
     "metadata": {},
     "output_type": "execute_result"
    }
   ],
   "source": [
    "df.shape"
   ]
  },
  {
   "cell_type": "code",
   "execution_count": 93,
   "id": "137c4d76",
   "metadata": {},
   "outputs": [
    {
     "data": {
      "text/plain": [
       "array(['Россия'], dtype=object)"
      ]
     },
     "execution_count": 93,
     "metadata": {},
     "output_type": "execute_result"
    }
   ],
   "source": [
    "df.country.unique()"
   ]
  },
  {
   "cell_type": "code",
   "execution_count": 94,
   "id": "5570cf0e",
   "metadata": {},
   "outputs": [
    {
     "data": {
      "text/plain": [
       "array(['Санкт-Петербург', 'Лаврики', 'Аннолово', 'Бугры', 'Петергоф',\n",
       "       'Лахта', 'Пушкин', 'Заневское', 'Янино-1', 'Гатчина', 'Красницы',\n",
       "       'Новоселье', 'Колпино'], dtype=object)"
      ]
     },
     "execution_count": 94,
     "metadata": {},
     "output_type": "execute_result"
    }
   ],
   "source": [
    "df.locality_name.unique()"
   ]
  },
  {
   "cell_type": "code",
   "execution_count": 95,
   "id": "5f4470e5",
   "metadata": {},
   "outputs": [
    {
     "data": {
      "text/plain": [
       "array(['БелАрт', 'Moskovsky AVENIR', 'Аура', 'ID Murino 2',\n",
       "       'ID Парк Победы', 'Есенин Village', 'SHINE', 'Артхаус', 'Модум',\n",
       "       'Энфилд', 'Петергофские дачи', 'Лахта Парк', 'INKERI',\n",
       "       'Ultra City', 'NEW TIME', 'Valo', 'ЯСНО.Янино', 'Jaanila Drive',\n",
       "       'IQ Гатчина', 'Трилогия', 'Duderhof club', 'Идеалист',\n",
       "       'Новое Купчино', 'Resort', 'Villas Spa', 'Start', 'NEWПитер',\n",
       "       'Pushkin', 'Nordic', 'LATTE', 'Лахта Плаза', 'Б57', 'Континенты',\n",
       "       'Юттери'], dtype=object)"
      ]
     },
     "execution_count": 95,
     "metadata": {},
     "output_type": "execute_result"
    }
   ],
   "source": [
    "df.building_name.unique()"
   ]
  },
  {
   "cell_type": "code",
   "execution_count": 96,
   "id": "c6038d57",
   "metadata": {},
   "outputs": [
    {
     "data": {
      "text/plain": [
       "58"
      ]
     },
     "execution_count": 96,
     "metadata": {},
     "output_type": "execute_result"
    }
   ],
   "source": [
    "int(df.shape[0]/df.building_name.nunique())"
   ]
  },
  {
   "cell_type": "code",
   "execution_count": 97,
   "id": "88da56c5",
   "metadata": {},
   "outputs": [
    {
     "data": {
      "text/plain": [
       "154"
      ]
     },
     "execution_count": 97,
     "metadata": {},
     "output_type": "execute_result"
    }
   ],
   "source": [
    "int(df.shape[0]/df.locality_name.nunique())"
   ]
  },
  {
   "cell_type": "code",
   "execution_count": 281,
   "id": "e4a30132",
   "metadata": {},
   "outputs": [],
   "source": [
    "exclude_columns = ['id', 'creation_date', 'last_update_date', 'description',\n",
    "                   'nmarket_complex_id', 'nmarket_building_id', 'latitude',\n",
    "                   'longitude', 'price', 'area', 'living_space', 'kitchen_space',\n",
    "                   'apartment', 'country', 'address']"
   ]
  },
  {
   "cell_type": "code",
   "execution_count": 282,
   "id": "b85c0555",
   "metadata": {},
   "outputs": [],
   "source": [
    "def show_unique_quality(column_name, exclude_columns):\n",
    "    if column_name not in exclude_columns:\n",
    "        if len(df[column_name].value_counts().index) > 2:\n",
    "            print('количество значений столбца ', column)\n",
    "            display(df[column_name].value_counts())            \n",
    "            print('='*100)"
   ]
  },
  {
   "cell_type": "code",
   "execution_count": 283,
   "id": "5daf1b51",
   "metadata": {},
   "outputs": [],
   "source": [
    "def check_num_columns(column_name, list_col_less_3, list_col_more_3, exclude_columns):\n",
    "    if len(df[column_name].value_counts().index) < 3 and column_name not in exclude_columns:\n",
    "        list_col_less_3.append(column_name)\n",
    "    elif len(df[column_name].value_counts().index) >= 3 and column_name not in exclude_columns:\n",
    "        list_col_more_3.append(column_name)"
   ]
  },
  {
   "cell_type": "code",
   "execution_count": 284,
   "id": "a9dc6abd",
   "metadata": {
    "scrolled": false
   },
   "outputs": [
    {
     "name": "stdout",
     "output_type": "stream",
     "text": [
      "количество значений столбца  renovation\n"
     ]
    },
    {
     "data": {
      "text/plain": [
       "Подготовка под чистовую отделку    977\n",
       "Отделка \"под ключ\"                 520\n",
       "Черновая отделка                   493\n",
       "Чистовая отделка                    14\n",
       "Без отделки                          1\n",
       "Name: renovation, dtype: int64"
      ]
     },
     "metadata": {},
     "output_type": "display_data"
    },
    {
     "name": "stdout",
     "output_type": "stream",
     "text": [
      "====================================================================================================\n",
      "количество значений столбца  rooms\n"
     ]
    },
    {
     "data": {
      "text/plain": [
       "1    1154\n",
       "2     573\n",
       "3     206\n",
       "4      48\n",
       "5      16\n",
       "6       8\n",
       "Name: rooms, dtype: int64"
      ]
     },
     "metadata": {},
     "output_type": "display_data"
    },
    {
     "name": "stdout",
     "output_type": "stream",
     "text": [
      "====================================================================================================\n",
      "количество значений столбца  balcony\n"
     ]
    },
    {
     "data": {
      "text/plain": [
       "лоджия            1026\n",
       "нет                426\n",
       "балкон             278\n",
       "2 лоджии           140\n",
       "2 балкона           59\n",
       "балкон+терраса      42\n",
       "терраса             31\n",
       "эркер                3\n",
       "Name: balcony, dtype: int64"
      ]
     },
     "metadata": {},
     "output_type": "display_data"
    },
    {
     "name": "stdout",
     "output_type": "stream",
     "text": [
      "====================================================================================================\n",
      "количество значений столбца  bathroom_unit\n"
     ]
    },
    {
     "data": {
      "text/plain": [
       "совмещенный    871\n",
       "раздельный     611\n",
       "2              518\n",
       "cовмещенный      5\n",
       "Name: bathroom_unit, dtype: int64"
      ]
     },
     "metadata": {},
     "output_type": "display_data"
    },
    {
     "name": "stdout",
     "output_type": "stream",
     "text": [
      "====================================================================================================\n",
      "количество значений столбца  floor\n"
     ]
    },
    {
     "data": {
      "text/plain": [
       "2     225\n",
       "3     184\n",
       "4     166\n",
       "5     140\n",
       "7     139\n",
       "1     128\n",
       "6     125\n",
       "12    113\n",
       "8     109\n",
       "11    107\n",
       "9     101\n",
       "10     99\n",
       "13     63\n",
       "20     58\n",
       "14     43\n",
       "19     42\n",
       "16     41\n",
       "17     37\n",
       "18     35\n",
       "15     28\n",
       "22      6\n",
       "21      4\n",
       "23      3\n",
       "24      3\n",
       "27      2\n",
       "26      2\n",
       "25      2\n",
       "Name: floor, dtype: int64"
      ]
     },
     "metadata": {},
     "output_type": "display_data"
    },
    {
     "name": "stdout",
     "output_type": "stream",
     "text": [
      "====================================================================================================\n",
      "количество значений столбца  floors_total\n"
     ]
    },
    {
     "data": {
      "text/plain": [
       "12    808\n",
       "20    310\n",
       "13    185\n",
       "4     153\n",
       "18    131\n",
       "9      85\n",
       "11     63\n",
       "8      55\n",
       "23     51\n",
       "27     49\n",
       "3      37\n",
       "6      28\n",
       "7      25\n",
       "2      15\n",
       "1       5\n",
       "5       5\n",
       "Name: floors_total, dtype: int64"
      ]
     },
     "metadata": {},
     "output_type": "display_data"
    },
    {
     "name": "stdout",
     "output_type": "stream",
     "text": [
      "====================================================================================================\n",
      "количество значений столбца  building_name\n"
     ]
    },
    {
     "data": {
      "text/plain": [
       "Модум                452\n",
       "ID Murino 2          314\n",
       "Start                216\n",
       "NEW TIME             179\n",
       "Valo                 131\n",
       "Ultra City            94\n",
       "LATTE                 65\n",
       "ID Парк Победы        63\n",
       "Юттери                54\n",
       "ЯСНО.Янино            54\n",
       "БелАрт                50\n",
       "Континенты            49\n",
       "Moskovsky AVENIR      36\n",
       "Resort                32\n",
       "Аура                  28\n",
       "Nordic                27\n",
       "NEWПитер              22\n",
       "Энфилд                22\n",
       "Jaanila Drive         20\n",
       "Идеалист              16\n",
       "SHINE                 12\n",
       "Артхаус                9\n",
       "IQ Гатчина             8\n",
       "Duderhof club          8\n",
       "Б57                    7\n",
       "Pushkin                7\n",
       "Новое Купчино          6\n",
       "Villas Spa             6\n",
       "INKERI                 5\n",
       "Петергофские дачи      5\n",
       "Лахта Парк             5\n",
       "Есенин Village         1\n",
       "Лахта Плаза            1\n",
       "Трилогия               1\n",
       "Name: building_name, dtype: int64"
      ]
     },
     "metadata": {},
     "output_type": "display_data"
    },
    {
     "name": "stdout",
     "output_type": "stream",
     "text": [
      "====================================================================================================\n",
      "количество значений столбца  building_type\n"
     ]
    },
    {
     "data": {
      "text/plain": [
       "кирпично-монолитный    1207\n",
       "монолитный              642\n",
       "панельный                87\n",
       "кирпичный                56\n",
       "монолитно-каркасный       7\n",
       "каркасно-блочный          5\n",
       "блочный                   1\n",
       "Name: building_type, dtype: int64"
      ]
     },
     "metadata": {},
     "output_type": "display_data"
    },
    {
     "name": "stdout",
     "output_type": "stream",
     "text": [
      "====================================================================================================\n",
      "количество значений столбца  building_phase\n"
     ]
    },
    {
     "data": {
      "text/plain": [
       "Очередь 1    1285\n",
       "Очередь 5     277\n",
       "Очередь 2     264\n",
       "Очередь 3     179\n",
       "Name: building_phase, dtype: int64"
      ]
     },
     "metadata": {},
     "output_type": "display_data"
    },
    {
     "name": "stdout",
     "output_type": "stream",
     "text": [
      "====================================================================================================\n",
      "количество значений столбца  building_section\n"
     ]
    },
    {
     "data": {
      "text/plain": [
       "Корпус 3                577\n",
       "Корпус 1                462\n",
       "Корпус 2                378\n",
       "Корпус 4                129\n",
       "Корпус 5 этап 2          57\n",
       "Корпус 2 (Mercure)       56\n",
       "Корпус 6 этап 2          37\n",
       "Корпус 109               34\n",
       "Корпус Г                 28\n",
       "Корпус 6.1               25\n",
       "Корпус 110               22\n",
       "Корпус В                 21\n",
       "Корпус 6.3               18\n",
       "Корпус 2.1               15\n",
       "Корпус 9                 13\n",
       "Корпус 94.2              13\n",
       "Корпус 6.2               11\n",
       "Корпус 8                 10\n",
       "Корпус 5                  9\n",
       "Корпус 94.1               9\n",
       "Корпус 116                9\n",
       "Корпус Таунхаусы          8\n",
       "Корпус сити-виллы 3Б      5\n",
       "Корпус 100.2              5\n",
       "Корпус 93                 4\n",
       "Корпус 91                 4\n",
       "Корпус 82                 4\n",
       "Корпус 86                 4\n",
       "Корпус 83                 4\n",
       "Корпус 92.2               4\n",
       "Корпус 98                 3\n",
       "Корпус 106                3\n",
       "Корпус 101                3\n",
       "Корпус 97                 3\n",
       "Корпус 92.1               3\n",
       "Корпус 57-95 участки      3\n",
       "Корпус 6                  2\n",
       "Корпус 54                 1\n",
       "Корпус 49                 1\n",
       "Корпус 43                 1\n",
       "Корпус 1-27 участки       1\n",
       "Корпус 47                 1\n",
       "Корпус 42                 1\n",
       "Корпус А                  1\n",
       "Корпус Б13                1\n",
       "Корпус 32-56 участки      1\n",
       "Корпус 36                 1\n",
       "Name: building_section, dtype: int64"
      ]
     },
     "metadata": {},
     "output_type": "display_data"
    },
    {
     "name": "stdout",
     "output_type": "stream",
     "text": [
      "====================================================================================================\n",
      "количество значений столбца  built_year\n"
     ]
    },
    {
     "data": {
      "text/plain": [
       "2022    1083\n",
       "2021     411\n",
       "2023     399\n",
       "2024      63\n",
       "2020      31\n",
       "2014       9\n",
       "2015       5\n",
       "2017       1\n",
       "2019       1\n",
       "2018       1\n",
       "2016       1\n",
       "Name: built_year, dtype: int64"
      ]
     },
     "metadata": {},
     "output_type": "display_data"
    },
    {
     "name": "stdout",
     "output_type": "stream",
     "text": [
      "====================================================================================================\n",
      "количество значений столбца  ready_quarter\n"
     ]
    },
    {
     "data": {
      "text/plain": [
       "4    1141\n",
       "3     599\n",
       "2     171\n",
       "1      94\n",
       "Name: ready_quarter, dtype: int64"
      ]
     },
     "metadata": {},
     "output_type": "display_data"
    },
    {
     "name": "stdout",
     "output_type": "stream",
     "text": [
      "====================================================================================================\n",
      "количество значений столбца  ceiling_height\n"
     ]
    },
    {
     "data": {
      "text/plain": [
       "2.75    711\n",
       "2.80    505\n",
       "3.00    412\n",
       "2.70    140\n",
       "2.60     91\n",
       "3.20     67\n",
       "2.72     60\n",
       "2.85     11\n",
       "3.70      8\n",
       "Name: ceiling_height, dtype: int64"
      ]
     },
     "metadata": {},
     "output_type": "display_data"
    },
    {
     "name": "stdout",
     "output_type": "stream",
     "text": [
      "====================================================================================================\n",
      "количество значений столбца  locality_name\n"
     ]
    },
    {
     "data": {
      "text/plain": [
       "Санкт-Петербург    1358\n",
       "Лаврики             314\n",
       "Красницы            137\n",
       "Заневское            54\n",
       "Колпино              54\n",
       "Бугры                22\n",
       "Новоселье            22\n",
       "Янино-1              20\n",
       "Гатчина               8\n",
       "Петергоф              5\n",
       "Лахта                 5\n",
       "Пушкин                5\n",
       "Аннолово              1\n",
       "Name: locality_name, dtype: int64"
      ]
     },
     "metadata": {},
     "output_type": "display_data"
    },
    {
     "name": "stdout",
     "output_type": "stream",
     "text": [
      "====================================================================================================\n",
      "количество значений столбца  non_admin_sub_locality\n"
     ]
    },
    {
     "data": {
      "text/plain": [
       "Приморский           731\n",
       "Всеволожский         410\n",
       "Выборгский           293\n",
       "Гатчинский           145\n",
       "Фрунзенский          137\n",
       "Московский           106\n",
       "Колпинский            54\n",
       "Калининский           50\n",
       "Адмиралтейский        25\n",
       "Ломоносовский         22\n",
       "Красногвардейский     12\n",
       "Красносельский         8\n",
       "Петродворцовый         5\n",
       "Пушкинский             5\n",
       "Тосненский             1\n",
       "Кировский              1\n",
       "Name: non_admin_sub_locality, dtype: int64"
      ]
     },
     "metadata": {},
     "output_type": "display_data"
    },
    {
     "name": "stdout",
     "output_type": "stream",
     "text": [
      "====================================================================================================\n",
      "количество значений столбца  metro\n"
     ]
    },
    {
     "data": {
      "text/plain": [
       "Комендантский проспект      725\n",
       "Девяткино                   336\n",
       "Парнас                      265\n",
       "Купчино                     138\n",
       "Бухарестская                131\n",
       "Ладожская                    74\n",
       "Электросила                  63\n",
       "Звездная                     62\n",
       "Лесная                       50\n",
       "Фрунзенская                  36\n",
       "Проспект Ветеранов           31\n",
       "Пионерская                   28\n",
       "Технологический институт     16\n",
       "Новочеркасская               12\n",
       "Звенигородская                9\n",
       "Парк Победы                   7\n",
       "Дунайская                     6\n",
       "Московская                    5\n",
       "Ленинский проспект            5\n",
       "Старая деревня                5\n",
       "нет                           1\n",
       "Name: metro, dtype: int64"
      ]
     },
     "metadata": {},
     "output_type": "display_data"
    },
    {
     "name": "stdout",
     "output_type": "stream",
     "text": [
      "====================================================================================================\n",
      "количество значений столбца  time_on_foot\n"
     ]
    },
    {
     "data": {
      "text/plain": [
       "-1.0     1381\n",
       " 5.0      216\n",
       " 3.0      131\n",
       " 20.0     128\n",
       " 15.0      70\n",
       " 10.0      58\n",
       " 8.0       12\n",
       " 6.0        9\n",
       "Name: time_on_foot, dtype: int64"
      ]
     },
     "metadata": {},
     "output_type": "display_data"
    },
    {
     "name": "stdout",
     "output_type": "stream",
     "text": [
      "====================================================================================================\n",
      "количество значений столбца  time_on_transport\n"
     ]
    },
    {
     "data": {
      "text/plain": [
       "-1.0     625\n",
       " 10.0    588\n",
       " 5.0     314\n",
       " 15.0    233\n",
       " 60.0    137\n",
       " 20.0     70\n",
       " 40.0     22\n",
       " 30.0     10\n",
       " 25.0      5\n",
       " 35.0      1\n",
       "Name: time_on_transport, dtype: int64"
      ]
     },
     "metadata": {},
     "output_type": "display_data"
    },
    {
     "name": "stdout",
     "output_type": "stream",
     "text": [
      "====================================================================================================\n"
     ]
    }
   ],
   "source": [
    "list_check_less_3 = []\n",
    "list_check_more_3 = []\n",
    "\n",
    "for column in df.columns:  \n",
    "    show_unique_quality(column, exclude_columns)\n",
    "    check_num_columns(column, list_check_less_3, list_check_more_3, exclude_columns)\n",
    "    "
   ]
  },
  {
   "cell_type": "code",
   "execution_count": 285,
   "id": "777383a9",
   "metadata": {
    "scrolled": false
   },
   "outputs": [
    {
     "data": {
      "text/plain": [
       "[(0, 'type'),\n",
       " (1, 'property_type'),\n",
       " (2, 'category'),\n",
       " (3, 'manually_added'),\n",
       " (4, 'mortgage'),\n",
       " (5, 'haggle'),\n",
       " (6, 'new_flat'),\n",
       " (7, 'lift'),\n",
       " (8, 'parking'),\n",
       " (9, 'region')]"
      ]
     },
     "metadata": {},
     "output_type": "display_data"
    },
    {
     "data": {
      "text/plain": [
       "[(0, 'renovation'),\n",
       " (1, 'rooms'),\n",
       " (2, 'balcony'),\n",
       " (3, 'bathroom_unit'),\n",
       " (4, 'floor'),\n",
       " (5, 'floors_total'),\n",
       " (6, 'building_name'),\n",
       " (7, 'building_type'),\n",
       " (8, 'building_phase'),\n",
       " (9, 'building_section'),\n",
       " (10, 'built_year'),\n",
       " (11, 'ready_quarter'),\n",
       " (12, 'ceiling_height'),\n",
       " (13, 'locality_name'),\n",
       " (14, 'non_admin_sub_locality'),\n",
       " (15, 'metro'),\n",
       " (16, 'time_on_foot'),\n",
       " (17, 'time_on_transport')]"
      ]
     },
     "metadata": {},
     "output_type": "display_data"
    }
   ],
   "source": [
    "display([(i, x) for i, x in enumerate(list_check_less_3)])\n",
    "display([(i, x) for i, x in enumerate(list_check_more_3)])"
   ]
  },
  {
   "cell_type": "code",
   "execution_count": 286,
   "id": "53aeff4b",
   "metadata": {},
   "outputs": [],
   "source": [
    "def subplot_show(columns, title='title', row_num=None, col_num=None, **kwargs):\n",
    "    '''Show subplots'''\n",
    "    names = {str(pos): name for pos, name in enumerate(columns)}\n",
    "    fig = make_subplots(rows=row_num, \n",
    "                        cols=col_num, \n",
    "                        shared_yaxes=True, \n",
    "                        subplot_titles=list(names.keys()),\n",
    "                       )\n",
    "\n",
    "    row = (i for i in range(1, row_num+1) for y in range(1, col_num+1))\n",
    "    col = (y for i in range(1, row_num+1) for y in range(1, col_num+1))\n",
    "\n",
    "\n",
    "    for column in columns:\n",
    "        fig.add_trace(go.Bar(\n",
    "                            y=df[column].value_counts(),\n",
    "                            x=df[column].value_counts().index,\n",
    "                            name=column,\n",
    "                            ),\n",
    "                    row=next(row), col=next(col))\n",
    "    fig.update_layout(title_text=title, **kwargs, autosize=True)\n",
    "    \n",
    "    fig.for_each_annotation(lambda a: a.update(text = names[a.text]))\n",
    "    \n",
    "    fig.show()"
   ]
  },
  {
   "cell_type": "code",
   "execution_count": 287,
   "id": "319de082",
   "metadata": {
    "scrolled": false
   },
   "outputs": [
    {
     "data": {
      "application/vnd.plotly.v1+json": {
       "config": {
        "plotlyServerURL": "https://plotly.com"
       },
       "data": [
        {
         "name": "renovation",
         "type": "bar",
         "x": [
          "Подготовка под чистовую отделку",
          "Отделка \"под ключ\"",
          "Черновая отделка",
          "Чистовая отделка",
          "Без отделки"
         ],
         "xaxis": "x",
         "y": [
          977,
          520,
          493,
          14,
          1
         ],
         "yaxis": "y"
        },
        {
         "name": "rooms",
         "type": "bar",
         "x": [
          1,
          2,
          3,
          4,
          5,
          6
         ],
         "xaxis": "x2",
         "y": [
          1154,
          573,
          206,
          48,
          16,
          8
         ],
         "yaxis": "y2"
        },
        {
         "name": "balcony",
         "type": "bar",
         "x": [
          "лоджия",
          "нет",
          "балкон",
          "2 лоджии",
          "2 балкона",
          "балкон+терраса",
          "терраса",
          "эркер"
         ],
         "xaxis": "x3",
         "y": [
          1026,
          426,
          278,
          140,
          59,
          42,
          31,
          3
         ],
         "yaxis": "y3"
        },
        {
         "name": "bathroom_unit",
         "type": "bar",
         "x": [
          "совмещенный",
          "раздельный",
          "2",
          "cовмещенный"
         ],
         "xaxis": "x4",
         "y": [
          871,
          611,
          518,
          5
         ],
         "yaxis": "y4"
        },
        {
         "name": "floor",
         "type": "bar",
         "x": [
          2,
          3,
          4,
          5,
          7,
          1,
          6,
          12,
          8,
          11,
          9,
          10,
          13,
          20,
          14,
          19,
          16,
          17,
          18,
          15,
          22,
          21,
          23,
          24,
          27,
          26,
          25
         ],
         "xaxis": "x5",
         "y": [
          225,
          184,
          166,
          140,
          139,
          128,
          125,
          113,
          109,
          107,
          101,
          99,
          63,
          58,
          43,
          42,
          41,
          37,
          35,
          28,
          6,
          4,
          3,
          3,
          2,
          2,
          2
         ],
         "yaxis": "y5"
        },
        {
         "name": "floors_total",
         "type": "bar",
         "x": [
          12,
          20,
          13,
          4,
          18,
          9,
          11,
          8,
          23,
          27,
          3,
          6,
          7,
          2,
          1,
          5
         ],
         "xaxis": "x6",
         "y": [
          808,
          310,
          185,
          153,
          131,
          85,
          63,
          55,
          51,
          49,
          37,
          28,
          25,
          15,
          5,
          5
         ],
         "yaxis": "y6"
        },
        {
         "name": "building_name",
         "type": "bar",
         "x": [
          "Модум",
          "ID Murino 2",
          "Start",
          "NEW TIME",
          "Valo",
          "Ultra City",
          "LATTE",
          "ID Парк Победы",
          "Юттери",
          "ЯСНО.Янино",
          "БелАрт",
          "Континенты",
          "Moskovsky AVENIR",
          "Resort",
          "Аура",
          "Nordic",
          "NEWПитер",
          "Энфилд",
          "Jaanila Drive",
          "Идеалист",
          "SHINE",
          "Артхаус",
          "IQ Гатчина",
          "Duderhof club",
          "Б57",
          "Pushkin",
          "Новое Купчино",
          "Villas Spa",
          "INKERI",
          "Петергофские дачи",
          "Лахта Парк",
          "Есенин Village",
          "Лахта Плаза",
          "Трилогия"
         ],
         "xaxis": "x7",
         "y": [
          452,
          314,
          216,
          179,
          131,
          94,
          65,
          63,
          54,
          54,
          50,
          49,
          36,
          32,
          28,
          27,
          22,
          22,
          20,
          16,
          12,
          9,
          8,
          8,
          7,
          7,
          6,
          6,
          5,
          5,
          5,
          1,
          1,
          1
         ],
         "yaxis": "y7"
        },
        {
         "name": "building_type",
         "type": "bar",
         "x": [
          "кирпично-монолитный",
          "монолитный",
          "панельный",
          "кирпичный",
          "монолитно-каркасный",
          "каркасно-блочный",
          "блочный"
         ],
         "xaxis": "x8",
         "y": [
          1207,
          642,
          87,
          56,
          7,
          5,
          1
         ],
         "yaxis": "y8"
        },
        {
         "name": "building_phase",
         "type": "bar",
         "x": [
          "Очередь 1",
          "Очередь 5",
          "Очередь 2",
          "Очередь 3"
         ],
         "xaxis": "x9",
         "y": [
          1285,
          277,
          264,
          179
         ],
         "yaxis": "y9"
        },
        {
         "name": "building_section",
         "type": "bar",
         "x": [
          "Корпус 3",
          "Корпус 1",
          "Корпус 2",
          "Корпус 4",
          "Корпус 5 этап 2",
          "Корпус 2 (Mercure)",
          "Корпус 6 этап 2",
          "Корпус 109",
          "Корпус Г",
          "Корпус 6.1",
          "Корпус 110",
          "Корпус В",
          "Корпус 6.3",
          "Корпус 2.1",
          "Корпус 9",
          "Корпус 94.2",
          "Корпус 6.2",
          "Корпус 8",
          "Корпус 5",
          "Корпус 94.1",
          "Корпус 116",
          "Корпус Таунхаусы",
          "Корпус сити-виллы 3Б",
          "Корпус 100.2",
          "Корпус 93",
          "Корпус 91",
          "Корпус 82",
          "Корпус 86",
          "Корпус 83",
          "Корпус 92.2",
          "Корпус 98",
          "Корпус 106",
          "Корпус 101",
          "Корпус 97",
          "Корпус 92.1",
          "Корпус 57-95 участки",
          "Корпус 6",
          "Корпус 54",
          "Корпус 49",
          "Корпус 43",
          "Корпус 1-27 участки",
          "Корпус 47",
          "Корпус 42",
          "Корпус А",
          "Корпус Б13",
          "Корпус 32-56 участки",
          "Корпус 36"
         ],
         "xaxis": "x10",
         "y": [
          577,
          462,
          378,
          129,
          57,
          56,
          37,
          34,
          28,
          25,
          22,
          21,
          18,
          15,
          13,
          13,
          11,
          10,
          9,
          9,
          9,
          8,
          5,
          5,
          4,
          4,
          4,
          4,
          4,
          4,
          3,
          3,
          3,
          3,
          3,
          3,
          2,
          1,
          1,
          1,
          1,
          1,
          1,
          1,
          1,
          1,
          1
         ],
         "yaxis": "y10"
        },
        {
         "name": "built_year",
         "type": "bar",
         "x": [
          2022,
          2021,
          2023,
          2024,
          2020,
          2014,
          2015,
          2017,
          2019,
          2018,
          2016
         ],
         "xaxis": "x11",
         "y": [
          1083,
          411,
          399,
          63,
          31,
          9,
          5,
          1,
          1,
          1,
          1
         ],
         "yaxis": "y11"
        },
        {
         "name": "ready_quarter",
         "type": "bar",
         "x": [
          4,
          3,
          2,
          1
         ],
         "xaxis": "x12",
         "y": [
          1141,
          599,
          171,
          94
         ],
         "yaxis": "y12"
        },
        {
         "name": "ceiling_height",
         "type": "bar",
         "x": [
          2.75,
          2.8,
          3,
          2.7,
          2.6,
          3.2,
          2.72,
          2.85,
          3.7
         ],
         "xaxis": "x13",
         "y": [
          711,
          505,
          412,
          140,
          91,
          67,
          60,
          11,
          8
         ],
         "yaxis": "y13"
        },
        {
         "name": "locality_name",
         "type": "bar",
         "x": [
          "Санкт-Петербург",
          "Лаврики",
          "Красницы",
          "Заневское",
          "Колпино",
          "Бугры",
          "Новоселье",
          "Янино-1",
          "Гатчина",
          "Петергоф",
          "Лахта",
          "Пушкин",
          "Аннолово"
         ],
         "xaxis": "x14",
         "y": [
          1358,
          314,
          137,
          54,
          54,
          22,
          22,
          20,
          8,
          5,
          5,
          5,
          1
         ],
         "yaxis": "y14"
        },
        {
         "name": "non_admin_sub_locality",
         "type": "bar",
         "x": [
          "Приморский",
          "Всеволожский",
          "Выборгский",
          "Гатчинский",
          "Фрунзенский",
          "Московский",
          "Колпинский",
          "Калининский",
          "Адмиралтейский",
          "Ломоносовский",
          "Красногвардейский",
          "Красносельский",
          "Петродворцовый",
          "Пушкинский",
          "Тосненский",
          "Кировский"
         ],
         "xaxis": "x15",
         "y": [
          731,
          410,
          293,
          145,
          137,
          106,
          54,
          50,
          25,
          22,
          12,
          8,
          5,
          5,
          1,
          1
         ],
         "yaxis": "y15"
        },
        {
         "name": "metro",
         "type": "bar",
         "x": [
          "Комендантский проспект",
          "Девяткино",
          "Парнас",
          "Купчино",
          "Бухарестская",
          "Ладожская",
          "Электросила",
          "Звездная",
          "Лесная",
          "Фрунзенская",
          "Проспект Ветеранов",
          "Пионерская",
          "Технологический институт",
          "Новочеркасская",
          "Звенигородская",
          "Парк Победы",
          "Дунайская",
          "Московская",
          "Ленинский проспект",
          "Старая деревня",
          "нет"
         ],
         "xaxis": "x16",
         "y": [
          725,
          336,
          265,
          138,
          131,
          74,
          63,
          62,
          50,
          36,
          31,
          28,
          16,
          12,
          9,
          7,
          6,
          5,
          5,
          5,
          1
         ],
         "yaxis": "y16"
        },
        {
         "name": "time_on_foot",
         "type": "bar",
         "x": [
          -1,
          5,
          3,
          20,
          15,
          10,
          8,
          6
         ],
         "xaxis": "x17",
         "y": [
          1381,
          216,
          131,
          128,
          70,
          58,
          12,
          9
         ],
         "yaxis": "y17"
        },
        {
         "name": "time_on_transport",
         "type": "bar",
         "x": [
          -1,
          10,
          5,
          15,
          60,
          20,
          40,
          30,
          25,
          35
         ],
         "xaxis": "x18",
         "y": [
          625,
          588,
          314,
          233,
          137,
          70,
          22,
          10,
          5,
          1
         ],
         "yaxis": "y18"
        }
       ],
       "layout": {
        "annotations": [
         {
          "font": {
           "size": 16
          },
          "showarrow": false,
          "text": "renovation",
          "x": 0.5,
          "xanchor": "center",
          "xref": "paper",
          "y": 1.0000000000000002,
          "yanchor": "bottom",
          "yref": "paper"
         },
         {
          "font": {
           "size": 16
          },
          "showarrow": false,
          "text": "rooms",
          "x": 0.5,
          "xanchor": "center",
          "xref": "paper",
          "y": 0.9429012345679013,
          "yanchor": "bottom",
          "yref": "paper"
         },
         {
          "font": {
           "size": 16
          },
          "showarrow": false,
          "text": "balcony",
          "x": 0.5,
          "xanchor": "center",
          "xref": "paper",
          "y": 0.8858024691358026,
          "yanchor": "bottom",
          "yref": "paper"
         },
         {
          "font": {
           "size": 16
          },
          "showarrow": false,
          "text": "bathroom_unit",
          "x": 0.5,
          "xanchor": "center",
          "xref": "paper",
          "y": 0.8287037037037037,
          "yanchor": "bottom",
          "yref": "paper"
         },
         {
          "font": {
           "size": 16
          },
          "showarrow": false,
          "text": "floor",
          "x": 0.5,
          "xanchor": "center",
          "xref": "paper",
          "y": 0.771604938271605,
          "yanchor": "bottom",
          "yref": "paper"
         },
         {
          "font": {
           "size": 16
          },
          "showarrow": false,
          "text": "floors_total",
          "x": 0.5,
          "xanchor": "center",
          "xref": "paper",
          "y": 0.7145061728395062,
          "yanchor": "bottom",
          "yref": "paper"
         },
         {
          "font": {
           "size": 16
          },
          "showarrow": false,
          "text": "building_name",
          "x": 0.5,
          "xanchor": "center",
          "xref": "paper",
          "y": 0.6574074074074074,
          "yanchor": "bottom",
          "yref": "paper"
         },
         {
          "font": {
           "size": 16
          },
          "showarrow": false,
          "text": "building_type",
          "x": 0.5,
          "xanchor": "center",
          "xref": "paper",
          "y": 0.6003086419753088,
          "yanchor": "bottom",
          "yref": "paper"
         },
         {
          "font": {
           "size": 16
          },
          "showarrow": false,
          "text": "building_phase",
          "x": 0.5,
          "xanchor": "center",
          "xref": "paper",
          "y": 0.5432098765432098,
          "yanchor": "bottom",
          "yref": "paper"
         },
         {
          "font": {
           "size": 16
          },
          "showarrow": false,
          "text": "building_section",
          "x": 0.5,
          "xanchor": "center",
          "xref": "paper",
          "y": 0.4861111111111111,
          "yanchor": "bottom",
          "yref": "paper"
         },
         {
          "font": {
           "size": 16
          },
          "showarrow": false,
          "text": "built_year",
          "x": 0.5,
          "xanchor": "center",
          "xref": "paper",
          "y": 0.42901234567901236,
          "yanchor": "bottom",
          "yref": "paper"
         },
         {
          "font": {
           "size": 16
          },
          "showarrow": false,
          "text": "ready_quarter",
          "x": 0.5,
          "xanchor": "center",
          "xref": "paper",
          "y": 0.37191358024691357,
          "yanchor": "bottom",
          "yref": "paper"
         },
         {
          "font": {
           "size": 16
          },
          "showarrow": false,
          "text": "ceiling_height",
          "x": 0.5,
          "xanchor": "center",
          "xref": "paper",
          "y": 0.3148148148148149,
          "yanchor": "bottom",
          "yref": "paper"
         },
         {
          "font": {
           "size": 16
          },
          "showarrow": false,
          "text": "locality_name",
          "x": 0.5,
          "xanchor": "center",
          "xref": "paper",
          "y": 0.2577160493827161,
          "yanchor": "bottom",
          "yref": "paper"
         },
         {
          "font": {
           "size": 16
          },
          "showarrow": false,
          "text": "non_admin_sub_locality",
          "x": 0.5,
          "xanchor": "center",
          "xref": "paper",
          "y": 0.20061728395061726,
          "yanchor": "bottom",
          "yref": "paper"
         },
         {
          "font": {
           "size": 16
          },
          "showarrow": false,
          "text": "metro",
          "x": 0.5,
          "xanchor": "center",
          "xref": "paper",
          "y": 0.14351851851851852,
          "yanchor": "bottom",
          "yref": "paper"
         },
         {
          "font": {
           "size": 16
          },
          "showarrow": false,
          "text": "time_on_foot",
          "x": 0.5,
          "xanchor": "center",
          "xref": "paper",
          "y": 0.08641975308641976,
          "yanchor": "bottom",
          "yref": "paper"
         },
         {
          "font": {
           "size": 16
          },
          "showarrow": false,
          "text": "time_on_transport",
          "x": 0.5,
          "xanchor": "center",
          "xref": "paper",
          "y": 0.02932098765432099,
          "yanchor": "bottom",
          "yref": "paper"
         }
        ],
        "autosize": true,
        "height": 6000,
        "template": {
         "data": {
          "bar": [
           {
            "error_x": {
             "color": "#2a3f5f"
            },
            "error_y": {
             "color": "#2a3f5f"
            },
            "marker": {
             "line": {
              "color": "#E5ECF6",
              "width": 0.5
             },
             "pattern": {
              "fillmode": "overlay",
              "size": 10,
              "solidity": 0.2
             }
            },
            "type": "bar"
           }
          ],
          "barpolar": [
           {
            "marker": {
             "line": {
              "color": "#E5ECF6",
              "width": 0.5
             },
             "pattern": {
              "fillmode": "overlay",
              "size": 10,
              "solidity": 0.2
             }
            },
            "type": "barpolar"
           }
          ],
          "carpet": [
           {
            "aaxis": {
             "endlinecolor": "#2a3f5f",
             "gridcolor": "white",
             "linecolor": "white",
             "minorgridcolor": "white",
             "startlinecolor": "#2a3f5f"
            },
            "baxis": {
             "endlinecolor": "#2a3f5f",
             "gridcolor": "white",
             "linecolor": "white",
             "minorgridcolor": "white",
             "startlinecolor": "#2a3f5f"
            },
            "type": "carpet"
           }
          ],
          "choropleth": [
           {
            "colorbar": {
             "outlinewidth": 0,
             "ticks": ""
            },
            "type": "choropleth"
           }
          ],
          "contour": [
           {
            "colorbar": {
             "outlinewidth": 0,
             "ticks": ""
            },
            "colorscale": [
             [
              0,
              "#0d0887"
             ],
             [
              0.1111111111111111,
              "#46039f"
             ],
             [
              0.2222222222222222,
              "#7201a8"
             ],
             [
              0.3333333333333333,
              "#9c179e"
             ],
             [
              0.4444444444444444,
              "#bd3786"
             ],
             [
              0.5555555555555556,
              "#d8576b"
             ],
             [
              0.6666666666666666,
              "#ed7953"
             ],
             [
              0.7777777777777778,
              "#fb9f3a"
             ],
             [
              0.8888888888888888,
              "#fdca26"
             ],
             [
              1,
              "#f0f921"
             ]
            ],
            "type": "contour"
           }
          ],
          "contourcarpet": [
           {
            "colorbar": {
             "outlinewidth": 0,
             "ticks": ""
            },
            "type": "contourcarpet"
           }
          ],
          "heatmap": [
           {
            "colorbar": {
             "outlinewidth": 0,
             "ticks": ""
            },
            "colorscale": [
             [
              0,
              "#0d0887"
             ],
             [
              0.1111111111111111,
              "#46039f"
             ],
             [
              0.2222222222222222,
              "#7201a8"
             ],
             [
              0.3333333333333333,
              "#9c179e"
             ],
             [
              0.4444444444444444,
              "#bd3786"
             ],
             [
              0.5555555555555556,
              "#d8576b"
             ],
             [
              0.6666666666666666,
              "#ed7953"
             ],
             [
              0.7777777777777778,
              "#fb9f3a"
             ],
             [
              0.8888888888888888,
              "#fdca26"
             ],
             [
              1,
              "#f0f921"
             ]
            ],
            "type": "heatmap"
           }
          ],
          "heatmapgl": [
           {
            "colorbar": {
             "outlinewidth": 0,
             "ticks": ""
            },
            "colorscale": [
             [
              0,
              "#0d0887"
             ],
             [
              0.1111111111111111,
              "#46039f"
             ],
             [
              0.2222222222222222,
              "#7201a8"
             ],
             [
              0.3333333333333333,
              "#9c179e"
             ],
             [
              0.4444444444444444,
              "#bd3786"
             ],
             [
              0.5555555555555556,
              "#d8576b"
             ],
             [
              0.6666666666666666,
              "#ed7953"
             ],
             [
              0.7777777777777778,
              "#fb9f3a"
             ],
             [
              0.8888888888888888,
              "#fdca26"
             ],
             [
              1,
              "#f0f921"
             ]
            ],
            "type": "heatmapgl"
           }
          ],
          "histogram": [
           {
            "marker": {
             "pattern": {
              "fillmode": "overlay",
              "size": 10,
              "solidity": 0.2
             }
            },
            "type": "histogram"
           }
          ],
          "histogram2d": [
           {
            "colorbar": {
             "outlinewidth": 0,
             "ticks": ""
            },
            "colorscale": [
             [
              0,
              "#0d0887"
             ],
             [
              0.1111111111111111,
              "#46039f"
             ],
             [
              0.2222222222222222,
              "#7201a8"
             ],
             [
              0.3333333333333333,
              "#9c179e"
             ],
             [
              0.4444444444444444,
              "#bd3786"
             ],
             [
              0.5555555555555556,
              "#d8576b"
             ],
             [
              0.6666666666666666,
              "#ed7953"
             ],
             [
              0.7777777777777778,
              "#fb9f3a"
             ],
             [
              0.8888888888888888,
              "#fdca26"
             ],
             [
              1,
              "#f0f921"
             ]
            ],
            "type": "histogram2d"
           }
          ],
          "histogram2dcontour": [
           {
            "colorbar": {
             "outlinewidth": 0,
             "ticks": ""
            },
            "colorscale": [
             [
              0,
              "#0d0887"
             ],
             [
              0.1111111111111111,
              "#46039f"
             ],
             [
              0.2222222222222222,
              "#7201a8"
             ],
             [
              0.3333333333333333,
              "#9c179e"
             ],
             [
              0.4444444444444444,
              "#bd3786"
             ],
             [
              0.5555555555555556,
              "#d8576b"
             ],
             [
              0.6666666666666666,
              "#ed7953"
             ],
             [
              0.7777777777777778,
              "#fb9f3a"
             ],
             [
              0.8888888888888888,
              "#fdca26"
             ],
             [
              1,
              "#f0f921"
             ]
            ],
            "type": "histogram2dcontour"
           }
          ],
          "mesh3d": [
           {
            "colorbar": {
             "outlinewidth": 0,
             "ticks": ""
            },
            "type": "mesh3d"
           }
          ],
          "parcoords": [
           {
            "line": {
             "colorbar": {
              "outlinewidth": 0,
              "ticks": ""
             }
            },
            "type": "parcoords"
           }
          ],
          "pie": [
           {
            "automargin": true,
            "type": "pie"
           }
          ],
          "scatter": [
           {
            "fillpattern": {
             "fillmode": "overlay",
             "size": 10,
             "solidity": 0.2
            },
            "type": "scatter"
           }
          ],
          "scatter3d": [
           {
            "line": {
             "colorbar": {
              "outlinewidth": 0,
              "ticks": ""
             }
            },
            "marker": {
             "colorbar": {
              "outlinewidth": 0,
              "ticks": ""
             }
            },
            "type": "scatter3d"
           }
          ],
          "scattercarpet": [
           {
            "marker": {
             "colorbar": {
              "outlinewidth": 0,
              "ticks": ""
             }
            },
            "type": "scattercarpet"
           }
          ],
          "scattergeo": [
           {
            "marker": {
             "colorbar": {
              "outlinewidth": 0,
              "ticks": ""
             }
            },
            "type": "scattergeo"
           }
          ],
          "scattergl": [
           {
            "marker": {
             "colorbar": {
              "outlinewidth": 0,
              "ticks": ""
             }
            },
            "type": "scattergl"
           }
          ],
          "scattermapbox": [
           {
            "marker": {
             "colorbar": {
              "outlinewidth": 0,
              "ticks": ""
             }
            },
            "type": "scattermapbox"
           }
          ],
          "scatterpolar": [
           {
            "marker": {
             "colorbar": {
              "outlinewidth": 0,
              "ticks": ""
             }
            },
            "type": "scatterpolar"
           }
          ],
          "scatterpolargl": [
           {
            "marker": {
             "colorbar": {
              "outlinewidth": 0,
              "ticks": ""
             }
            },
            "type": "scatterpolargl"
           }
          ],
          "scatterternary": [
           {
            "marker": {
             "colorbar": {
              "outlinewidth": 0,
              "ticks": ""
             }
            },
            "type": "scatterternary"
           }
          ],
          "surface": [
           {
            "colorbar": {
             "outlinewidth": 0,
             "ticks": ""
            },
            "colorscale": [
             [
              0,
              "#0d0887"
             ],
             [
              0.1111111111111111,
              "#46039f"
             ],
             [
              0.2222222222222222,
              "#7201a8"
             ],
             [
              0.3333333333333333,
              "#9c179e"
             ],
             [
              0.4444444444444444,
              "#bd3786"
             ],
             [
              0.5555555555555556,
              "#d8576b"
             ],
             [
              0.6666666666666666,
              "#ed7953"
             ],
             [
              0.7777777777777778,
              "#fb9f3a"
             ],
             [
              0.8888888888888888,
              "#fdca26"
             ],
             [
              1,
              "#f0f921"
             ]
            ],
            "type": "surface"
           }
          ],
          "table": [
           {
            "cells": {
             "fill": {
              "color": "#EBF0F8"
             },
             "line": {
              "color": "white"
             }
            },
            "header": {
             "fill": {
              "color": "#C8D4E3"
             },
             "line": {
              "color": "white"
             }
            },
            "type": "table"
           }
          ]
         },
         "layout": {
          "annotationdefaults": {
           "arrowcolor": "#2a3f5f",
           "arrowhead": 0,
           "arrowwidth": 1
          },
          "autotypenumbers": "strict",
          "coloraxis": {
           "colorbar": {
            "outlinewidth": 0,
            "ticks": ""
           }
          },
          "colorscale": {
           "diverging": [
            [
             0,
             "#8e0152"
            ],
            [
             0.1,
             "#c51b7d"
            ],
            [
             0.2,
             "#de77ae"
            ],
            [
             0.3,
             "#f1b6da"
            ],
            [
             0.4,
             "#fde0ef"
            ],
            [
             0.5,
             "#f7f7f7"
            ],
            [
             0.6,
             "#e6f5d0"
            ],
            [
             0.7,
             "#b8e186"
            ],
            [
             0.8,
             "#7fbc41"
            ],
            [
             0.9,
             "#4d9221"
            ],
            [
             1,
             "#276419"
            ]
           ],
           "sequential": [
            [
             0,
             "#0d0887"
            ],
            [
             0.1111111111111111,
             "#46039f"
            ],
            [
             0.2222222222222222,
             "#7201a8"
            ],
            [
             0.3333333333333333,
             "#9c179e"
            ],
            [
             0.4444444444444444,
             "#bd3786"
            ],
            [
             0.5555555555555556,
             "#d8576b"
            ],
            [
             0.6666666666666666,
             "#ed7953"
            ],
            [
             0.7777777777777778,
             "#fb9f3a"
            ],
            [
             0.8888888888888888,
             "#fdca26"
            ],
            [
             1,
             "#f0f921"
            ]
           ],
           "sequentialminus": [
            [
             0,
             "#0d0887"
            ],
            [
             0.1111111111111111,
             "#46039f"
            ],
            [
             0.2222222222222222,
             "#7201a8"
            ],
            [
             0.3333333333333333,
             "#9c179e"
            ],
            [
             0.4444444444444444,
             "#bd3786"
            ],
            [
             0.5555555555555556,
             "#d8576b"
            ],
            [
             0.6666666666666666,
             "#ed7953"
            ],
            [
             0.7777777777777778,
             "#fb9f3a"
            ],
            [
             0.8888888888888888,
             "#fdca26"
            ],
            [
             1,
             "#f0f921"
            ]
           ]
          },
          "colorway": [
           "#636efa",
           "#EF553B",
           "#00cc96",
           "#ab63fa",
           "#FFA15A",
           "#19d3f3",
           "#FF6692",
           "#B6E880",
           "#FF97FF",
           "#FECB52"
          ],
          "font": {
           "color": "#2a3f5f"
          },
          "geo": {
           "bgcolor": "white",
           "lakecolor": "white",
           "landcolor": "#E5ECF6",
           "showlakes": true,
           "showland": true,
           "subunitcolor": "white"
          },
          "hoverlabel": {
           "align": "left"
          },
          "hovermode": "closest",
          "mapbox": {
           "style": "light"
          },
          "paper_bgcolor": "white",
          "plot_bgcolor": "#E5ECF6",
          "polar": {
           "angularaxis": {
            "gridcolor": "white",
            "linecolor": "white",
            "ticks": ""
           },
           "bgcolor": "#E5ECF6",
           "radialaxis": {
            "gridcolor": "white",
            "linecolor": "white",
            "ticks": ""
           }
          },
          "scene": {
           "xaxis": {
            "backgroundcolor": "#E5ECF6",
            "gridcolor": "white",
            "gridwidth": 2,
            "linecolor": "white",
            "showbackground": true,
            "ticks": "",
            "zerolinecolor": "white"
           },
           "yaxis": {
            "backgroundcolor": "#E5ECF6",
            "gridcolor": "white",
            "gridwidth": 2,
            "linecolor": "white",
            "showbackground": true,
            "ticks": "",
            "zerolinecolor": "white"
           },
           "zaxis": {
            "backgroundcolor": "#E5ECF6",
            "gridcolor": "white",
            "gridwidth": 2,
            "linecolor": "white",
            "showbackground": true,
            "ticks": "",
            "zerolinecolor": "white"
           }
          },
          "shapedefaults": {
           "line": {
            "color": "#2a3f5f"
           }
          },
          "ternary": {
           "aaxis": {
            "gridcolor": "white",
            "linecolor": "white",
            "ticks": ""
           },
           "baxis": {
            "gridcolor": "white",
            "linecolor": "white",
            "ticks": ""
           },
           "bgcolor": "#E5ECF6",
           "caxis": {
            "gridcolor": "white",
            "linecolor": "white",
            "ticks": ""
           }
          },
          "title": {
           "x": 0.05
          },
          "xaxis": {
           "automargin": true,
           "gridcolor": "white",
           "linecolor": "white",
           "ticks": "",
           "title": {
            "standoff": 15
           },
           "zerolinecolor": "white",
           "zerolinewidth": 2
          },
          "yaxis": {
           "automargin": true,
           "gridcolor": "white",
           "linecolor": "white",
           "ticks": "",
           "title": {
            "standoff": 15
           },
           "zerolinecolor": "white",
           "zerolinewidth": 2
          }
         }
        },
        "title": {
         "text": "3 and more classes"
        },
        "width": 1000,
        "xaxis": {
         "anchor": "y",
         "domain": [
          0,
          1
         ]
        },
        "xaxis10": {
         "anchor": "y10",
         "domain": [
          0,
          1
         ]
        },
        "xaxis11": {
         "anchor": "y11",
         "domain": [
          0,
          1
         ]
        },
        "xaxis12": {
         "anchor": "y12",
         "domain": [
          0,
          1
         ]
        },
        "xaxis13": {
         "anchor": "y13",
         "domain": [
          0,
          1
         ]
        },
        "xaxis14": {
         "anchor": "y14",
         "domain": [
          0,
          1
         ]
        },
        "xaxis15": {
         "anchor": "y15",
         "domain": [
          0,
          1
         ]
        },
        "xaxis16": {
         "anchor": "y16",
         "domain": [
          0,
          1
         ]
        },
        "xaxis17": {
         "anchor": "y17",
         "domain": [
          0,
          1
         ]
        },
        "xaxis18": {
         "anchor": "y18",
         "domain": [
          0,
          1
         ]
        },
        "xaxis2": {
         "anchor": "y2",
         "domain": [
          0,
          1
         ]
        },
        "xaxis3": {
         "anchor": "y3",
         "domain": [
          0,
          1
         ]
        },
        "xaxis4": {
         "anchor": "y4",
         "domain": [
          0,
          1
         ]
        },
        "xaxis5": {
         "anchor": "y5",
         "domain": [
          0,
          1
         ]
        },
        "xaxis6": {
         "anchor": "y6",
         "domain": [
          0,
          1
         ]
        },
        "xaxis7": {
         "anchor": "y7",
         "domain": [
          0,
          1
         ]
        },
        "xaxis8": {
         "anchor": "y8",
         "domain": [
          0,
          1
         ]
        },
        "xaxis9": {
         "anchor": "y9",
         "domain": [
          0,
          1
         ]
        },
        "yaxis": {
         "anchor": "x",
         "domain": [
          0.9706790123456792,
          1
         ]
        },
        "yaxis10": {
         "anchor": "x10",
         "domain": [
          0.4567901234567901,
          0.4861111111111111
         ]
        },
        "yaxis11": {
         "anchor": "x11",
         "domain": [
          0.39969135802469136,
          0.42901234567901236
         ]
        },
        "yaxis12": {
         "anchor": "x12",
         "domain": [
          0.34259259259259256,
          0.37191358024691357
         ]
        },
        "yaxis13": {
         "anchor": "x13",
         "domain": [
          0.2854938271604939,
          0.3148148148148149
         ]
        },
        "yaxis14": {
         "anchor": "x14",
         "domain": [
          0.22839506172839508,
          0.2577160493827161
         ]
        },
        "yaxis15": {
         "anchor": "x15",
         "domain": [
          0.17129629629629628,
          0.20061728395061726
         ]
        },
        "yaxis16": {
         "anchor": "x16",
         "domain": [
          0.11419753086419754,
          0.14351851851851852
         ]
        },
        "yaxis17": {
         "anchor": "x17",
         "domain": [
          0.05709876543209877,
          0.08641975308641976
         ]
        },
        "yaxis18": {
         "anchor": "x18",
         "domain": [
          0,
          0.02932098765432099
         ]
        },
        "yaxis2": {
         "anchor": "x2",
         "domain": [
          0.9135802469135803,
          0.9429012345679013
         ]
        },
        "yaxis3": {
         "anchor": "x3",
         "domain": [
          0.8564814814814816,
          0.8858024691358026
         ]
        },
        "yaxis4": {
         "anchor": "x4",
         "domain": [
          0.7993827160493827,
          0.8287037037037037
         ]
        },
        "yaxis5": {
         "anchor": "x5",
         "domain": [
          0.742283950617284,
          0.771604938271605
         ]
        },
        "yaxis6": {
         "anchor": "x6",
         "domain": [
          0.6851851851851852,
          0.7145061728395062
         ]
        },
        "yaxis7": {
         "anchor": "x7",
         "domain": [
          0.6280864197530864,
          0.6574074074074074
         ]
        },
        "yaxis8": {
         "anchor": "x8",
         "domain": [
          0.5709876543209877,
          0.6003086419753088
         ]
        },
        "yaxis9": {
         "anchor": "x9",
         "domain": [
          0.5138888888888888,
          0.5432098765432098
         ]
        }
       }
      },
      "text/html": [
       "<div>                            <div id=\"63d633e1-ae47-4b73-9100-fc57c2c0c61e\" class=\"plotly-graph-div\" style=\"height:6000px; width:1000px;\"></div>            <script type=\"text/javascript\">                require([\"plotly\"], function(Plotly) {                    window.PLOTLYENV=window.PLOTLYENV || {};                                    if (document.getElementById(\"63d633e1-ae47-4b73-9100-fc57c2c0c61e\")) {                    Plotly.newPlot(                        \"63d633e1-ae47-4b73-9100-fc57c2c0c61e\",                        [{\"name\":\"renovation\",\"x\":[\"\\u041f\\u043e\\u0434\\u0433\\u043e\\u0442\\u043e\\u0432\\u043a\\u0430 \\u043f\\u043e\\u0434 \\u0447\\u0438\\u0441\\u0442\\u043e\\u0432\\u0443\\u044e \\u043e\\u0442\\u0434\\u0435\\u043b\\u043a\\u0443\",\"\\u041e\\u0442\\u0434\\u0435\\u043b\\u043a\\u0430 \\\"\\u043f\\u043e\\u0434 \\u043a\\u043b\\u044e\\u0447\\\"\",\"\\u0427\\u0435\\u0440\\u043d\\u043e\\u0432\\u0430\\u044f \\u043e\\u0442\\u0434\\u0435\\u043b\\u043a\\u0430\",\"\\u0427\\u0438\\u0441\\u0442\\u043e\\u0432\\u0430\\u044f \\u043e\\u0442\\u0434\\u0435\\u043b\\u043a\\u0430\",\"\\u0411\\u0435\\u0437 \\u043e\\u0442\\u0434\\u0435\\u043b\\u043a\\u0438\"],\"y\":[977,520,493,14,1],\"type\":\"bar\",\"xaxis\":\"x\",\"yaxis\":\"y\"},{\"name\":\"rooms\",\"x\":[1,2,3,4,5,6],\"y\":[1154,573,206,48,16,8],\"type\":\"bar\",\"xaxis\":\"x2\",\"yaxis\":\"y2\"},{\"name\":\"balcony\",\"x\":[\"\\u043b\\u043e\\u0434\\u0436\\u0438\\u044f\",\"\\u043d\\u0435\\u0442\",\"\\u0431\\u0430\\u043b\\u043a\\u043e\\u043d\",\"2 \\u043b\\u043e\\u0434\\u0436\\u0438\\u0438\",\"2 \\u0431\\u0430\\u043b\\u043a\\u043e\\u043d\\u0430\",\"\\u0431\\u0430\\u043b\\u043a\\u043e\\u043d+\\u0442\\u0435\\u0440\\u0440\\u0430\\u0441\\u0430\",\"\\u0442\\u0435\\u0440\\u0440\\u0430\\u0441\\u0430\",\"\\u044d\\u0440\\u043a\\u0435\\u0440\"],\"y\":[1026,426,278,140,59,42,31,3],\"type\":\"bar\",\"xaxis\":\"x3\",\"yaxis\":\"y3\"},{\"name\":\"bathroom_unit\",\"x\":[\"\\u0441\\u043e\\u0432\\u043c\\u0435\\u0449\\u0435\\u043d\\u043d\\u044b\\u0439\",\"\\u0440\\u0430\\u0437\\u0434\\u0435\\u043b\\u044c\\u043d\\u044b\\u0439\",\"2\",\"c\\u043e\\u0432\\u043c\\u0435\\u0449\\u0435\\u043d\\u043d\\u044b\\u0439\"],\"y\":[871,611,518,5],\"type\":\"bar\",\"xaxis\":\"x4\",\"yaxis\":\"y4\"},{\"name\":\"floor\",\"x\":[2,3,4,5,7,1,6,12,8,11,9,10,13,20,14,19,16,17,18,15,22,21,23,24,27,26,25],\"y\":[225,184,166,140,139,128,125,113,109,107,101,99,63,58,43,42,41,37,35,28,6,4,3,3,2,2,2],\"type\":\"bar\",\"xaxis\":\"x5\",\"yaxis\":\"y5\"},{\"name\":\"floors_total\",\"x\":[12,20,13,4,18,9,11,8,23,27,3,6,7,2,1,5],\"y\":[808,310,185,153,131,85,63,55,51,49,37,28,25,15,5,5],\"type\":\"bar\",\"xaxis\":\"x6\",\"yaxis\":\"y6\"},{\"name\":\"building_name\",\"x\":[\"\\u041c\\u043e\\u0434\\u0443\\u043c\",\"ID Murino 2\",\"Start\",\"NEW TIME\",\"Valo\",\"Ultra City\",\"LATTE\",\"ID \\u041f\\u0430\\u0440\\u043a \\u041f\\u043e\\u0431\\u0435\\u0434\\u044b\",\"\\u042e\\u0442\\u0442\\u0435\\u0440\\u0438\",\"\\u042f\\u0421\\u041d\\u041e.\\u042f\\u043d\\u0438\\u043d\\u043e\",\"\\u0411\\u0435\\u043b\\u0410\\u0440\\u0442\",\"\\u041a\\u043e\\u043d\\u0442\\u0438\\u043d\\u0435\\u043d\\u0442\\u044b\",\"Moskovsky AVENIR\",\"Resort\",\"\\u0410\\u0443\\u0440\\u0430\",\"Nordic\",\"NEW\\u041f\\u0438\\u0442\\u0435\\u0440\",\"\\u042d\\u043d\\u0444\\u0438\\u043b\\u0434\",\"Jaanila Drive\",\"\\u0418\\u0434\\u0435\\u0430\\u043b\\u0438\\u0441\\u0442\",\"SHINE\",\"\\u0410\\u0440\\u0442\\u0445\\u0430\\u0443\\u0441\",\"IQ \\u0413\\u0430\\u0442\\u0447\\u0438\\u043d\\u0430\",\"Duderhof club\",\"\\u041157\",\"Pushkin\",\"\\u041d\\u043e\\u0432\\u043e\\u0435 \\u041a\\u0443\\u043f\\u0447\\u0438\\u043d\\u043e\",\"Villas Spa\",\"INKERI\",\"\\u041f\\u0435\\u0442\\u0435\\u0440\\u0433\\u043e\\u0444\\u0441\\u043a\\u0438\\u0435 \\u0434\\u0430\\u0447\\u0438\",\"\\u041b\\u0430\\u0445\\u0442\\u0430 \\u041f\\u0430\\u0440\\u043a\",\"\\u0415\\u0441\\u0435\\u043d\\u0438\\u043d Village\",\"\\u041b\\u0430\\u0445\\u0442\\u0430 \\u041f\\u043b\\u0430\\u0437\\u0430\",\"\\u0422\\u0440\\u0438\\u043b\\u043e\\u0433\\u0438\\u044f\"],\"y\":[452,314,216,179,131,94,65,63,54,54,50,49,36,32,28,27,22,22,20,16,12,9,8,8,7,7,6,6,5,5,5,1,1,1],\"type\":\"bar\",\"xaxis\":\"x7\",\"yaxis\":\"y7\"},{\"name\":\"building_type\",\"x\":[\"\\u043a\\u0438\\u0440\\u043f\\u0438\\u0447\\u043d\\u043e-\\u043c\\u043e\\u043d\\u043e\\u043b\\u0438\\u0442\\u043d\\u044b\\u0439\",\"\\u043c\\u043e\\u043d\\u043e\\u043b\\u0438\\u0442\\u043d\\u044b\\u0439\",\"\\u043f\\u0430\\u043d\\u0435\\u043b\\u044c\\u043d\\u044b\\u0439\",\"\\u043a\\u0438\\u0440\\u043f\\u0438\\u0447\\u043d\\u044b\\u0439\",\"\\u043c\\u043e\\u043d\\u043e\\u043b\\u0438\\u0442\\u043d\\u043e-\\u043a\\u0430\\u0440\\u043a\\u0430\\u0441\\u043d\\u044b\\u0439\",\"\\u043a\\u0430\\u0440\\u043a\\u0430\\u0441\\u043d\\u043e-\\u0431\\u043b\\u043e\\u0447\\u043d\\u044b\\u0439\",\"\\u0431\\u043b\\u043e\\u0447\\u043d\\u044b\\u0439\"],\"y\":[1207,642,87,56,7,5,1],\"type\":\"bar\",\"xaxis\":\"x8\",\"yaxis\":\"y8\"},{\"name\":\"building_phase\",\"x\":[\"\\u041e\\u0447\\u0435\\u0440\\u0435\\u0434\\u044c 1\",\"\\u041e\\u0447\\u0435\\u0440\\u0435\\u0434\\u044c 5\",\"\\u041e\\u0447\\u0435\\u0440\\u0435\\u0434\\u044c 2\",\"\\u041e\\u0447\\u0435\\u0440\\u0435\\u0434\\u044c 3\"],\"y\":[1285,277,264,179],\"type\":\"bar\",\"xaxis\":\"x9\",\"yaxis\":\"y9\"},{\"name\":\"building_section\",\"x\":[\"\\u041a\\u043e\\u0440\\u043f\\u0443\\u0441 3\",\"\\u041a\\u043e\\u0440\\u043f\\u0443\\u0441 1\",\"\\u041a\\u043e\\u0440\\u043f\\u0443\\u0441 2\",\"\\u041a\\u043e\\u0440\\u043f\\u0443\\u0441 4\",\"\\u041a\\u043e\\u0440\\u043f\\u0443\\u0441 5 \\u044d\\u0442\\u0430\\u043f 2\",\"\\u041a\\u043e\\u0440\\u043f\\u0443\\u0441 2 (Mercure)\",\"\\u041a\\u043e\\u0440\\u043f\\u0443\\u0441 6 \\u044d\\u0442\\u0430\\u043f 2\",\"\\u041a\\u043e\\u0440\\u043f\\u0443\\u0441 109\",\"\\u041a\\u043e\\u0440\\u043f\\u0443\\u0441 \\u0413\",\"\\u041a\\u043e\\u0440\\u043f\\u0443\\u0441 6.1\",\"\\u041a\\u043e\\u0440\\u043f\\u0443\\u0441 110\",\"\\u041a\\u043e\\u0440\\u043f\\u0443\\u0441 \\u0412\",\"\\u041a\\u043e\\u0440\\u043f\\u0443\\u0441 6.3\",\"\\u041a\\u043e\\u0440\\u043f\\u0443\\u0441 2.1\",\"\\u041a\\u043e\\u0440\\u043f\\u0443\\u0441 9\",\"\\u041a\\u043e\\u0440\\u043f\\u0443\\u0441 94.2\",\"\\u041a\\u043e\\u0440\\u043f\\u0443\\u0441 6.2\",\"\\u041a\\u043e\\u0440\\u043f\\u0443\\u0441 8\",\"\\u041a\\u043e\\u0440\\u043f\\u0443\\u0441 5\",\"\\u041a\\u043e\\u0440\\u043f\\u0443\\u0441 94.1\",\"\\u041a\\u043e\\u0440\\u043f\\u0443\\u0441 116\",\"\\u041a\\u043e\\u0440\\u043f\\u0443\\u0441 \\u0422\\u0430\\u0443\\u043d\\u0445\\u0430\\u0443\\u0441\\u044b\",\"\\u041a\\u043e\\u0440\\u043f\\u0443\\u0441 \\u0441\\u0438\\u0442\\u0438-\\u0432\\u0438\\u043b\\u043b\\u044b 3\\u0411\",\"\\u041a\\u043e\\u0440\\u043f\\u0443\\u0441 100.2\",\"\\u041a\\u043e\\u0440\\u043f\\u0443\\u0441 93\",\"\\u041a\\u043e\\u0440\\u043f\\u0443\\u0441 91\",\"\\u041a\\u043e\\u0440\\u043f\\u0443\\u0441 82\",\"\\u041a\\u043e\\u0440\\u043f\\u0443\\u0441 86\",\"\\u041a\\u043e\\u0440\\u043f\\u0443\\u0441 83\",\"\\u041a\\u043e\\u0440\\u043f\\u0443\\u0441 92.2\",\"\\u041a\\u043e\\u0440\\u043f\\u0443\\u0441 98\",\"\\u041a\\u043e\\u0440\\u043f\\u0443\\u0441 106\",\"\\u041a\\u043e\\u0440\\u043f\\u0443\\u0441 101\",\"\\u041a\\u043e\\u0440\\u043f\\u0443\\u0441 97\",\"\\u041a\\u043e\\u0440\\u043f\\u0443\\u0441 92.1\",\"\\u041a\\u043e\\u0440\\u043f\\u0443\\u0441 57-95 \\u0443\\u0447\\u0430\\u0441\\u0442\\u043a\\u0438\",\"\\u041a\\u043e\\u0440\\u043f\\u0443\\u0441 6\",\"\\u041a\\u043e\\u0440\\u043f\\u0443\\u0441 54\",\"\\u041a\\u043e\\u0440\\u043f\\u0443\\u0441 49\",\"\\u041a\\u043e\\u0440\\u043f\\u0443\\u0441 43\",\"\\u041a\\u043e\\u0440\\u043f\\u0443\\u0441 1-27 \\u0443\\u0447\\u0430\\u0441\\u0442\\u043a\\u0438\",\"\\u041a\\u043e\\u0440\\u043f\\u0443\\u0441 47\",\"\\u041a\\u043e\\u0440\\u043f\\u0443\\u0441 42\",\"\\u041a\\u043e\\u0440\\u043f\\u0443\\u0441 \\u0410\",\"\\u041a\\u043e\\u0440\\u043f\\u0443\\u0441 \\u041113\",\"\\u041a\\u043e\\u0440\\u043f\\u0443\\u0441 32-56 \\u0443\\u0447\\u0430\\u0441\\u0442\\u043a\\u0438\",\"\\u041a\\u043e\\u0440\\u043f\\u0443\\u0441 36\"],\"y\":[577,462,378,129,57,56,37,34,28,25,22,21,18,15,13,13,11,10,9,9,9,8,5,5,4,4,4,4,4,4,3,3,3,3,3,3,2,1,1,1,1,1,1,1,1,1,1],\"type\":\"bar\",\"xaxis\":\"x10\",\"yaxis\":\"y10\"},{\"name\":\"built_year\",\"x\":[2022,2021,2023,2024,2020,2014,2015,2017,2019,2018,2016],\"y\":[1083,411,399,63,31,9,5,1,1,1,1],\"type\":\"bar\",\"xaxis\":\"x11\",\"yaxis\":\"y11\"},{\"name\":\"ready_quarter\",\"x\":[4,3,2,1],\"y\":[1141,599,171,94],\"type\":\"bar\",\"xaxis\":\"x12\",\"yaxis\":\"y12\"},{\"name\":\"ceiling_height\",\"x\":[2.75,2.8,3.0,2.7,2.6,3.2,2.72,2.85,3.7],\"y\":[711,505,412,140,91,67,60,11,8],\"type\":\"bar\",\"xaxis\":\"x13\",\"yaxis\":\"y13\"},{\"name\":\"locality_name\",\"x\":[\"\\u0421\\u0430\\u043d\\u043a\\u0442-\\u041f\\u0435\\u0442\\u0435\\u0440\\u0431\\u0443\\u0440\\u0433\",\"\\u041b\\u0430\\u0432\\u0440\\u0438\\u043a\\u0438\",\"\\u041a\\u0440\\u0430\\u0441\\u043d\\u0438\\u0446\\u044b\",\"\\u0417\\u0430\\u043d\\u0435\\u0432\\u0441\\u043a\\u043e\\u0435\",\"\\u041a\\u043e\\u043b\\u043f\\u0438\\u043d\\u043e\",\"\\u0411\\u0443\\u0433\\u0440\\u044b\",\"\\u041d\\u043e\\u0432\\u043e\\u0441\\u0435\\u043b\\u044c\\u0435\",\"\\u042f\\u043d\\u0438\\u043d\\u043e-1\",\"\\u0413\\u0430\\u0442\\u0447\\u0438\\u043d\\u0430\",\"\\u041f\\u0435\\u0442\\u0435\\u0440\\u0433\\u043e\\u0444\",\"\\u041b\\u0430\\u0445\\u0442\\u0430\",\"\\u041f\\u0443\\u0448\\u043a\\u0438\\u043d\",\"\\u0410\\u043d\\u043d\\u043e\\u043b\\u043e\\u0432\\u043e\"],\"y\":[1358,314,137,54,54,22,22,20,8,5,5,5,1],\"type\":\"bar\",\"xaxis\":\"x14\",\"yaxis\":\"y14\"},{\"name\":\"non_admin_sub_locality\",\"x\":[\"\\u041f\\u0440\\u0438\\u043c\\u043e\\u0440\\u0441\\u043a\\u0438\\u0439\",\"\\u0412\\u0441\\u0435\\u0432\\u043e\\u043b\\u043e\\u0436\\u0441\\u043a\\u0438\\u0439\",\"\\u0412\\u044b\\u0431\\u043e\\u0440\\u0433\\u0441\\u043a\\u0438\\u0439\",\"\\u0413\\u0430\\u0442\\u0447\\u0438\\u043d\\u0441\\u043a\\u0438\\u0439\",\"\\u0424\\u0440\\u0443\\u043d\\u0437\\u0435\\u043d\\u0441\\u043a\\u0438\\u0439\",\"\\u041c\\u043e\\u0441\\u043a\\u043e\\u0432\\u0441\\u043a\\u0438\\u0439\",\"\\u041a\\u043e\\u043b\\u043f\\u0438\\u043d\\u0441\\u043a\\u0438\\u0439\",\"\\u041a\\u0430\\u043b\\u0438\\u043d\\u0438\\u043d\\u0441\\u043a\\u0438\\u0439\",\"\\u0410\\u0434\\u043c\\u0438\\u0440\\u0430\\u043b\\u0442\\u0435\\u0439\\u0441\\u043a\\u0438\\u0439\",\"\\u041b\\u043e\\u043c\\u043e\\u043d\\u043e\\u0441\\u043e\\u0432\\u0441\\u043a\\u0438\\u0439\",\"\\u041a\\u0440\\u0430\\u0441\\u043d\\u043e\\u0433\\u0432\\u0430\\u0440\\u0434\\u0435\\u0439\\u0441\\u043a\\u0438\\u0439\",\"\\u041a\\u0440\\u0430\\u0441\\u043d\\u043e\\u0441\\u0435\\u043b\\u044c\\u0441\\u043a\\u0438\\u0439\",\"\\u041f\\u0435\\u0442\\u0440\\u043e\\u0434\\u0432\\u043e\\u0440\\u0446\\u043e\\u0432\\u044b\\u0439\",\"\\u041f\\u0443\\u0448\\u043a\\u0438\\u043d\\u0441\\u043a\\u0438\\u0439\",\"\\u0422\\u043e\\u0441\\u043d\\u0435\\u043d\\u0441\\u043a\\u0438\\u0439\",\"\\u041a\\u0438\\u0440\\u043e\\u0432\\u0441\\u043a\\u0438\\u0439\"],\"y\":[731,410,293,145,137,106,54,50,25,22,12,8,5,5,1,1],\"type\":\"bar\",\"xaxis\":\"x15\",\"yaxis\":\"y15\"},{\"name\":\"metro\",\"x\":[\"\\u041a\\u043e\\u043c\\u0435\\u043d\\u0434\\u0430\\u043d\\u0442\\u0441\\u043a\\u0438\\u0439 \\u043f\\u0440\\u043e\\u0441\\u043f\\u0435\\u043a\\u0442\",\"\\u0414\\u0435\\u0432\\u044f\\u0442\\u043a\\u0438\\u043d\\u043e\",\"\\u041f\\u0430\\u0440\\u043d\\u0430\\u0441\",\"\\u041a\\u0443\\u043f\\u0447\\u0438\\u043d\\u043e\",\"\\u0411\\u0443\\u0445\\u0430\\u0440\\u0435\\u0441\\u0442\\u0441\\u043a\\u0430\\u044f\",\"\\u041b\\u0430\\u0434\\u043e\\u0436\\u0441\\u043a\\u0430\\u044f\",\"\\u042d\\u043b\\u0435\\u043a\\u0442\\u0440\\u043e\\u0441\\u0438\\u043b\\u0430\",\"\\u0417\\u0432\\u0435\\u0437\\u0434\\u043d\\u0430\\u044f\",\"\\u041b\\u0435\\u0441\\u043d\\u0430\\u044f\",\"\\u0424\\u0440\\u0443\\u043d\\u0437\\u0435\\u043d\\u0441\\u043a\\u0430\\u044f\",\"\\u041f\\u0440\\u043e\\u0441\\u043f\\u0435\\u043a\\u0442 \\u0412\\u0435\\u0442\\u0435\\u0440\\u0430\\u043d\\u043e\\u0432\",\"\\u041f\\u0438\\u043e\\u043d\\u0435\\u0440\\u0441\\u043a\\u0430\\u044f\",\"\\u0422\\u0435\\u0445\\u043d\\u043e\\u043b\\u043e\\u0433\\u0438\\u0447\\u0435\\u0441\\u043a\\u0438\\u0439 \\u0438\\u043d\\u0441\\u0442\\u0438\\u0442\\u0443\\u0442\",\"\\u041d\\u043e\\u0432\\u043e\\u0447\\u0435\\u0440\\u043a\\u0430\\u0441\\u0441\\u043a\\u0430\\u044f\",\"\\u0417\\u0432\\u0435\\u043d\\u0438\\u0433\\u043e\\u0440\\u043e\\u0434\\u0441\\u043a\\u0430\\u044f\",\"\\u041f\\u0430\\u0440\\u043a \\u041f\\u043e\\u0431\\u0435\\u0434\\u044b\",\"\\u0414\\u0443\\u043d\\u0430\\u0439\\u0441\\u043a\\u0430\\u044f\",\"\\u041c\\u043e\\u0441\\u043a\\u043e\\u0432\\u0441\\u043a\\u0430\\u044f\",\"\\u041b\\u0435\\u043d\\u0438\\u043d\\u0441\\u043a\\u0438\\u0439 \\u043f\\u0440\\u043e\\u0441\\u043f\\u0435\\u043a\\u0442\",\"\\u0421\\u0442\\u0430\\u0440\\u0430\\u044f \\u0434\\u0435\\u0440\\u0435\\u0432\\u043d\\u044f\",\"\\u043d\\u0435\\u0442\"],\"y\":[725,336,265,138,131,74,63,62,50,36,31,28,16,12,9,7,6,5,5,5,1],\"type\":\"bar\",\"xaxis\":\"x16\",\"yaxis\":\"y16\"},{\"name\":\"time_on_foot\",\"x\":[-1.0,5.0,3.0,20.0,15.0,10.0,8.0,6.0],\"y\":[1381,216,131,128,70,58,12,9],\"type\":\"bar\",\"xaxis\":\"x17\",\"yaxis\":\"y17\"},{\"name\":\"time_on_transport\",\"x\":[-1.0,10.0,5.0,15.0,60.0,20.0,40.0,30.0,25.0,35.0],\"y\":[625,588,314,233,137,70,22,10,5,1],\"type\":\"bar\",\"xaxis\":\"x18\",\"yaxis\":\"y18\"}],                        {\"template\":{\"data\":{\"histogram2dcontour\":[{\"type\":\"histogram2dcontour\",\"colorbar\":{\"outlinewidth\":0,\"ticks\":\"\"},\"colorscale\":[[0.0,\"#0d0887\"],[0.1111111111111111,\"#46039f\"],[0.2222222222222222,\"#7201a8\"],[0.3333333333333333,\"#9c179e\"],[0.4444444444444444,\"#bd3786\"],[0.5555555555555556,\"#d8576b\"],[0.6666666666666666,\"#ed7953\"],[0.7777777777777778,\"#fb9f3a\"],[0.8888888888888888,\"#fdca26\"],[1.0,\"#f0f921\"]]}],\"choropleth\":[{\"type\":\"choropleth\",\"colorbar\":{\"outlinewidth\":0,\"ticks\":\"\"}}],\"histogram2d\":[{\"type\":\"histogram2d\",\"colorbar\":{\"outlinewidth\":0,\"ticks\":\"\"},\"colorscale\":[[0.0,\"#0d0887\"],[0.1111111111111111,\"#46039f\"],[0.2222222222222222,\"#7201a8\"],[0.3333333333333333,\"#9c179e\"],[0.4444444444444444,\"#bd3786\"],[0.5555555555555556,\"#d8576b\"],[0.6666666666666666,\"#ed7953\"],[0.7777777777777778,\"#fb9f3a\"],[0.8888888888888888,\"#fdca26\"],[1.0,\"#f0f921\"]]}],\"heatmap\":[{\"type\":\"heatmap\",\"colorbar\":{\"outlinewidth\":0,\"ticks\":\"\"},\"colorscale\":[[0.0,\"#0d0887\"],[0.1111111111111111,\"#46039f\"],[0.2222222222222222,\"#7201a8\"],[0.3333333333333333,\"#9c179e\"],[0.4444444444444444,\"#bd3786\"],[0.5555555555555556,\"#d8576b\"],[0.6666666666666666,\"#ed7953\"],[0.7777777777777778,\"#fb9f3a\"],[0.8888888888888888,\"#fdca26\"],[1.0,\"#f0f921\"]]}],\"heatmapgl\":[{\"type\":\"heatmapgl\",\"colorbar\":{\"outlinewidth\":0,\"ticks\":\"\"},\"colorscale\":[[0.0,\"#0d0887\"],[0.1111111111111111,\"#46039f\"],[0.2222222222222222,\"#7201a8\"],[0.3333333333333333,\"#9c179e\"],[0.4444444444444444,\"#bd3786\"],[0.5555555555555556,\"#d8576b\"],[0.6666666666666666,\"#ed7953\"],[0.7777777777777778,\"#fb9f3a\"],[0.8888888888888888,\"#fdca26\"],[1.0,\"#f0f921\"]]}],\"contourcarpet\":[{\"type\":\"contourcarpet\",\"colorbar\":{\"outlinewidth\":0,\"ticks\":\"\"}}],\"contour\":[{\"type\":\"contour\",\"colorbar\":{\"outlinewidth\":0,\"ticks\":\"\"},\"colorscale\":[[0.0,\"#0d0887\"],[0.1111111111111111,\"#46039f\"],[0.2222222222222222,\"#7201a8\"],[0.3333333333333333,\"#9c179e\"],[0.4444444444444444,\"#bd3786\"],[0.5555555555555556,\"#d8576b\"],[0.6666666666666666,\"#ed7953\"],[0.7777777777777778,\"#fb9f3a\"],[0.8888888888888888,\"#fdca26\"],[1.0,\"#f0f921\"]]}],\"surface\":[{\"type\":\"surface\",\"colorbar\":{\"outlinewidth\":0,\"ticks\":\"\"},\"colorscale\":[[0.0,\"#0d0887\"],[0.1111111111111111,\"#46039f\"],[0.2222222222222222,\"#7201a8\"],[0.3333333333333333,\"#9c179e\"],[0.4444444444444444,\"#bd3786\"],[0.5555555555555556,\"#d8576b\"],[0.6666666666666666,\"#ed7953\"],[0.7777777777777778,\"#fb9f3a\"],[0.8888888888888888,\"#fdca26\"],[1.0,\"#f0f921\"]]}],\"mesh3d\":[{\"type\":\"mesh3d\",\"colorbar\":{\"outlinewidth\":0,\"ticks\":\"\"}}],\"scatter\":[{\"fillpattern\":{\"fillmode\":\"overlay\",\"size\":10,\"solidity\":0.2},\"type\":\"scatter\"}],\"parcoords\":[{\"type\":\"parcoords\",\"line\":{\"colorbar\":{\"outlinewidth\":0,\"ticks\":\"\"}}}],\"scatterpolargl\":[{\"type\":\"scatterpolargl\",\"marker\":{\"colorbar\":{\"outlinewidth\":0,\"ticks\":\"\"}}}],\"bar\":[{\"error_x\":{\"color\":\"#2a3f5f\"},\"error_y\":{\"color\":\"#2a3f5f\"},\"marker\":{\"line\":{\"color\":\"#E5ECF6\",\"width\":0.5},\"pattern\":{\"fillmode\":\"overlay\",\"size\":10,\"solidity\":0.2}},\"type\":\"bar\"}],\"scattergeo\":[{\"type\":\"scattergeo\",\"marker\":{\"colorbar\":{\"outlinewidth\":0,\"ticks\":\"\"}}}],\"scatterpolar\":[{\"type\":\"scatterpolar\",\"marker\":{\"colorbar\":{\"outlinewidth\":0,\"ticks\":\"\"}}}],\"histogram\":[{\"marker\":{\"pattern\":{\"fillmode\":\"overlay\",\"size\":10,\"solidity\":0.2}},\"type\":\"histogram\"}],\"scattergl\":[{\"type\":\"scattergl\",\"marker\":{\"colorbar\":{\"outlinewidth\":0,\"ticks\":\"\"}}}],\"scatter3d\":[{\"type\":\"scatter3d\",\"line\":{\"colorbar\":{\"outlinewidth\":0,\"ticks\":\"\"}},\"marker\":{\"colorbar\":{\"outlinewidth\":0,\"ticks\":\"\"}}}],\"scattermapbox\":[{\"type\":\"scattermapbox\",\"marker\":{\"colorbar\":{\"outlinewidth\":0,\"ticks\":\"\"}}}],\"scatterternary\":[{\"type\":\"scatterternary\",\"marker\":{\"colorbar\":{\"outlinewidth\":0,\"ticks\":\"\"}}}],\"scattercarpet\":[{\"type\":\"scattercarpet\",\"marker\":{\"colorbar\":{\"outlinewidth\":0,\"ticks\":\"\"}}}],\"carpet\":[{\"aaxis\":{\"endlinecolor\":\"#2a3f5f\",\"gridcolor\":\"white\",\"linecolor\":\"white\",\"minorgridcolor\":\"white\",\"startlinecolor\":\"#2a3f5f\"},\"baxis\":{\"endlinecolor\":\"#2a3f5f\",\"gridcolor\":\"white\",\"linecolor\":\"white\",\"minorgridcolor\":\"white\",\"startlinecolor\":\"#2a3f5f\"},\"type\":\"carpet\"}],\"table\":[{\"cells\":{\"fill\":{\"color\":\"#EBF0F8\"},\"line\":{\"color\":\"white\"}},\"header\":{\"fill\":{\"color\":\"#C8D4E3\"},\"line\":{\"color\":\"white\"}},\"type\":\"table\"}],\"barpolar\":[{\"marker\":{\"line\":{\"color\":\"#E5ECF6\",\"width\":0.5},\"pattern\":{\"fillmode\":\"overlay\",\"size\":10,\"solidity\":0.2}},\"type\":\"barpolar\"}],\"pie\":[{\"automargin\":true,\"type\":\"pie\"}]},\"layout\":{\"autotypenumbers\":\"strict\",\"colorway\":[\"#636efa\",\"#EF553B\",\"#00cc96\",\"#ab63fa\",\"#FFA15A\",\"#19d3f3\",\"#FF6692\",\"#B6E880\",\"#FF97FF\",\"#FECB52\"],\"font\":{\"color\":\"#2a3f5f\"},\"hovermode\":\"closest\",\"hoverlabel\":{\"align\":\"left\"},\"paper_bgcolor\":\"white\",\"plot_bgcolor\":\"#E5ECF6\",\"polar\":{\"bgcolor\":\"#E5ECF6\",\"angularaxis\":{\"gridcolor\":\"white\",\"linecolor\":\"white\",\"ticks\":\"\"},\"radialaxis\":{\"gridcolor\":\"white\",\"linecolor\":\"white\",\"ticks\":\"\"}},\"ternary\":{\"bgcolor\":\"#E5ECF6\",\"aaxis\":{\"gridcolor\":\"white\",\"linecolor\":\"white\",\"ticks\":\"\"},\"baxis\":{\"gridcolor\":\"white\",\"linecolor\":\"white\",\"ticks\":\"\"},\"caxis\":{\"gridcolor\":\"white\",\"linecolor\":\"white\",\"ticks\":\"\"}},\"coloraxis\":{\"colorbar\":{\"outlinewidth\":0,\"ticks\":\"\"}},\"colorscale\":{\"sequential\":[[0.0,\"#0d0887\"],[0.1111111111111111,\"#46039f\"],[0.2222222222222222,\"#7201a8\"],[0.3333333333333333,\"#9c179e\"],[0.4444444444444444,\"#bd3786\"],[0.5555555555555556,\"#d8576b\"],[0.6666666666666666,\"#ed7953\"],[0.7777777777777778,\"#fb9f3a\"],[0.8888888888888888,\"#fdca26\"],[1.0,\"#f0f921\"]],\"sequentialminus\":[[0.0,\"#0d0887\"],[0.1111111111111111,\"#46039f\"],[0.2222222222222222,\"#7201a8\"],[0.3333333333333333,\"#9c179e\"],[0.4444444444444444,\"#bd3786\"],[0.5555555555555556,\"#d8576b\"],[0.6666666666666666,\"#ed7953\"],[0.7777777777777778,\"#fb9f3a\"],[0.8888888888888888,\"#fdca26\"],[1.0,\"#f0f921\"]],\"diverging\":[[0,\"#8e0152\"],[0.1,\"#c51b7d\"],[0.2,\"#de77ae\"],[0.3,\"#f1b6da\"],[0.4,\"#fde0ef\"],[0.5,\"#f7f7f7\"],[0.6,\"#e6f5d0\"],[0.7,\"#b8e186\"],[0.8,\"#7fbc41\"],[0.9,\"#4d9221\"],[1,\"#276419\"]]},\"xaxis\":{\"gridcolor\":\"white\",\"linecolor\":\"white\",\"ticks\":\"\",\"title\":{\"standoff\":15},\"zerolinecolor\":\"white\",\"automargin\":true,\"zerolinewidth\":2},\"yaxis\":{\"gridcolor\":\"white\",\"linecolor\":\"white\",\"ticks\":\"\",\"title\":{\"standoff\":15},\"zerolinecolor\":\"white\",\"automargin\":true,\"zerolinewidth\":2},\"scene\":{\"xaxis\":{\"backgroundcolor\":\"#E5ECF6\",\"gridcolor\":\"white\",\"linecolor\":\"white\",\"showbackground\":true,\"ticks\":\"\",\"zerolinecolor\":\"white\",\"gridwidth\":2},\"yaxis\":{\"backgroundcolor\":\"#E5ECF6\",\"gridcolor\":\"white\",\"linecolor\":\"white\",\"showbackground\":true,\"ticks\":\"\",\"zerolinecolor\":\"white\",\"gridwidth\":2},\"zaxis\":{\"backgroundcolor\":\"#E5ECF6\",\"gridcolor\":\"white\",\"linecolor\":\"white\",\"showbackground\":true,\"ticks\":\"\",\"zerolinecolor\":\"white\",\"gridwidth\":2}},\"shapedefaults\":{\"line\":{\"color\":\"#2a3f5f\"}},\"annotationdefaults\":{\"arrowcolor\":\"#2a3f5f\",\"arrowhead\":0,\"arrowwidth\":1},\"geo\":{\"bgcolor\":\"white\",\"landcolor\":\"#E5ECF6\",\"subunitcolor\":\"white\",\"showland\":true,\"showlakes\":true,\"lakecolor\":\"white\"},\"title\":{\"x\":0.05},\"mapbox\":{\"style\":\"light\"}}},\"xaxis\":{\"anchor\":\"y\",\"domain\":[0.0,1.0]},\"yaxis\":{\"anchor\":\"x\",\"domain\":[0.9706790123456792,1.0]},\"xaxis2\":{\"anchor\":\"y2\",\"domain\":[0.0,1.0]},\"yaxis2\":{\"anchor\":\"x2\",\"domain\":[0.9135802469135803,0.9429012345679013]},\"xaxis3\":{\"anchor\":\"y3\",\"domain\":[0.0,1.0]},\"yaxis3\":{\"anchor\":\"x3\",\"domain\":[0.8564814814814816,0.8858024691358026]},\"xaxis4\":{\"anchor\":\"y4\",\"domain\":[0.0,1.0]},\"yaxis4\":{\"anchor\":\"x4\",\"domain\":[0.7993827160493827,0.8287037037037037]},\"xaxis5\":{\"anchor\":\"y5\",\"domain\":[0.0,1.0]},\"yaxis5\":{\"anchor\":\"x5\",\"domain\":[0.742283950617284,0.771604938271605]},\"xaxis6\":{\"anchor\":\"y6\",\"domain\":[0.0,1.0]},\"yaxis6\":{\"anchor\":\"x6\",\"domain\":[0.6851851851851852,0.7145061728395062]},\"xaxis7\":{\"anchor\":\"y7\",\"domain\":[0.0,1.0]},\"yaxis7\":{\"anchor\":\"x7\",\"domain\":[0.6280864197530864,0.6574074074074074]},\"xaxis8\":{\"anchor\":\"y8\",\"domain\":[0.0,1.0]},\"yaxis8\":{\"anchor\":\"x8\",\"domain\":[0.5709876543209877,0.6003086419753088]},\"xaxis9\":{\"anchor\":\"y9\",\"domain\":[0.0,1.0]},\"yaxis9\":{\"anchor\":\"x9\",\"domain\":[0.5138888888888888,0.5432098765432098]},\"xaxis10\":{\"anchor\":\"y10\",\"domain\":[0.0,1.0]},\"yaxis10\":{\"anchor\":\"x10\",\"domain\":[0.4567901234567901,0.4861111111111111]},\"xaxis11\":{\"anchor\":\"y11\",\"domain\":[0.0,1.0]},\"yaxis11\":{\"anchor\":\"x11\",\"domain\":[0.39969135802469136,0.42901234567901236]},\"xaxis12\":{\"anchor\":\"y12\",\"domain\":[0.0,1.0]},\"yaxis12\":{\"anchor\":\"x12\",\"domain\":[0.34259259259259256,0.37191358024691357]},\"xaxis13\":{\"anchor\":\"y13\",\"domain\":[0.0,1.0]},\"yaxis13\":{\"anchor\":\"x13\",\"domain\":[0.2854938271604939,0.3148148148148149]},\"xaxis14\":{\"anchor\":\"y14\",\"domain\":[0.0,1.0]},\"yaxis14\":{\"anchor\":\"x14\",\"domain\":[0.22839506172839508,0.2577160493827161]},\"xaxis15\":{\"anchor\":\"y15\",\"domain\":[0.0,1.0]},\"yaxis15\":{\"anchor\":\"x15\",\"domain\":[0.17129629629629628,0.20061728395061726]},\"xaxis16\":{\"anchor\":\"y16\",\"domain\":[0.0,1.0]},\"yaxis16\":{\"anchor\":\"x16\",\"domain\":[0.11419753086419754,0.14351851851851852]},\"xaxis17\":{\"anchor\":\"y17\",\"domain\":[0.0,1.0]},\"yaxis17\":{\"anchor\":\"x17\",\"domain\":[0.05709876543209877,0.08641975308641976]},\"xaxis18\":{\"anchor\":\"y18\",\"domain\":[0.0,1.0]},\"yaxis18\":{\"anchor\":\"x18\",\"domain\":[0.0,0.02932098765432099]},\"annotations\":[{\"font\":{\"size\":16},\"showarrow\":false,\"text\":\"renovation\",\"x\":0.5,\"xanchor\":\"center\",\"xref\":\"paper\",\"y\":1.0000000000000002,\"yanchor\":\"bottom\",\"yref\":\"paper\"},{\"font\":{\"size\":16},\"showarrow\":false,\"text\":\"rooms\",\"x\":0.5,\"xanchor\":\"center\",\"xref\":\"paper\",\"y\":0.9429012345679013,\"yanchor\":\"bottom\",\"yref\":\"paper\"},{\"font\":{\"size\":16},\"showarrow\":false,\"text\":\"balcony\",\"x\":0.5,\"xanchor\":\"center\",\"xref\":\"paper\",\"y\":0.8858024691358026,\"yanchor\":\"bottom\",\"yref\":\"paper\"},{\"font\":{\"size\":16},\"showarrow\":false,\"text\":\"bathroom_unit\",\"x\":0.5,\"xanchor\":\"center\",\"xref\":\"paper\",\"y\":0.8287037037037037,\"yanchor\":\"bottom\",\"yref\":\"paper\"},{\"font\":{\"size\":16},\"showarrow\":false,\"text\":\"floor\",\"x\":0.5,\"xanchor\":\"center\",\"xref\":\"paper\",\"y\":0.771604938271605,\"yanchor\":\"bottom\",\"yref\":\"paper\"},{\"font\":{\"size\":16},\"showarrow\":false,\"text\":\"floors_total\",\"x\":0.5,\"xanchor\":\"center\",\"xref\":\"paper\",\"y\":0.7145061728395062,\"yanchor\":\"bottom\",\"yref\":\"paper\"},{\"font\":{\"size\":16},\"showarrow\":false,\"text\":\"building_name\",\"x\":0.5,\"xanchor\":\"center\",\"xref\":\"paper\",\"y\":0.6574074074074074,\"yanchor\":\"bottom\",\"yref\":\"paper\"},{\"font\":{\"size\":16},\"showarrow\":false,\"text\":\"building_type\",\"x\":0.5,\"xanchor\":\"center\",\"xref\":\"paper\",\"y\":0.6003086419753088,\"yanchor\":\"bottom\",\"yref\":\"paper\"},{\"font\":{\"size\":16},\"showarrow\":false,\"text\":\"building_phase\",\"x\":0.5,\"xanchor\":\"center\",\"xref\":\"paper\",\"y\":0.5432098765432098,\"yanchor\":\"bottom\",\"yref\":\"paper\"},{\"font\":{\"size\":16},\"showarrow\":false,\"text\":\"building_section\",\"x\":0.5,\"xanchor\":\"center\",\"xref\":\"paper\",\"y\":0.4861111111111111,\"yanchor\":\"bottom\",\"yref\":\"paper\"},{\"font\":{\"size\":16},\"showarrow\":false,\"text\":\"built_year\",\"x\":0.5,\"xanchor\":\"center\",\"xref\":\"paper\",\"y\":0.42901234567901236,\"yanchor\":\"bottom\",\"yref\":\"paper\"},{\"font\":{\"size\":16},\"showarrow\":false,\"text\":\"ready_quarter\",\"x\":0.5,\"xanchor\":\"center\",\"xref\":\"paper\",\"y\":0.37191358024691357,\"yanchor\":\"bottom\",\"yref\":\"paper\"},{\"font\":{\"size\":16},\"showarrow\":false,\"text\":\"ceiling_height\",\"x\":0.5,\"xanchor\":\"center\",\"xref\":\"paper\",\"y\":0.3148148148148149,\"yanchor\":\"bottom\",\"yref\":\"paper\"},{\"font\":{\"size\":16},\"showarrow\":false,\"text\":\"locality_name\",\"x\":0.5,\"xanchor\":\"center\",\"xref\":\"paper\",\"y\":0.2577160493827161,\"yanchor\":\"bottom\",\"yref\":\"paper\"},{\"font\":{\"size\":16},\"showarrow\":false,\"text\":\"non_admin_sub_locality\",\"x\":0.5,\"xanchor\":\"center\",\"xref\":\"paper\",\"y\":0.20061728395061726,\"yanchor\":\"bottom\",\"yref\":\"paper\"},{\"font\":{\"size\":16},\"showarrow\":false,\"text\":\"metro\",\"x\":0.5,\"xanchor\":\"center\",\"xref\":\"paper\",\"y\":0.14351851851851852,\"yanchor\":\"bottom\",\"yref\":\"paper\"},{\"font\":{\"size\":16},\"showarrow\":false,\"text\":\"time_on_foot\",\"x\":0.5,\"xanchor\":\"center\",\"xref\":\"paper\",\"y\":0.08641975308641976,\"yanchor\":\"bottom\",\"yref\":\"paper\"},{\"font\":{\"size\":16},\"showarrow\":false,\"text\":\"time_on_transport\",\"x\":0.5,\"xanchor\":\"center\",\"xref\":\"paper\",\"y\":0.02932098765432099,\"yanchor\":\"bottom\",\"yref\":\"paper\"}],\"title\":{\"text\":\"3 and more classes\"},\"height\":6000,\"width\":1000,\"autosize\":true},                        {\"responsive\": true}                    ).then(function(){\n",
       "                            \n",
       "var gd = document.getElementById('63d633e1-ae47-4b73-9100-fc57c2c0c61e');\n",
       "var x = new MutationObserver(function (mutations, observer) {{\n",
       "        var display = window.getComputedStyle(gd).display;\n",
       "        if (!display || display === 'none') {{\n",
       "            console.log([gd, 'removed!']);\n",
       "            Plotly.purge(gd);\n",
       "            observer.disconnect();\n",
       "        }}\n",
       "}});\n",
       "\n",
       "// Listen for the removal of the full notebook cells\n",
       "var notebookContainer = gd.closest('#notebook-container');\n",
       "if (notebookContainer) {{\n",
       "    x.observe(notebookContainer, {childList: true});\n",
       "}}\n",
       "\n",
       "// Listen for the clearing of the current output cell\n",
       "var outputEl = gd.closest('.output');\n",
       "if (outputEl) {{\n",
       "    x.observe(outputEl, {childList: true});\n",
       "}}\n",
       "\n",
       "                        })                };                });            </script>        </div>"
      ]
     },
     "metadata": {},
     "output_type": "display_data"
    }
   ],
   "source": [
    "subplot_show(list_check_more_3, \n",
    "             '3 and more classes', \n",
    "             row_num=len(list_check_more_3), \n",
    "             col_num=1, \n",
    "             height=6000, \n",
    "             width=1000)"
   ]
  },
  {
   "cell_type": "code",
   "execution_count": 289,
   "id": "91a602b4",
   "metadata": {
    "scrolled": false
   },
   "outputs": [
    {
     "data": {
      "application/vnd.plotly.v1+json": {
       "config": {
        "plotlyServerURL": "https://plotly.com"
       },
       "data": [
        {
         "name": "type",
         "type": "bar",
         "x": [
          "продажа"
         ],
         "xaxis": "x",
         "y": [
          2005
         ],
         "yaxis": "y"
        },
        {
         "name": "property_type",
         "type": "bar",
         "x": [
          "жилая"
         ],
         "xaxis": "x2",
         "y": [
          2005
         ],
         "yaxis": "y2"
        },
        {
         "name": "category",
         "type": "bar",
         "x": [
          "квартира"
         ],
         "xaxis": "x3",
         "y": [
          2005
         ],
         "yaxis": "y3"
        },
        {
         "name": "manually_added",
         "type": "bar",
         "x": [
          0
         ],
         "xaxis": "x4",
         "y": [
          2005
         ],
         "yaxis": "y4"
        },
        {
         "name": "mortgage",
         "type": "bar",
         "x": [
          true,
          false
         ],
         "xaxis": "x5",
         "y": [
          1631,
          374
         ],
         "yaxis": "y5"
        },
        {
         "name": "haggle",
         "type": "bar",
         "x": [
          false,
          true
         ],
         "xaxis": "x6",
         "y": [
          1650,
          355
         ],
         "yaxis": "y6"
        },
        {
         "name": "new_flat",
         "type": "bar",
         "x": [
          1
         ],
         "xaxis": "x7",
         "y": [
          2005
         ],
         "yaxis": "y7"
        },
        {
         "name": "lift",
         "type": "bar",
         "x": [
          1
         ],
         "xaxis": "x8",
         "y": [
          2005
         ],
         "yaxis": "y8"
        },
        {
         "name": "parking",
         "type": "bar",
         "x": [
          1,
          0
         ],
         "xaxis": "x9",
         "y": [
          1944,
          61
         ],
         "yaxis": "y9"
        },
        {
         "name": "region",
         "type": "bar",
         "x": [
          "Санкт-Петербург",
          "Ленинградская область"
         ],
         "xaxis": "x10",
         "y": [
          1427,
          578
         ],
         "yaxis": "y10"
        }
       ],
       "layout": {
        "annotations": [
         {
          "font": {
           "size": 16
          },
          "showarrow": false,
          "text": "type",
          "x": 0.08399999999999999,
          "xanchor": "center",
          "xref": "paper",
          "y": 1,
          "yanchor": "bottom",
          "yref": "paper"
         },
         {
          "font": {
           "size": 16
          },
          "showarrow": false,
          "text": "property_type",
          "x": 0.292,
          "xanchor": "center",
          "xref": "paper",
          "y": 1,
          "yanchor": "bottom",
          "yref": "paper"
         },
         {
          "font": {
           "size": 16
          },
          "showarrow": false,
          "text": "category",
          "x": 0.5,
          "xanchor": "center",
          "xref": "paper",
          "y": 1,
          "yanchor": "bottom",
          "yref": "paper"
         },
         {
          "font": {
           "size": 16
          },
          "showarrow": false,
          "text": "manually_added",
          "x": 0.708,
          "xanchor": "center",
          "xref": "paper",
          "y": 1,
          "yanchor": "bottom",
          "yref": "paper"
         },
         {
          "font": {
           "size": 16
          },
          "showarrow": false,
          "text": "mortgage",
          "x": 0.9159999999999999,
          "xanchor": "center",
          "xref": "paper",
          "y": 1,
          "yanchor": "bottom",
          "yref": "paper"
         },
         {
          "font": {
           "size": 16
          },
          "showarrow": false,
          "text": "haggle",
          "x": 0.08399999999999999,
          "xanchor": "center",
          "xref": "paper",
          "y": 0.375,
          "yanchor": "bottom",
          "yref": "paper"
         },
         {
          "font": {
           "size": 16
          },
          "showarrow": false,
          "text": "new_flat",
          "x": 0.292,
          "xanchor": "center",
          "xref": "paper",
          "y": 0.375,
          "yanchor": "bottom",
          "yref": "paper"
         },
         {
          "font": {
           "size": 16
          },
          "showarrow": false,
          "text": "lift",
          "x": 0.5,
          "xanchor": "center",
          "xref": "paper",
          "y": 0.375,
          "yanchor": "bottom",
          "yref": "paper"
         },
         {
          "font": {
           "size": 16
          },
          "showarrow": false,
          "text": "parking",
          "x": 0.708,
          "xanchor": "center",
          "xref": "paper",
          "y": 0.375,
          "yanchor": "bottom",
          "yref": "paper"
         },
         {
          "font": {
           "size": 16
          },
          "showarrow": false,
          "text": "region",
          "x": 0.9159999999999999,
          "xanchor": "center",
          "xref": "paper",
          "y": 0.375,
          "yanchor": "bottom",
          "yref": "paper"
         }
        ],
        "autosize": true,
        "template": {
         "data": {
          "bar": [
           {
            "error_x": {
             "color": "#2a3f5f"
            },
            "error_y": {
             "color": "#2a3f5f"
            },
            "marker": {
             "line": {
              "color": "#E5ECF6",
              "width": 0.5
             },
             "pattern": {
              "fillmode": "overlay",
              "size": 10,
              "solidity": 0.2
             }
            },
            "type": "bar"
           }
          ],
          "barpolar": [
           {
            "marker": {
             "line": {
              "color": "#E5ECF6",
              "width": 0.5
             },
             "pattern": {
              "fillmode": "overlay",
              "size": 10,
              "solidity": 0.2
             }
            },
            "type": "barpolar"
           }
          ],
          "carpet": [
           {
            "aaxis": {
             "endlinecolor": "#2a3f5f",
             "gridcolor": "white",
             "linecolor": "white",
             "minorgridcolor": "white",
             "startlinecolor": "#2a3f5f"
            },
            "baxis": {
             "endlinecolor": "#2a3f5f",
             "gridcolor": "white",
             "linecolor": "white",
             "minorgridcolor": "white",
             "startlinecolor": "#2a3f5f"
            },
            "type": "carpet"
           }
          ],
          "choropleth": [
           {
            "colorbar": {
             "outlinewidth": 0,
             "ticks": ""
            },
            "type": "choropleth"
           }
          ],
          "contour": [
           {
            "colorbar": {
             "outlinewidth": 0,
             "ticks": ""
            },
            "colorscale": [
             [
              0,
              "#0d0887"
             ],
             [
              0.1111111111111111,
              "#46039f"
             ],
             [
              0.2222222222222222,
              "#7201a8"
             ],
             [
              0.3333333333333333,
              "#9c179e"
             ],
             [
              0.4444444444444444,
              "#bd3786"
             ],
             [
              0.5555555555555556,
              "#d8576b"
             ],
             [
              0.6666666666666666,
              "#ed7953"
             ],
             [
              0.7777777777777778,
              "#fb9f3a"
             ],
             [
              0.8888888888888888,
              "#fdca26"
             ],
             [
              1,
              "#f0f921"
             ]
            ],
            "type": "contour"
           }
          ],
          "contourcarpet": [
           {
            "colorbar": {
             "outlinewidth": 0,
             "ticks": ""
            },
            "type": "contourcarpet"
           }
          ],
          "heatmap": [
           {
            "colorbar": {
             "outlinewidth": 0,
             "ticks": ""
            },
            "colorscale": [
             [
              0,
              "#0d0887"
             ],
             [
              0.1111111111111111,
              "#46039f"
             ],
             [
              0.2222222222222222,
              "#7201a8"
             ],
             [
              0.3333333333333333,
              "#9c179e"
             ],
             [
              0.4444444444444444,
              "#bd3786"
             ],
             [
              0.5555555555555556,
              "#d8576b"
             ],
             [
              0.6666666666666666,
              "#ed7953"
             ],
             [
              0.7777777777777778,
              "#fb9f3a"
             ],
             [
              0.8888888888888888,
              "#fdca26"
             ],
             [
              1,
              "#f0f921"
             ]
            ],
            "type": "heatmap"
           }
          ],
          "heatmapgl": [
           {
            "colorbar": {
             "outlinewidth": 0,
             "ticks": ""
            },
            "colorscale": [
             [
              0,
              "#0d0887"
             ],
             [
              0.1111111111111111,
              "#46039f"
             ],
             [
              0.2222222222222222,
              "#7201a8"
             ],
             [
              0.3333333333333333,
              "#9c179e"
             ],
             [
              0.4444444444444444,
              "#bd3786"
             ],
             [
              0.5555555555555556,
              "#d8576b"
             ],
             [
              0.6666666666666666,
              "#ed7953"
             ],
             [
              0.7777777777777778,
              "#fb9f3a"
             ],
             [
              0.8888888888888888,
              "#fdca26"
             ],
             [
              1,
              "#f0f921"
             ]
            ],
            "type": "heatmapgl"
           }
          ],
          "histogram": [
           {
            "marker": {
             "pattern": {
              "fillmode": "overlay",
              "size": 10,
              "solidity": 0.2
             }
            },
            "type": "histogram"
           }
          ],
          "histogram2d": [
           {
            "colorbar": {
             "outlinewidth": 0,
             "ticks": ""
            },
            "colorscale": [
             [
              0,
              "#0d0887"
             ],
             [
              0.1111111111111111,
              "#46039f"
             ],
             [
              0.2222222222222222,
              "#7201a8"
             ],
             [
              0.3333333333333333,
              "#9c179e"
             ],
             [
              0.4444444444444444,
              "#bd3786"
             ],
             [
              0.5555555555555556,
              "#d8576b"
             ],
             [
              0.6666666666666666,
              "#ed7953"
             ],
             [
              0.7777777777777778,
              "#fb9f3a"
             ],
             [
              0.8888888888888888,
              "#fdca26"
             ],
             [
              1,
              "#f0f921"
             ]
            ],
            "type": "histogram2d"
           }
          ],
          "histogram2dcontour": [
           {
            "colorbar": {
             "outlinewidth": 0,
             "ticks": ""
            },
            "colorscale": [
             [
              0,
              "#0d0887"
             ],
             [
              0.1111111111111111,
              "#46039f"
             ],
             [
              0.2222222222222222,
              "#7201a8"
             ],
             [
              0.3333333333333333,
              "#9c179e"
             ],
             [
              0.4444444444444444,
              "#bd3786"
             ],
             [
              0.5555555555555556,
              "#d8576b"
             ],
             [
              0.6666666666666666,
              "#ed7953"
             ],
             [
              0.7777777777777778,
              "#fb9f3a"
             ],
             [
              0.8888888888888888,
              "#fdca26"
             ],
             [
              1,
              "#f0f921"
             ]
            ],
            "type": "histogram2dcontour"
           }
          ],
          "mesh3d": [
           {
            "colorbar": {
             "outlinewidth": 0,
             "ticks": ""
            },
            "type": "mesh3d"
           }
          ],
          "parcoords": [
           {
            "line": {
             "colorbar": {
              "outlinewidth": 0,
              "ticks": ""
             }
            },
            "type": "parcoords"
           }
          ],
          "pie": [
           {
            "automargin": true,
            "type": "pie"
           }
          ],
          "scatter": [
           {
            "fillpattern": {
             "fillmode": "overlay",
             "size": 10,
             "solidity": 0.2
            },
            "type": "scatter"
           }
          ],
          "scatter3d": [
           {
            "line": {
             "colorbar": {
              "outlinewidth": 0,
              "ticks": ""
             }
            },
            "marker": {
             "colorbar": {
              "outlinewidth": 0,
              "ticks": ""
             }
            },
            "type": "scatter3d"
           }
          ],
          "scattercarpet": [
           {
            "marker": {
             "colorbar": {
              "outlinewidth": 0,
              "ticks": ""
             }
            },
            "type": "scattercarpet"
           }
          ],
          "scattergeo": [
           {
            "marker": {
             "colorbar": {
              "outlinewidth": 0,
              "ticks": ""
             }
            },
            "type": "scattergeo"
           }
          ],
          "scattergl": [
           {
            "marker": {
             "colorbar": {
              "outlinewidth": 0,
              "ticks": ""
             }
            },
            "type": "scattergl"
           }
          ],
          "scattermapbox": [
           {
            "marker": {
             "colorbar": {
              "outlinewidth": 0,
              "ticks": ""
             }
            },
            "type": "scattermapbox"
           }
          ],
          "scatterpolar": [
           {
            "marker": {
             "colorbar": {
              "outlinewidth": 0,
              "ticks": ""
             }
            },
            "type": "scatterpolar"
           }
          ],
          "scatterpolargl": [
           {
            "marker": {
             "colorbar": {
              "outlinewidth": 0,
              "ticks": ""
             }
            },
            "type": "scatterpolargl"
           }
          ],
          "scatterternary": [
           {
            "marker": {
             "colorbar": {
              "outlinewidth": 0,
              "ticks": ""
             }
            },
            "type": "scatterternary"
           }
          ],
          "surface": [
           {
            "colorbar": {
             "outlinewidth": 0,
             "ticks": ""
            },
            "colorscale": [
             [
              0,
              "#0d0887"
             ],
             [
              0.1111111111111111,
              "#46039f"
             ],
             [
              0.2222222222222222,
              "#7201a8"
             ],
             [
              0.3333333333333333,
              "#9c179e"
             ],
             [
              0.4444444444444444,
              "#bd3786"
             ],
             [
              0.5555555555555556,
              "#d8576b"
             ],
             [
              0.6666666666666666,
              "#ed7953"
             ],
             [
              0.7777777777777778,
              "#fb9f3a"
             ],
             [
              0.8888888888888888,
              "#fdca26"
             ],
             [
              1,
              "#f0f921"
             ]
            ],
            "type": "surface"
           }
          ],
          "table": [
           {
            "cells": {
             "fill": {
              "color": "#EBF0F8"
             },
             "line": {
              "color": "white"
             }
            },
            "header": {
             "fill": {
              "color": "#C8D4E3"
             },
             "line": {
              "color": "white"
             }
            },
            "type": "table"
           }
          ]
         },
         "layout": {
          "annotationdefaults": {
           "arrowcolor": "#2a3f5f",
           "arrowhead": 0,
           "arrowwidth": 1
          },
          "autotypenumbers": "strict",
          "coloraxis": {
           "colorbar": {
            "outlinewidth": 0,
            "ticks": ""
           }
          },
          "colorscale": {
           "diverging": [
            [
             0,
             "#8e0152"
            ],
            [
             0.1,
             "#c51b7d"
            ],
            [
             0.2,
             "#de77ae"
            ],
            [
             0.3,
             "#f1b6da"
            ],
            [
             0.4,
             "#fde0ef"
            ],
            [
             0.5,
             "#f7f7f7"
            ],
            [
             0.6,
             "#e6f5d0"
            ],
            [
             0.7,
             "#b8e186"
            ],
            [
             0.8,
             "#7fbc41"
            ],
            [
             0.9,
             "#4d9221"
            ],
            [
             1,
             "#276419"
            ]
           ],
           "sequential": [
            [
             0,
             "#0d0887"
            ],
            [
             0.1111111111111111,
             "#46039f"
            ],
            [
             0.2222222222222222,
             "#7201a8"
            ],
            [
             0.3333333333333333,
             "#9c179e"
            ],
            [
             0.4444444444444444,
             "#bd3786"
            ],
            [
             0.5555555555555556,
             "#d8576b"
            ],
            [
             0.6666666666666666,
             "#ed7953"
            ],
            [
             0.7777777777777778,
             "#fb9f3a"
            ],
            [
             0.8888888888888888,
             "#fdca26"
            ],
            [
             1,
             "#f0f921"
            ]
           ],
           "sequentialminus": [
            [
             0,
             "#0d0887"
            ],
            [
             0.1111111111111111,
             "#46039f"
            ],
            [
             0.2222222222222222,
             "#7201a8"
            ],
            [
             0.3333333333333333,
             "#9c179e"
            ],
            [
             0.4444444444444444,
             "#bd3786"
            ],
            [
             0.5555555555555556,
             "#d8576b"
            ],
            [
             0.6666666666666666,
             "#ed7953"
            ],
            [
             0.7777777777777778,
             "#fb9f3a"
            ],
            [
             0.8888888888888888,
             "#fdca26"
            ],
            [
             1,
             "#f0f921"
            ]
           ]
          },
          "colorway": [
           "#636efa",
           "#EF553B",
           "#00cc96",
           "#ab63fa",
           "#FFA15A",
           "#19d3f3",
           "#FF6692",
           "#B6E880",
           "#FF97FF",
           "#FECB52"
          ],
          "font": {
           "color": "#2a3f5f"
          },
          "geo": {
           "bgcolor": "white",
           "lakecolor": "white",
           "landcolor": "#E5ECF6",
           "showlakes": true,
           "showland": true,
           "subunitcolor": "white"
          },
          "hoverlabel": {
           "align": "left"
          },
          "hovermode": "closest",
          "mapbox": {
           "style": "light"
          },
          "paper_bgcolor": "white",
          "plot_bgcolor": "#E5ECF6",
          "polar": {
           "angularaxis": {
            "gridcolor": "white",
            "linecolor": "white",
            "ticks": ""
           },
           "bgcolor": "#E5ECF6",
           "radialaxis": {
            "gridcolor": "white",
            "linecolor": "white",
            "ticks": ""
           }
          },
          "scene": {
           "xaxis": {
            "backgroundcolor": "#E5ECF6",
            "gridcolor": "white",
            "gridwidth": 2,
            "linecolor": "white",
            "showbackground": true,
            "ticks": "",
            "zerolinecolor": "white"
           },
           "yaxis": {
            "backgroundcolor": "#E5ECF6",
            "gridcolor": "white",
            "gridwidth": 2,
            "linecolor": "white",
            "showbackground": true,
            "ticks": "",
            "zerolinecolor": "white"
           },
           "zaxis": {
            "backgroundcolor": "#E5ECF6",
            "gridcolor": "white",
            "gridwidth": 2,
            "linecolor": "white",
            "showbackground": true,
            "ticks": "",
            "zerolinecolor": "white"
           }
          },
          "shapedefaults": {
           "line": {
            "color": "#2a3f5f"
           }
          },
          "ternary": {
           "aaxis": {
            "gridcolor": "white",
            "linecolor": "white",
            "ticks": ""
           },
           "baxis": {
            "gridcolor": "white",
            "linecolor": "white",
            "ticks": ""
           },
           "bgcolor": "#E5ECF6",
           "caxis": {
            "gridcolor": "white",
            "linecolor": "white",
            "ticks": ""
           }
          },
          "title": {
           "x": 0.05
          },
          "xaxis": {
           "automargin": true,
           "gridcolor": "white",
           "linecolor": "white",
           "ticks": "",
           "title": {
            "standoff": 15
           },
           "zerolinecolor": "white",
           "zerolinewidth": 2
          },
          "yaxis": {
           "automargin": true,
           "gridcolor": "white",
           "linecolor": "white",
           "ticks": "",
           "title": {
            "standoff": 15
           },
           "zerolinecolor": "white",
           "zerolinewidth": 2
          }
         }
        },
        "title": {
         "text": "less 3 classes"
        },
        "xaxis": {
         "anchor": "y",
         "domain": [
          0,
          0.16799999999999998
         ]
        },
        "xaxis10": {
         "anchor": "y10",
         "domain": [
          0.832,
          1
         ]
        },
        "xaxis2": {
         "anchor": "y2",
         "domain": [
          0.208,
          0.376
         ]
        },
        "xaxis3": {
         "anchor": "y3",
         "domain": [
          0.416,
          0.584
         ]
        },
        "xaxis4": {
         "anchor": "y4",
         "domain": [
          0.624,
          0.792
         ]
        },
        "xaxis5": {
         "anchor": "y5",
         "domain": [
          0.832,
          1
         ]
        },
        "xaxis6": {
         "anchor": "y6",
         "domain": [
          0,
          0.16799999999999998
         ]
        },
        "xaxis7": {
         "anchor": "y7",
         "domain": [
          0.208,
          0.376
         ]
        },
        "xaxis8": {
         "anchor": "y8",
         "domain": [
          0.416,
          0.584
         ]
        },
        "xaxis9": {
         "anchor": "y9",
         "domain": [
          0.624,
          0.792
         ]
        },
        "yaxis": {
         "anchor": "x",
         "domain": [
          0.625,
          1
         ]
        },
        "yaxis10": {
         "anchor": "x10",
         "domain": [
          0,
          0.375
         ],
         "matches": "y6",
         "showticklabels": false
        },
        "yaxis2": {
         "anchor": "x2",
         "domain": [
          0.625,
          1
         ],
         "matches": "y",
         "showticklabels": false
        },
        "yaxis3": {
         "anchor": "x3",
         "domain": [
          0.625,
          1
         ],
         "matches": "y",
         "showticklabels": false
        },
        "yaxis4": {
         "anchor": "x4",
         "domain": [
          0.625,
          1
         ],
         "matches": "y",
         "showticklabels": false
        },
        "yaxis5": {
         "anchor": "x5",
         "domain": [
          0.625,
          1
         ],
         "matches": "y",
         "showticklabels": false
        },
        "yaxis6": {
         "anchor": "x6",
         "domain": [
          0,
          0.375
         ]
        },
        "yaxis7": {
         "anchor": "x7",
         "domain": [
          0,
          0.375
         ],
         "matches": "y6",
         "showticklabels": false
        },
        "yaxis8": {
         "anchor": "x8",
         "domain": [
          0,
          0.375
         ],
         "matches": "y6",
         "showticklabels": false
        },
        "yaxis9": {
         "anchor": "x9",
         "domain": [
          0,
          0.375
         ],
         "matches": "y6",
         "showticklabels": false
        }
       }
      },
      "text/html": [
       "<div>                            <div id=\"8ec3761b-ab9c-4811-ad3f-f657c4459f3b\" class=\"plotly-graph-div\" style=\"height:525px; width:100%;\"></div>            <script type=\"text/javascript\">                require([\"plotly\"], function(Plotly) {                    window.PLOTLYENV=window.PLOTLYENV || {};                                    if (document.getElementById(\"8ec3761b-ab9c-4811-ad3f-f657c4459f3b\")) {                    Plotly.newPlot(                        \"8ec3761b-ab9c-4811-ad3f-f657c4459f3b\",                        [{\"name\":\"type\",\"x\":[\"\\u043f\\u0440\\u043e\\u0434\\u0430\\u0436\\u0430\"],\"y\":[2005],\"type\":\"bar\",\"xaxis\":\"x\",\"yaxis\":\"y\"},{\"name\":\"property_type\",\"x\":[\"\\u0436\\u0438\\u043b\\u0430\\u044f\"],\"y\":[2005],\"type\":\"bar\",\"xaxis\":\"x2\",\"yaxis\":\"y2\"},{\"name\":\"category\",\"x\":[\"\\u043a\\u0432\\u0430\\u0440\\u0442\\u0438\\u0440\\u0430\"],\"y\":[2005],\"type\":\"bar\",\"xaxis\":\"x3\",\"yaxis\":\"y3\"},{\"name\":\"manually_added\",\"x\":[0],\"y\":[2005],\"type\":\"bar\",\"xaxis\":\"x4\",\"yaxis\":\"y4\"},{\"name\":\"mortgage\",\"x\":[true,false],\"y\":[1631,374],\"type\":\"bar\",\"xaxis\":\"x5\",\"yaxis\":\"y5\"},{\"name\":\"haggle\",\"x\":[false,true],\"y\":[1650,355],\"type\":\"bar\",\"xaxis\":\"x6\",\"yaxis\":\"y6\"},{\"name\":\"new_flat\",\"x\":[1],\"y\":[2005],\"type\":\"bar\",\"xaxis\":\"x7\",\"yaxis\":\"y7\"},{\"name\":\"lift\",\"x\":[1],\"y\":[2005],\"type\":\"bar\",\"xaxis\":\"x8\",\"yaxis\":\"y8\"},{\"name\":\"parking\",\"x\":[1,0],\"y\":[1944,61],\"type\":\"bar\",\"xaxis\":\"x9\",\"yaxis\":\"y9\"},{\"name\":\"region\",\"x\":[\"\\u0421\\u0430\\u043d\\u043a\\u0442-\\u041f\\u0435\\u0442\\u0435\\u0440\\u0431\\u0443\\u0440\\u0433\",\"\\u041b\\u0435\\u043d\\u0438\\u043d\\u0433\\u0440\\u0430\\u0434\\u0441\\u043a\\u0430\\u044f \\u043e\\u0431\\u043b\\u0430\\u0441\\u0442\\u044c\"],\"y\":[1427,578],\"type\":\"bar\",\"xaxis\":\"x10\",\"yaxis\":\"y10\"}],                        {\"template\":{\"data\":{\"histogram2dcontour\":[{\"type\":\"histogram2dcontour\",\"colorbar\":{\"outlinewidth\":0,\"ticks\":\"\"},\"colorscale\":[[0.0,\"#0d0887\"],[0.1111111111111111,\"#46039f\"],[0.2222222222222222,\"#7201a8\"],[0.3333333333333333,\"#9c179e\"],[0.4444444444444444,\"#bd3786\"],[0.5555555555555556,\"#d8576b\"],[0.6666666666666666,\"#ed7953\"],[0.7777777777777778,\"#fb9f3a\"],[0.8888888888888888,\"#fdca26\"],[1.0,\"#f0f921\"]]}],\"choropleth\":[{\"type\":\"choropleth\",\"colorbar\":{\"outlinewidth\":0,\"ticks\":\"\"}}],\"histogram2d\":[{\"type\":\"histogram2d\",\"colorbar\":{\"outlinewidth\":0,\"ticks\":\"\"},\"colorscale\":[[0.0,\"#0d0887\"],[0.1111111111111111,\"#46039f\"],[0.2222222222222222,\"#7201a8\"],[0.3333333333333333,\"#9c179e\"],[0.4444444444444444,\"#bd3786\"],[0.5555555555555556,\"#d8576b\"],[0.6666666666666666,\"#ed7953\"],[0.7777777777777778,\"#fb9f3a\"],[0.8888888888888888,\"#fdca26\"],[1.0,\"#f0f921\"]]}],\"heatmap\":[{\"type\":\"heatmap\",\"colorbar\":{\"outlinewidth\":0,\"ticks\":\"\"},\"colorscale\":[[0.0,\"#0d0887\"],[0.1111111111111111,\"#46039f\"],[0.2222222222222222,\"#7201a8\"],[0.3333333333333333,\"#9c179e\"],[0.4444444444444444,\"#bd3786\"],[0.5555555555555556,\"#d8576b\"],[0.6666666666666666,\"#ed7953\"],[0.7777777777777778,\"#fb9f3a\"],[0.8888888888888888,\"#fdca26\"],[1.0,\"#f0f921\"]]}],\"heatmapgl\":[{\"type\":\"heatmapgl\",\"colorbar\":{\"outlinewidth\":0,\"ticks\":\"\"},\"colorscale\":[[0.0,\"#0d0887\"],[0.1111111111111111,\"#46039f\"],[0.2222222222222222,\"#7201a8\"],[0.3333333333333333,\"#9c179e\"],[0.4444444444444444,\"#bd3786\"],[0.5555555555555556,\"#d8576b\"],[0.6666666666666666,\"#ed7953\"],[0.7777777777777778,\"#fb9f3a\"],[0.8888888888888888,\"#fdca26\"],[1.0,\"#f0f921\"]]}],\"contourcarpet\":[{\"type\":\"contourcarpet\",\"colorbar\":{\"outlinewidth\":0,\"ticks\":\"\"}}],\"contour\":[{\"type\":\"contour\",\"colorbar\":{\"outlinewidth\":0,\"ticks\":\"\"},\"colorscale\":[[0.0,\"#0d0887\"],[0.1111111111111111,\"#46039f\"],[0.2222222222222222,\"#7201a8\"],[0.3333333333333333,\"#9c179e\"],[0.4444444444444444,\"#bd3786\"],[0.5555555555555556,\"#d8576b\"],[0.6666666666666666,\"#ed7953\"],[0.7777777777777778,\"#fb9f3a\"],[0.8888888888888888,\"#fdca26\"],[1.0,\"#f0f921\"]]}],\"surface\":[{\"type\":\"surface\",\"colorbar\":{\"outlinewidth\":0,\"ticks\":\"\"},\"colorscale\":[[0.0,\"#0d0887\"],[0.1111111111111111,\"#46039f\"],[0.2222222222222222,\"#7201a8\"],[0.3333333333333333,\"#9c179e\"],[0.4444444444444444,\"#bd3786\"],[0.5555555555555556,\"#d8576b\"],[0.6666666666666666,\"#ed7953\"],[0.7777777777777778,\"#fb9f3a\"],[0.8888888888888888,\"#fdca26\"],[1.0,\"#f0f921\"]]}],\"mesh3d\":[{\"type\":\"mesh3d\",\"colorbar\":{\"outlinewidth\":0,\"ticks\":\"\"}}],\"scatter\":[{\"fillpattern\":{\"fillmode\":\"overlay\",\"size\":10,\"solidity\":0.2},\"type\":\"scatter\"}],\"parcoords\":[{\"type\":\"parcoords\",\"line\":{\"colorbar\":{\"outlinewidth\":0,\"ticks\":\"\"}}}],\"scatterpolargl\":[{\"type\":\"scatterpolargl\",\"marker\":{\"colorbar\":{\"outlinewidth\":0,\"ticks\":\"\"}}}],\"bar\":[{\"error_x\":{\"color\":\"#2a3f5f\"},\"error_y\":{\"color\":\"#2a3f5f\"},\"marker\":{\"line\":{\"color\":\"#E5ECF6\",\"width\":0.5},\"pattern\":{\"fillmode\":\"overlay\",\"size\":10,\"solidity\":0.2}},\"type\":\"bar\"}],\"scattergeo\":[{\"type\":\"scattergeo\",\"marker\":{\"colorbar\":{\"outlinewidth\":0,\"ticks\":\"\"}}}],\"scatterpolar\":[{\"type\":\"scatterpolar\",\"marker\":{\"colorbar\":{\"outlinewidth\":0,\"ticks\":\"\"}}}],\"histogram\":[{\"marker\":{\"pattern\":{\"fillmode\":\"overlay\",\"size\":10,\"solidity\":0.2}},\"type\":\"histogram\"}],\"scattergl\":[{\"type\":\"scattergl\",\"marker\":{\"colorbar\":{\"outlinewidth\":0,\"ticks\":\"\"}}}],\"scatter3d\":[{\"type\":\"scatter3d\",\"line\":{\"colorbar\":{\"outlinewidth\":0,\"ticks\":\"\"}},\"marker\":{\"colorbar\":{\"outlinewidth\":0,\"ticks\":\"\"}}}],\"scattermapbox\":[{\"type\":\"scattermapbox\",\"marker\":{\"colorbar\":{\"outlinewidth\":0,\"ticks\":\"\"}}}],\"scatterternary\":[{\"type\":\"scatterternary\",\"marker\":{\"colorbar\":{\"outlinewidth\":0,\"ticks\":\"\"}}}],\"scattercarpet\":[{\"type\":\"scattercarpet\",\"marker\":{\"colorbar\":{\"outlinewidth\":0,\"ticks\":\"\"}}}],\"carpet\":[{\"aaxis\":{\"endlinecolor\":\"#2a3f5f\",\"gridcolor\":\"white\",\"linecolor\":\"white\",\"minorgridcolor\":\"white\",\"startlinecolor\":\"#2a3f5f\"},\"baxis\":{\"endlinecolor\":\"#2a3f5f\",\"gridcolor\":\"white\",\"linecolor\":\"white\",\"minorgridcolor\":\"white\",\"startlinecolor\":\"#2a3f5f\"},\"type\":\"carpet\"}],\"table\":[{\"cells\":{\"fill\":{\"color\":\"#EBF0F8\"},\"line\":{\"color\":\"white\"}},\"header\":{\"fill\":{\"color\":\"#C8D4E3\"},\"line\":{\"color\":\"white\"}},\"type\":\"table\"}],\"barpolar\":[{\"marker\":{\"line\":{\"color\":\"#E5ECF6\",\"width\":0.5},\"pattern\":{\"fillmode\":\"overlay\",\"size\":10,\"solidity\":0.2}},\"type\":\"barpolar\"}],\"pie\":[{\"automargin\":true,\"type\":\"pie\"}]},\"layout\":{\"autotypenumbers\":\"strict\",\"colorway\":[\"#636efa\",\"#EF553B\",\"#00cc96\",\"#ab63fa\",\"#FFA15A\",\"#19d3f3\",\"#FF6692\",\"#B6E880\",\"#FF97FF\",\"#FECB52\"],\"font\":{\"color\":\"#2a3f5f\"},\"hovermode\":\"closest\",\"hoverlabel\":{\"align\":\"left\"},\"paper_bgcolor\":\"white\",\"plot_bgcolor\":\"#E5ECF6\",\"polar\":{\"bgcolor\":\"#E5ECF6\",\"angularaxis\":{\"gridcolor\":\"white\",\"linecolor\":\"white\",\"ticks\":\"\"},\"radialaxis\":{\"gridcolor\":\"white\",\"linecolor\":\"white\",\"ticks\":\"\"}},\"ternary\":{\"bgcolor\":\"#E5ECF6\",\"aaxis\":{\"gridcolor\":\"white\",\"linecolor\":\"white\",\"ticks\":\"\"},\"baxis\":{\"gridcolor\":\"white\",\"linecolor\":\"white\",\"ticks\":\"\"},\"caxis\":{\"gridcolor\":\"white\",\"linecolor\":\"white\",\"ticks\":\"\"}},\"coloraxis\":{\"colorbar\":{\"outlinewidth\":0,\"ticks\":\"\"}},\"colorscale\":{\"sequential\":[[0.0,\"#0d0887\"],[0.1111111111111111,\"#46039f\"],[0.2222222222222222,\"#7201a8\"],[0.3333333333333333,\"#9c179e\"],[0.4444444444444444,\"#bd3786\"],[0.5555555555555556,\"#d8576b\"],[0.6666666666666666,\"#ed7953\"],[0.7777777777777778,\"#fb9f3a\"],[0.8888888888888888,\"#fdca26\"],[1.0,\"#f0f921\"]],\"sequentialminus\":[[0.0,\"#0d0887\"],[0.1111111111111111,\"#46039f\"],[0.2222222222222222,\"#7201a8\"],[0.3333333333333333,\"#9c179e\"],[0.4444444444444444,\"#bd3786\"],[0.5555555555555556,\"#d8576b\"],[0.6666666666666666,\"#ed7953\"],[0.7777777777777778,\"#fb9f3a\"],[0.8888888888888888,\"#fdca26\"],[1.0,\"#f0f921\"]],\"diverging\":[[0,\"#8e0152\"],[0.1,\"#c51b7d\"],[0.2,\"#de77ae\"],[0.3,\"#f1b6da\"],[0.4,\"#fde0ef\"],[0.5,\"#f7f7f7\"],[0.6,\"#e6f5d0\"],[0.7,\"#b8e186\"],[0.8,\"#7fbc41\"],[0.9,\"#4d9221\"],[1,\"#276419\"]]},\"xaxis\":{\"gridcolor\":\"white\",\"linecolor\":\"white\",\"ticks\":\"\",\"title\":{\"standoff\":15},\"zerolinecolor\":\"white\",\"automargin\":true,\"zerolinewidth\":2},\"yaxis\":{\"gridcolor\":\"white\",\"linecolor\":\"white\",\"ticks\":\"\",\"title\":{\"standoff\":15},\"zerolinecolor\":\"white\",\"automargin\":true,\"zerolinewidth\":2},\"scene\":{\"xaxis\":{\"backgroundcolor\":\"#E5ECF6\",\"gridcolor\":\"white\",\"linecolor\":\"white\",\"showbackground\":true,\"ticks\":\"\",\"zerolinecolor\":\"white\",\"gridwidth\":2},\"yaxis\":{\"backgroundcolor\":\"#E5ECF6\",\"gridcolor\":\"white\",\"linecolor\":\"white\",\"showbackground\":true,\"ticks\":\"\",\"zerolinecolor\":\"white\",\"gridwidth\":2},\"zaxis\":{\"backgroundcolor\":\"#E5ECF6\",\"gridcolor\":\"white\",\"linecolor\":\"white\",\"showbackground\":true,\"ticks\":\"\",\"zerolinecolor\":\"white\",\"gridwidth\":2}},\"shapedefaults\":{\"line\":{\"color\":\"#2a3f5f\"}},\"annotationdefaults\":{\"arrowcolor\":\"#2a3f5f\",\"arrowhead\":0,\"arrowwidth\":1},\"geo\":{\"bgcolor\":\"white\",\"landcolor\":\"#E5ECF6\",\"subunitcolor\":\"white\",\"showland\":true,\"showlakes\":true,\"lakecolor\":\"white\"},\"title\":{\"x\":0.05},\"mapbox\":{\"style\":\"light\"}}},\"xaxis\":{\"anchor\":\"y\",\"domain\":[0.0,0.16799999999999998]},\"yaxis\":{\"anchor\":\"x\",\"domain\":[0.625,1.0]},\"xaxis2\":{\"anchor\":\"y2\",\"domain\":[0.208,0.376]},\"yaxis2\":{\"anchor\":\"x2\",\"domain\":[0.625,1.0],\"matches\":\"y\",\"showticklabels\":false},\"xaxis3\":{\"anchor\":\"y3\",\"domain\":[0.416,0.584]},\"yaxis3\":{\"anchor\":\"x3\",\"domain\":[0.625,1.0],\"matches\":\"y\",\"showticklabels\":false},\"xaxis4\":{\"anchor\":\"y4\",\"domain\":[0.624,0.792]},\"yaxis4\":{\"anchor\":\"x4\",\"domain\":[0.625,1.0],\"matches\":\"y\",\"showticklabels\":false},\"xaxis5\":{\"anchor\":\"y5\",\"domain\":[0.832,1.0]},\"yaxis5\":{\"anchor\":\"x5\",\"domain\":[0.625,1.0],\"matches\":\"y\",\"showticklabels\":false},\"xaxis6\":{\"anchor\":\"y6\",\"domain\":[0.0,0.16799999999999998]},\"yaxis6\":{\"anchor\":\"x6\",\"domain\":[0.0,0.375]},\"xaxis7\":{\"anchor\":\"y7\",\"domain\":[0.208,0.376]},\"yaxis7\":{\"anchor\":\"x7\",\"domain\":[0.0,0.375],\"matches\":\"y6\",\"showticklabels\":false},\"xaxis8\":{\"anchor\":\"y8\",\"domain\":[0.416,0.584]},\"yaxis8\":{\"anchor\":\"x8\",\"domain\":[0.0,0.375],\"matches\":\"y6\",\"showticklabels\":false},\"xaxis9\":{\"anchor\":\"y9\",\"domain\":[0.624,0.792]},\"yaxis9\":{\"anchor\":\"x9\",\"domain\":[0.0,0.375],\"matches\":\"y6\",\"showticklabels\":false},\"xaxis10\":{\"anchor\":\"y10\",\"domain\":[0.832,1.0]},\"yaxis10\":{\"anchor\":\"x10\",\"domain\":[0.0,0.375],\"matches\":\"y6\",\"showticklabels\":false},\"annotations\":[{\"font\":{\"size\":16},\"showarrow\":false,\"text\":\"type\",\"x\":0.08399999999999999,\"xanchor\":\"center\",\"xref\":\"paper\",\"y\":1.0,\"yanchor\":\"bottom\",\"yref\":\"paper\"},{\"font\":{\"size\":16},\"showarrow\":false,\"text\":\"property_type\",\"x\":0.292,\"xanchor\":\"center\",\"xref\":\"paper\",\"y\":1.0,\"yanchor\":\"bottom\",\"yref\":\"paper\"},{\"font\":{\"size\":16},\"showarrow\":false,\"text\":\"category\",\"x\":0.5,\"xanchor\":\"center\",\"xref\":\"paper\",\"y\":1.0,\"yanchor\":\"bottom\",\"yref\":\"paper\"},{\"font\":{\"size\":16},\"showarrow\":false,\"text\":\"manually_added\",\"x\":0.708,\"xanchor\":\"center\",\"xref\":\"paper\",\"y\":1.0,\"yanchor\":\"bottom\",\"yref\":\"paper\"},{\"font\":{\"size\":16},\"showarrow\":false,\"text\":\"mortgage\",\"x\":0.9159999999999999,\"xanchor\":\"center\",\"xref\":\"paper\",\"y\":1.0,\"yanchor\":\"bottom\",\"yref\":\"paper\"},{\"font\":{\"size\":16},\"showarrow\":false,\"text\":\"haggle\",\"x\":0.08399999999999999,\"xanchor\":\"center\",\"xref\":\"paper\",\"y\":0.375,\"yanchor\":\"bottom\",\"yref\":\"paper\"},{\"font\":{\"size\":16},\"showarrow\":false,\"text\":\"new_flat\",\"x\":0.292,\"xanchor\":\"center\",\"xref\":\"paper\",\"y\":0.375,\"yanchor\":\"bottom\",\"yref\":\"paper\"},{\"font\":{\"size\":16},\"showarrow\":false,\"text\":\"lift\",\"x\":0.5,\"xanchor\":\"center\",\"xref\":\"paper\",\"y\":0.375,\"yanchor\":\"bottom\",\"yref\":\"paper\"},{\"font\":{\"size\":16},\"showarrow\":false,\"text\":\"parking\",\"x\":0.708,\"xanchor\":\"center\",\"xref\":\"paper\",\"y\":0.375,\"yanchor\":\"bottom\",\"yref\":\"paper\"},{\"font\":{\"size\":16},\"showarrow\":false,\"text\":\"region\",\"x\":0.9159999999999999,\"xanchor\":\"center\",\"xref\":\"paper\",\"y\":0.375,\"yanchor\":\"bottom\",\"yref\":\"paper\"}],\"title\":{\"text\":\"less 3 classes\"},\"autosize\":true},                        {\"responsive\": true}                    ).then(function(){\n",
       "                            \n",
       "var gd = document.getElementById('8ec3761b-ab9c-4811-ad3f-f657c4459f3b');\n",
       "var x = new MutationObserver(function (mutations, observer) {{\n",
       "        var display = window.getComputedStyle(gd).display;\n",
       "        if (!display || display === 'none') {{\n",
       "            console.log([gd, 'removed!']);\n",
       "            Plotly.purge(gd);\n",
       "            observer.disconnect();\n",
       "        }}\n",
       "}});\n",
       "\n",
       "// Listen for the removal of the full notebook cells\n",
       "var notebookContainer = gd.closest('#notebook-container');\n",
       "if (notebookContainer) {{\n",
       "    x.observe(notebookContainer, {childList: true});\n",
       "}}\n",
       "\n",
       "// Listen for the clearing of the current output cell\n",
       "var outputEl = gd.closest('.output');\n",
       "if (outputEl) {{\n",
       "    x.observe(outputEl, {childList: true});\n",
       "}}\n",
       "\n",
       "                        })                };                });            </script>        </div>"
      ]
     },
     "metadata": {},
     "output_type": "display_data"
    }
   ],
   "source": [
    "subplot_show(list_check_less_3, 'less 3 classes', row_num=2, col_num=5)"
   ]
  },
  {
   "cell_type": "markdown",
   "id": "9720e46d",
   "metadata": {},
   "source": [
    "## Объекты на карте"
   ]
  },
  {
   "cell_type": "code",
   "execution_count": 108,
   "id": "6e182d0f",
   "metadata": {
    "scrolled": true
   },
   "outputs": [],
   "source": [
    "#conda create -n geo python=3.9 -y"
   ]
  },
  {
   "cell_type": "code",
   "execution_count": 109,
   "id": "e894958b",
   "metadata": {},
   "outputs": [],
   "source": [
    "#conda activate geo"
   ]
  },
  {
   "cell_type": "code",
   "execution_count": 110,
   "id": "2e5fdc86",
   "metadata": {},
   "outputs": [],
   "source": [
    "#conda install geopandas"
   ]
  },
  {
   "cell_type": "code",
   "execution_count": 111,
   "id": "ca22fbb0",
   "metadata": {},
   "outputs": [],
   "source": [
    "#conda install mamba -c conda-forge"
   ]
  },
  {
   "cell_type": "code",
   "execution_count": 112,
   "id": "529447ca",
   "metadata": {},
   "outputs": [],
   "source": [
    "#mamba install localtileserver keplergl pydeck leafmap -c conda-forge"
   ]
  },
  {
   "cell_type": "code",
   "execution_count": 113,
   "id": "615d612c",
   "metadata": {},
   "outputs": [],
   "source": [
    "import os\n",
    "import subprocess\n",
    "import leafmap.foliumap as leafmap\n",
    "import leafmap"
   ]
  },
  {
   "cell_type": "code",
   "execution_count": 114,
   "id": "01310b36",
   "metadata": {
    "scrolled": false
   },
   "outputs": [
    {
     "data": {
      "application/vnd.jupyter.widget-view+json": {
       "model_id": "53b6e43f921f440b848dfc7b2ac6eaa3",
       "version_major": 2,
       "version_minor": 0
      },
      "text/plain": [
       "Map(center=[59.95, 30.3], controls=(ZoomControl(options=['position', 'zoom_in_text', 'zoom_in_title', 'zoom_ou…"
      ]
     },
     "execution_count": 114,
     "metadata": {},
     "output_type": "execute_result"
    }
   ],
   "source": [
    "Map = leafmap.Map(center=(59.95, 30.3),\n",
    "                zoom=10, \n",
    "                draw_control=False,\n",
    "                measure_control=False,\n",
    "                fullscreen_control=False,\n",
    "                attribution_control=True)\n",
    "Map.add_xy_data(df, x=\"longitude\", y=\"latitude\", layer_name=\"World Cities\")\n",
    "Map"
   ]
  },
  {
   "cell_type": "code",
   "execution_count": 115,
   "id": "e144f8a5",
   "metadata": {
    "scrolled": true
   },
   "outputs": [],
   "source": [
    "#conda install -c conda-forge keplergl"
   ]
  },
  {
   "cell_type": "code",
   "execution_count": 116,
   "id": "df166b7b",
   "metadata": {},
   "outputs": [],
   "source": [
    "import leafmap.kepler as leafmap"
   ]
  },
  {
   "cell_type": "code",
   "execution_count": 117,
   "id": "14d1c08b",
   "metadata": {},
   "outputs": [],
   "source": [
    "df.to_csv('files/df.csv')"
   ]
  },
  {
   "cell_type": "code",
   "execution_count": 118,
   "id": "21fd74ec",
   "metadata": {},
   "outputs": [
    {
     "data": {
      "application/vnd.jupyter.widget-view+json": {
       "model_id": "0a0b52ada9ed4a7a8e751ced1345e693",
       "version_major": 2,
       "version_minor": 0
      },
      "text/plain": [
       "Map(config={'version': 'v1', 'config': {'mapState': {'latitude': 59.95, 'longitude': 30.3, 'zoom': 10, 'bearin…"
      ]
     },
     "execution_count": 118,
     "metadata": {},
     "output_type": "execute_result"
    }
   ],
   "source": [
    "m = leafmap.Map(center=[59.95, 30.3], zoom=10)\n",
    "in_csv = ('/Users/romankuzmin/projects/nmarket/files/df.csv')\n",
    "m.add_csv(in_csv, layer_name=\"nmarket\")\n",
    "m"
   ]
  },
  {
   "cell_type": "code",
   "execution_count": 119,
   "id": "75fe0944",
   "metadata": {},
   "outputs": [],
   "source": [
    "del df['creation_date']\n",
    "del df['last_update_date']"
   ]
  },
  {
   "cell_type": "code",
   "execution_count": 120,
   "id": "5a3a461d",
   "metadata": {},
   "outputs": [],
   "source": [
    "# load the config\n",
    "%run files/map_config.py"
   ]
  },
  {
   "cell_type": "code",
   "execution_count": 121,
   "id": "1ec33c04",
   "metadata": {
    "scrolled": false
   },
   "outputs": [
    {
     "data": {
      "application/vnd.jupyter.widget-view+json": {
       "model_id": "f83d21074b4447b88d92547b0934cbc1",
       "version_major": 2,
       "version_minor": 0
      },
      "text/plain": [
       "KeplerGl(config={'version': 'v1', 'config': {'visState': {'filters': [], 'layers': [{'id': 'aat5hkr', 'type': …"
      ]
     },
     "execution_count": 121,
     "metadata": {},
     "output_type": "execute_result"
    }
   ],
   "source": [
    "map_1 = KeplerGl(height=600, data={\"building_name\": df}, config=config, show_docs=False)\n",
    "map_1"
   ]
  },
  {
   "cell_type": "code",
   "execution_count": 122,
   "id": "16cf8c25",
   "metadata": {},
   "outputs": [],
   "source": [
    "with open('files/map_config.py', 'w') as f:\n",
    "    f.write('config = {}'.format(map_1.config))"
   ]
  },
  {
   "cell_type": "markdown",
   "id": "d086a43a",
   "metadata": {},
   "source": [
    "# Обзор групп"
   ]
  },
  {
   "cell_type": "markdown",
   "id": "a7ff755d",
   "metadata": {},
   "source": [
    "## По населенным пунктам"
   ]
  },
  {
   "cell_type": "code",
   "execution_count": 330,
   "id": "38d3fbf0",
   "metadata": {},
   "outputs": [
    {
     "data": {
      "application/vnd.plotly.v1+json": {
       "config": {
        "plotlyServerURL": "https://plotly.com"
       },
       "data": [
        {
         "name": "kitchen_space",
         "type": "bar",
         "x": [
          "Санкт-Петербург",
          "Лаврики",
          "Аннолово",
          "Бугры",
          "Петергоф",
          "Лахта",
          "Пушкин",
          "Заневское",
          "Янино-1",
          "Гатчина",
          "Красницы",
          "Новоселье",
          "Колпино"
         ],
         "y": [
          3745900,
          7059926.045454546,
          5323611.25,
          5710672.166666667,
          6646976.574074074,
          30172629.372262772,
          5400071.092356688,
          17577763.8,
          6732945.454545454,
          50000000,
          6718617.6,
          10313450.397643594,
          7464040.6
         ]
        }
       ],
       "layout": {
        "template": {
         "data": {
          "bar": [
           {
            "error_x": {
             "color": "#2a3f5f"
            },
            "error_y": {
             "color": "#2a3f5f"
            },
            "marker": {
             "line": {
              "color": "#E5ECF6",
              "width": 0.5
             },
             "pattern": {
              "fillmode": "overlay",
              "size": 10,
              "solidity": 0.2
             }
            },
            "type": "bar"
           }
          ],
          "barpolar": [
           {
            "marker": {
             "line": {
              "color": "#E5ECF6",
              "width": 0.5
             },
             "pattern": {
              "fillmode": "overlay",
              "size": 10,
              "solidity": 0.2
             }
            },
            "type": "barpolar"
           }
          ],
          "carpet": [
           {
            "aaxis": {
             "endlinecolor": "#2a3f5f",
             "gridcolor": "white",
             "linecolor": "white",
             "minorgridcolor": "white",
             "startlinecolor": "#2a3f5f"
            },
            "baxis": {
             "endlinecolor": "#2a3f5f",
             "gridcolor": "white",
             "linecolor": "white",
             "minorgridcolor": "white",
             "startlinecolor": "#2a3f5f"
            },
            "type": "carpet"
           }
          ],
          "choropleth": [
           {
            "colorbar": {
             "outlinewidth": 0,
             "ticks": ""
            },
            "type": "choropleth"
           }
          ],
          "contour": [
           {
            "colorbar": {
             "outlinewidth": 0,
             "ticks": ""
            },
            "colorscale": [
             [
              0,
              "#0d0887"
             ],
             [
              0.1111111111111111,
              "#46039f"
             ],
             [
              0.2222222222222222,
              "#7201a8"
             ],
             [
              0.3333333333333333,
              "#9c179e"
             ],
             [
              0.4444444444444444,
              "#bd3786"
             ],
             [
              0.5555555555555556,
              "#d8576b"
             ],
             [
              0.6666666666666666,
              "#ed7953"
             ],
             [
              0.7777777777777778,
              "#fb9f3a"
             ],
             [
              0.8888888888888888,
              "#fdca26"
             ],
             [
              1,
              "#f0f921"
             ]
            ],
            "type": "contour"
           }
          ],
          "contourcarpet": [
           {
            "colorbar": {
             "outlinewidth": 0,
             "ticks": ""
            },
            "type": "contourcarpet"
           }
          ],
          "heatmap": [
           {
            "colorbar": {
             "outlinewidth": 0,
             "ticks": ""
            },
            "colorscale": [
             [
              0,
              "#0d0887"
             ],
             [
              0.1111111111111111,
              "#46039f"
             ],
             [
              0.2222222222222222,
              "#7201a8"
             ],
             [
              0.3333333333333333,
              "#9c179e"
             ],
             [
              0.4444444444444444,
              "#bd3786"
             ],
             [
              0.5555555555555556,
              "#d8576b"
             ],
             [
              0.6666666666666666,
              "#ed7953"
             ],
             [
              0.7777777777777778,
              "#fb9f3a"
             ],
             [
              0.8888888888888888,
              "#fdca26"
             ],
             [
              1,
              "#f0f921"
             ]
            ],
            "type": "heatmap"
           }
          ],
          "heatmapgl": [
           {
            "colorbar": {
             "outlinewidth": 0,
             "ticks": ""
            },
            "colorscale": [
             [
              0,
              "#0d0887"
             ],
             [
              0.1111111111111111,
              "#46039f"
             ],
             [
              0.2222222222222222,
              "#7201a8"
             ],
             [
              0.3333333333333333,
              "#9c179e"
             ],
             [
              0.4444444444444444,
              "#bd3786"
             ],
             [
              0.5555555555555556,
              "#d8576b"
             ],
             [
              0.6666666666666666,
              "#ed7953"
             ],
             [
              0.7777777777777778,
              "#fb9f3a"
             ],
             [
              0.8888888888888888,
              "#fdca26"
             ],
             [
              1,
              "#f0f921"
             ]
            ],
            "type": "heatmapgl"
           }
          ],
          "histogram": [
           {
            "marker": {
             "pattern": {
              "fillmode": "overlay",
              "size": 10,
              "solidity": 0.2
             }
            },
            "type": "histogram"
           }
          ],
          "histogram2d": [
           {
            "colorbar": {
             "outlinewidth": 0,
             "ticks": ""
            },
            "colorscale": [
             [
              0,
              "#0d0887"
             ],
             [
              0.1111111111111111,
              "#46039f"
             ],
             [
              0.2222222222222222,
              "#7201a8"
             ],
             [
              0.3333333333333333,
              "#9c179e"
             ],
             [
              0.4444444444444444,
              "#bd3786"
             ],
             [
              0.5555555555555556,
              "#d8576b"
             ],
             [
              0.6666666666666666,
              "#ed7953"
             ],
             [
              0.7777777777777778,
              "#fb9f3a"
             ],
             [
              0.8888888888888888,
              "#fdca26"
             ],
             [
              1,
              "#f0f921"
             ]
            ],
            "type": "histogram2d"
           }
          ],
          "histogram2dcontour": [
           {
            "colorbar": {
             "outlinewidth": 0,
             "ticks": ""
            },
            "colorscale": [
             [
              0,
              "#0d0887"
             ],
             [
              0.1111111111111111,
              "#46039f"
             ],
             [
              0.2222222222222222,
              "#7201a8"
             ],
             [
              0.3333333333333333,
              "#9c179e"
             ],
             [
              0.4444444444444444,
              "#bd3786"
             ],
             [
              0.5555555555555556,
              "#d8576b"
             ],
             [
              0.6666666666666666,
              "#ed7953"
             ],
             [
              0.7777777777777778,
              "#fb9f3a"
             ],
             [
              0.8888888888888888,
              "#fdca26"
             ],
             [
              1,
              "#f0f921"
             ]
            ],
            "type": "histogram2dcontour"
           }
          ],
          "mesh3d": [
           {
            "colorbar": {
             "outlinewidth": 0,
             "ticks": ""
            },
            "type": "mesh3d"
           }
          ],
          "parcoords": [
           {
            "line": {
             "colorbar": {
              "outlinewidth": 0,
              "ticks": ""
             }
            },
            "type": "parcoords"
           }
          ],
          "pie": [
           {
            "automargin": true,
            "type": "pie"
           }
          ],
          "scatter": [
           {
            "fillpattern": {
             "fillmode": "overlay",
             "size": 10,
             "solidity": 0.2
            },
            "type": "scatter"
           }
          ],
          "scatter3d": [
           {
            "line": {
             "colorbar": {
              "outlinewidth": 0,
              "ticks": ""
             }
            },
            "marker": {
             "colorbar": {
              "outlinewidth": 0,
              "ticks": ""
             }
            },
            "type": "scatter3d"
           }
          ],
          "scattercarpet": [
           {
            "marker": {
             "colorbar": {
              "outlinewidth": 0,
              "ticks": ""
             }
            },
            "type": "scattercarpet"
           }
          ],
          "scattergeo": [
           {
            "marker": {
             "colorbar": {
              "outlinewidth": 0,
              "ticks": ""
             }
            },
            "type": "scattergeo"
           }
          ],
          "scattergl": [
           {
            "marker": {
             "colorbar": {
              "outlinewidth": 0,
              "ticks": ""
             }
            },
            "type": "scattergl"
           }
          ],
          "scattermapbox": [
           {
            "marker": {
             "colorbar": {
              "outlinewidth": 0,
              "ticks": ""
             }
            },
            "type": "scattermapbox"
           }
          ],
          "scatterpolar": [
           {
            "marker": {
             "colorbar": {
              "outlinewidth": 0,
              "ticks": ""
             }
            },
            "type": "scatterpolar"
           }
          ],
          "scatterpolargl": [
           {
            "marker": {
             "colorbar": {
              "outlinewidth": 0,
              "ticks": ""
             }
            },
            "type": "scatterpolargl"
           }
          ],
          "scatterternary": [
           {
            "marker": {
             "colorbar": {
              "outlinewidth": 0,
              "ticks": ""
             }
            },
            "type": "scatterternary"
           }
          ],
          "surface": [
           {
            "colorbar": {
             "outlinewidth": 0,
             "ticks": ""
            },
            "colorscale": [
             [
              0,
              "#0d0887"
             ],
             [
              0.1111111111111111,
              "#46039f"
             ],
             [
              0.2222222222222222,
              "#7201a8"
             ],
             [
              0.3333333333333333,
              "#9c179e"
             ],
             [
              0.4444444444444444,
              "#bd3786"
             ],
             [
              0.5555555555555556,
              "#d8576b"
             ],
             [
              0.6666666666666666,
              "#ed7953"
             ],
             [
              0.7777777777777778,
              "#fb9f3a"
             ],
             [
              0.8888888888888888,
              "#fdca26"
             ],
             [
              1,
              "#f0f921"
             ]
            ],
            "type": "surface"
           }
          ],
          "table": [
           {
            "cells": {
             "fill": {
              "color": "#EBF0F8"
             },
             "line": {
              "color": "white"
             }
            },
            "header": {
             "fill": {
              "color": "#C8D4E3"
             },
             "line": {
              "color": "white"
             }
            },
            "type": "table"
           }
          ]
         },
         "layout": {
          "annotationdefaults": {
           "arrowcolor": "#2a3f5f",
           "arrowhead": 0,
           "arrowwidth": 1
          },
          "autotypenumbers": "strict",
          "coloraxis": {
           "colorbar": {
            "outlinewidth": 0,
            "ticks": ""
           }
          },
          "colorscale": {
           "diverging": [
            [
             0,
             "#8e0152"
            ],
            [
             0.1,
             "#c51b7d"
            ],
            [
             0.2,
             "#de77ae"
            ],
            [
             0.3,
             "#f1b6da"
            ],
            [
             0.4,
             "#fde0ef"
            ],
            [
             0.5,
             "#f7f7f7"
            ],
            [
             0.6,
             "#e6f5d0"
            ],
            [
             0.7,
             "#b8e186"
            ],
            [
             0.8,
             "#7fbc41"
            ],
            [
             0.9,
             "#4d9221"
            ],
            [
             1,
             "#276419"
            ]
           ],
           "sequential": [
            [
             0,
             "#0d0887"
            ],
            [
             0.1111111111111111,
             "#46039f"
            ],
            [
             0.2222222222222222,
             "#7201a8"
            ],
            [
             0.3333333333333333,
             "#9c179e"
            ],
            [
             0.4444444444444444,
             "#bd3786"
            ],
            [
             0.5555555555555556,
             "#d8576b"
            ],
            [
             0.6666666666666666,
             "#ed7953"
            ],
            [
             0.7777777777777778,
             "#fb9f3a"
            ],
            [
             0.8888888888888888,
             "#fdca26"
            ],
            [
             1,
             "#f0f921"
            ]
           ],
           "sequentialminus": [
            [
             0,
             "#0d0887"
            ],
            [
             0.1111111111111111,
             "#46039f"
            ],
            [
             0.2222222222222222,
             "#7201a8"
            ],
            [
             0.3333333333333333,
             "#9c179e"
            ],
            [
             0.4444444444444444,
             "#bd3786"
            ],
            [
             0.5555555555555556,
             "#d8576b"
            ],
            [
             0.6666666666666666,
             "#ed7953"
            ],
            [
             0.7777777777777778,
             "#fb9f3a"
            ],
            [
             0.8888888888888888,
             "#fdca26"
            ],
            [
             1,
             "#f0f921"
            ]
           ]
          },
          "colorway": [
           "#636efa",
           "#EF553B",
           "#00cc96",
           "#ab63fa",
           "#FFA15A",
           "#19d3f3",
           "#FF6692",
           "#B6E880",
           "#FF97FF",
           "#FECB52"
          ],
          "font": {
           "color": "#2a3f5f"
          },
          "geo": {
           "bgcolor": "white",
           "lakecolor": "white",
           "landcolor": "#E5ECF6",
           "showlakes": true,
           "showland": true,
           "subunitcolor": "white"
          },
          "hoverlabel": {
           "align": "left"
          },
          "hovermode": "closest",
          "mapbox": {
           "style": "light"
          },
          "paper_bgcolor": "white",
          "plot_bgcolor": "#E5ECF6",
          "polar": {
           "angularaxis": {
            "gridcolor": "white",
            "linecolor": "white",
            "ticks": ""
           },
           "bgcolor": "#E5ECF6",
           "radialaxis": {
            "gridcolor": "white",
            "linecolor": "white",
            "ticks": ""
           }
          },
          "scene": {
           "xaxis": {
            "backgroundcolor": "#E5ECF6",
            "gridcolor": "white",
            "gridwidth": 2,
            "linecolor": "white",
            "showbackground": true,
            "ticks": "",
            "zerolinecolor": "white"
           },
           "yaxis": {
            "backgroundcolor": "#E5ECF6",
            "gridcolor": "white",
            "gridwidth": 2,
            "linecolor": "white",
            "showbackground": true,
            "ticks": "",
            "zerolinecolor": "white"
           },
           "zaxis": {
            "backgroundcolor": "#E5ECF6",
            "gridcolor": "white",
            "gridwidth": 2,
            "linecolor": "white",
            "showbackground": true,
            "ticks": "",
            "zerolinecolor": "white"
           }
          },
          "shapedefaults": {
           "line": {
            "color": "#2a3f5f"
           }
          },
          "ternary": {
           "aaxis": {
            "gridcolor": "white",
            "linecolor": "white",
            "ticks": ""
           },
           "baxis": {
            "gridcolor": "white",
            "linecolor": "white",
            "ticks": ""
           },
           "bgcolor": "#E5ECF6",
           "caxis": {
            "gridcolor": "white",
            "linecolor": "white",
            "ticks": ""
           }
          },
          "title": {
           "x": 0.05
          },
          "xaxis": {
           "automargin": true,
           "gridcolor": "white",
           "linecolor": "white",
           "ticks": "",
           "title": {
            "standoff": 15
           },
           "zerolinecolor": "white",
           "zerolinewidth": 2
          },
          "yaxis": {
           "automargin": true,
           "gridcolor": "white",
           "linecolor": "white",
           "ticks": "",
           "title": {
            "standoff": 15
           },
           "zerolinecolor": "white",
           "zerolinewidth": 2
          }
         }
        }
       }
      },
      "text/html": [
       "<div>                            <div id=\"2e5668bc-9699-4cfc-abdc-c70df7025d7e\" class=\"plotly-graph-div\" style=\"height:525px; width:100%;\"></div>            <script type=\"text/javascript\">                require([\"plotly\"], function(Plotly) {                    window.PLOTLYENV=window.PLOTLYENV || {};                                    if (document.getElementById(\"2e5668bc-9699-4cfc-abdc-c70df7025d7e\")) {                    Plotly.newPlot(                        \"2e5668bc-9699-4cfc-abdc-c70df7025d7e\",                        [{\"name\":\"kitchen_space\",\"x\":[\"\\u0421\\u0430\\u043d\\u043a\\u0442-\\u041f\\u0435\\u0442\\u0435\\u0440\\u0431\\u0443\\u0440\\u0433\",\"\\u041b\\u0430\\u0432\\u0440\\u0438\\u043a\\u0438\",\"\\u0410\\u043d\\u043d\\u043e\\u043b\\u043e\\u0432\\u043e\",\"\\u0411\\u0443\\u0433\\u0440\\u044b\",\"\\u041f\\u0435\\u0442\\u0435\\u0440\\u0433\\u043e\\u0444\",\"\\u041b\\u0430\\u0445\\u0442\\u0430\",\"\\u041f\\u0443\\u0448\\u043a\\u0438\\u043d\",\"\\u0417\\u0430\\u043d\\u0435\\u0432\\u0441\\u043a\\u043e\\u0435\",\"\\u042f\\u043d\\u0438\\u043d\\u043e-1\",\"\\u0413\\u0430\\u0442\\u0447\\u0438\\u043d\\u0430\",\"\\u041a\\u0440\\u0430\\u0441\\u043d\\u0438\\u0446\\u044b\",\"\\u041d\\u043e\\u0432\\u043e\\u0441\\u0435\\u043b\\u044c\\u0435\",\"\\u041a\\u043e\\u043b\\u043f\\u0438\\u043d\\u043e\"],\"y\":[3745900.0,7059926.045454546,5323611.25,5710672.166666667,6646976.574074074,30172629.372262772,5400071.092356688,17577763.8,6732945.454545454,50000000.0,6718617.6,10313450.397643594,7464040.6],\"type\":\"bar\"}],                        {\"template\":{\"data\":{\"histogram2dcontour\":[{\"type\":\"histogram2dcontour\",\"colorbar\":{\"outlinewidth\":0,\"ticks\":\"\"},\"colorscale\":[[0.0,\"#0d0887\"],[0.1111111111111111,\"#46039f\"],[0.2222222222222222,\"#7201a8\"],[0.3333333333333333,\"#9c179e\"],[0.4444444444444444,\"#bd3786\"],[0.5555555555555556,\"#d8576b\"],[0.6666666666666666,\"#ed7953\"],[0.7777777777777778,\"#fb9f3a\"],[0.8888888888888888,\"#fdca26\"],[1.0,\"#f0f921\"]]}],\"choropleth\":[{\"type\":\"choropleth\",\"colorbar\":{\"outlinewidth\":0,\"ticks\":\"\"}}],\"histogram2d\":[{\"type\":\"histogram2d\",\"colorbar\":{\"outlinewidth\":0,\"ticks\":\"\"},\"colorscale\":[[0.0,\"#0d0887\"],[0.1111111111111111,\"#46039f\"],[0.2222222222222222,\"#7201a8\"],[0.3333333333333333,\"#9c179e\"],[0.4444444444444444,\"#bd3786\"],[0.5555555555555556,\"#d8576b\"],[0.6666666666666666,\"#ed7953\"],[0.7777777777777778,\"#fb9f3a\"],[0.8888888888888888,\"#fdca26\"],[1.0,\"#f0f921\"]]}],\"heatmap\":[{\"type\":\"heatmap\",\"colorbar\":{\"outlinewidth\":0,\"ticks\":\"\"},\"colorscale\":[[0.0,\"#0d0887\"],[0.1111111111111111,\"#46039f\"],[0.2222222222222222,\"#7201a8\"],[0.3333333333333333,\"#9c179e\"],[0.4444444444444444,\"#bd3786\"],[0.5555555555555556,\"#d8576b\"],[0.6666666666666666,\"#ed7953\"],[0.7777777777777778,\"#fb9f3a\"],[0.8888888888888888,\"#fdca26\"],[1.0,\"#f0f921\"]]}],\"heatmapgl\":[{\"type\":\"heatmapgl\",\"colorbar\":{\"outlinewidth\":0,\"ticks\":\"\"},\"colorscale\":[[0.0,\"#0d0887\"],[0.1111111111111111,\"#46039f\"],[0.2222222222222222,\"#7201a8\"],[0.3333333333333333,\"#9c179e\"],[0.4444444444444444,\"#bd3786\"],[0.5555555555555556,\"#d8576b\"],[0.6666666666666666,\"#ed7953\"],[0.7777777777777778,\"#fb9f3a\"],[0.8888888888888888,\"#fdca26\"],[1.0,\"#f0f921\"]]}],\"contourcarpet\":[{\"type\":\"contourcarpet\",\"colorbar\":{\"outlinewidth\":0,\"ticks\":\"\"}}],\"contour\":[{\"type\":\"contour\",\"colorbar\":{\"outlinewidth\":0,\"ticks\":\"\"},\"colorscale\":[[0.0,\"#0d0887\"],[0.1111111111111111,\"#46039f\"],[0.2222222222222222,\"#7201a8\"],[0.3333333333333333,\"#9c179e\"],[0.4444444444444444,\"#bd3786\"],[0.5555555555555556,\"#d8576b\"],[0.6666666666666666,\"#ed7953\"],[0.7777777777777778,\"#fb9f3a\"],[0.8888888888888888,\"#fdca26\"],[1.0,\"#f0f921\"]]}],\"surface\":[{\"type\":\"surface\",\"colorbar\":{\"outlinewidth\":0,\"ticks\":\"\"},\"colorscale\":[[0.0,\"#0d0887\"],[0.1111111111111111,\"#46039f\"],[0.2222222222222222,\"#7201a8\"],[0.3333333333333333,\"#9c179e\"],[0.4444444444444444,\"#bd3786\"],[0.5555555555555556,\"#d8576b\"],[0.6666666666666666,\"#ed7953\"],[0.7777777777777778,\"#fb9f3a\"],[0.8888888888888888,\"#fdca26\"],[1.0,\"#f0f921\"]]}],\"mesh3d\":[{\"type\":\"mesh3d\",\"colorbar\":{\"outlinewidth\":0,\"ticks\":\"\"}}],\"scatter\":[{\"fillpattern\":{\"fillmode\":\"overlay\",\"size\":10,\"solidity\":0.2},\"type\":\"scatter\"}],\"parcoords\":[{\"type\":\"parcoords\",\"line\":{\"colorbar\":{\"outlinewidth\":0,\"ticks\":\"\"}}}],\"scatterpolargl\":[{\"type\":\"scatterpolargl\",\"marker\":{\"colorbar\":{\"outlinewidth\":0,\"ticks\":\"\"}}}],\"bar\":[{\"error_x\":{\"color\":\"#2a3f5f\"},\"error_y\":{\"color\":\"#2a3f5f\"},\"marker\":{\"line\":{\"color\":\"#E5ECF6\",\"width\":0.5},\"pattern\":{\"fillmode\":\"overlay\",\"size\":10,\"solidity\":0.2}},\"type\":\"bar\"}],\"scattergeo\":[{\"type\":\"scattergeo\",\"marker\":{\"colorbar\":{\"outlinewidth\":0,\"ticks\":\"\"}}}],\"scatterpolar\":[{\"type\":\"scatterpolar\",\"marker\":{\"colorbar\":{\"outlinewidth\":0,\"ticks\":\"\"}}}],\"histogram\":[{\"marker\":{\"pattern\":{\"fillmode\":\"overlay\",\"size\":10,\"solidity\":0.2}},\"type\":\"histogram\"}],\"scattergl\":[{\"type\":\"scattergl\",\"marker\":{\"colorbar\":{\"outlinewidth\":0,\"ticks\":\"\"}}}],\"scatter3d\":[{\"type\":\"scatter3d\",\"line\":{\"colorbar\":{\"outlinewidth\":0,\"ticks\":\"\"}},\"marker\":{\"colorbar\":{\"outlinewidth\":0,\"ticks\":\"\"}}}],\"scattermapbox\":[{\"type\":\"scattermapbox\",\"marker\":{\"colorbar\":{\"outlinewidth\":0,\"ticks\":\"\"}}}],\"scatterternary\":[{\"type\":\"scatterternary\",\"marker\":{\"colorbar\":{\"outlinewidth\":0,\"ticks\":\"\"}}}],\"scattercarpet\":[{\"type\":\"scattercarpet\",\"marker\":{\"colorbar\":{\"outlinewidth\":0,\"ticks\":\"\"}}}],\"carpet\":[{\"aaxis\":{\"endlinecolor\":\"#2a3f5f\",\"gridcolor\":\"white\",\"linecolor\":\"white\",\"minorgridcolor\":\"white\",\"startlinecolor\":\"#2a3f5f\"},\"baxis\":{\"endlinecolor\":\"#2a3f5f\",\"gridcolor\":\"white\",\"linecolor\":\"white\",\"minorgridcolor\":\"white\",\"startlinecolor\":\"#2a3f5f\"},\"type\":\"carpet\"}],\"table\":[{\"cells\":{\"fill\":{\"color\":\"#EBF0F8\"},\"line\":{\"color\":\"white\"}},\"header\":{\"fill\":{\"color\":\"#C8D4E3\"},\"line\":{\"color\":\"white\"}},\"type\":\"table\"}],\"barpolar\":[{\"marker\":{\"line\":{\"color\":\"#E5ECF6\",\"width\":0.5},\"pattern\":{\"fillmode\":\"overlay\",\"size\":10,\"solidity\":0.2}},\"type\":\"barpolar\"}],\"pie\":[{\"automargin\":true,\"type\":\"pie\"}]},\"layout\":{\"autotypenumbers\":\"strict\",\"colorway\":[\"#636efa\",\"#EF553B\",\"#00cc96\",\"#ab63fa\",\"#FFA15A\",\"#19d3f3\",\"#FF6692\",\"#B6E880\",\"#FF97FF\",\"#FECB52\"],\"font\":{\"color\":\"#2a3f5f\"},\"hovermode\":\"closest\",\"hoverlabel\":{\"align\":\"left\"},\"paper_bgcolor\":\"white\",\"plot_bgcolor\":\"#E5ECF6\",\"polar\":{\"bgcolor\":\"#E5ECF6\",\"angularaxis\":{\"gridcolor\":\"white\",\"linecolor\":\"white\",\"ticks\":\"\"},\"radialaxis\":{\"gridcolor\":\"white\",\"linecolor\":\"white\",\"ticks\":\"\"}},\"ternary\":{\"bgcolor\":\"#E5ECF6\",\"aaxis\":{\"gridcolor\":\"white\",\"linecolor\":\"white\",\"ticks\":\"\"},\"baxis\":{\"gridcolor\":\"white\",\"linecolor\":\"white\",\"ticks\":\"\"},\"caxis\":{\"gridcolor\":\"white\",\"linecolor\":\"white\",\"ticks\":\"\"}},\"coloraxis\":{\"colorbar\":{\"outlinewidth\":0,\"ticks\":\"\"}},\"colorscale\":{\"sequential\":[[0.0,\"#0d0887\"],[0.1111111111111111,\"#46039f\"],[0.2222222222222222,\"#7201a8\"],[0.3333333333333333,\"#9c179e\"],[0.4444444444444444,\"#bd3786\"],[0.5555555555555556,\"#d8576b\"],[0.6666666666666666,\"#ed7953\"],[0.7777777777777778,\"#fb9f3a\"],[0.8888888888888888,\"#fdca26\"],[1.0,\"#f0f921\"]],\"sequentialminus\":[[0.0,\"#0d0887\"],[0.1111111111111111,\"#46039f\"],[0.2222222222222222,\"#7201a8\"],[0.3333333333333333,\"#9c179e\"],[0.4444444444444444,\"#bd3786\"],[0.5555555555555556,\"#d8576b\"],[0.6666666666666666,\"#ed7953\"],[0.7777777777777778,\"#fb9f3a\"],[0.8888888888888888,\"#fdca26\"],[1.0,\"#f0f921\"]],\"diverging\":[[0,\"#8e0152\"],[0.1,\"#c51b7d\"],[0.2,\"#de77ae\"],[0.3,\"#f1b6da\"],[0.4,\"#fde0ef\"],[0.5,\"#f7f7f7\"],[0.6,\"#e6f5d0\"],[0.7,\"#b8e186\"],[0.8,\"#7fbc41\"],[0.9,\"#4d9221\"],[1,\"#276419\"]]},\"xaxis\":{\"gridcolor\":\"white\",\"linecolor\":\"white\",\"ticks\":\"\",\"title\":{\"standoff\":15},\"zerolinecolor\":\"white\",\"automargin\":true,\"zerolinewidth\":2},\"yaxis\":{\"gridcolor\":\"white\",\"linecolor\":\"white\",\"ticks\":\"\",\"title\":{\"standoff\":15},\"zerolinecolor\":\"white\",\"automargin\":true,\"zerolinewidth\":2},\"scene\":{\"xaxis\":{\"backgroundcolor\":\"#E5ECF6\",\"gridcolor\":\"white\",\"linecolor\":\"white\",\"showbackground\":true,\"ticks\":\"\",\"zerolinecolor\":\"white\",\"gridwidth\":2},\"yaxis\":{\"backgroundcolor\":\"#E5ECF6\",\"gridcolor\":\"white\",\"linecolor\":\"white\",\"showbackground\":true,\"ticks\":\"\",\"zerolinecolor\":\"white\",\"gridwidth\":2},\"zaxis\":{\"backgroundcolor\":\"#E5ECF6\",\"gridcolor\":\"white\",\"linecolor\":\"white\",\"showbackground\":true,\"ticks\":\"\",\"zerolinecolor\":\"white\",\"gridwidth\":2}},\"shapedefaults\":{\"line\":{\"color\":\"#2a3f5f\"}},\"annotationdefaults\":{\"arrowcolor\":\"#2a3f5f\",\"arrowhead\":0,\"arrowwidth\":1},\"geo\":{\"bgcolor\":\"white\",\"landcolor\":\"#E5ECF6\",\"subunitcolor\":\"white\",\"showland\":true,\"showlakes\":true,\"lakecolor\":\"white\"},\"title\":{\"x\":0.05},\"mapbox\":{\"style\":\"light\"}}}},                        {\"responsive\": true}                    ).then(function(){\n",
       "                            \n",
       "var gd = document.getElementById('2e5668bc-9699-4cfc-abdc-c70df7025d7e');\n",
       "var x = new MutationObserver(function (mutations, observer) {{\n",
       "        var display = window.getComputedStyle(gd).display;\n",
       "        if (!display || display === 'none') {{\n",
       "            console.log([gd, 'removed!']);\n",
       "            Plotly.purge(gd);\n",
       "            observer.disconnect();\n",
       "        }}\n",
       "}});\n",
       "\n",
       "// Listen for the removal of the full notebook cells\n",
       "var notebookContainer = gd.closest('#notebook-container');\n",
       "if (notebookContainer) {{\n",
       "    x.observe(notebookContainer, {childList: true});\n",
       "}}\n",
       "\n",
       "// Listen for the clearing of the current output cell\n",
       "var outputEl = gd.closest('.output');\n",
       "if (outputEl) {{\n",
       "    x.observe(outputEl, {childList: true});\n",
       "}}\n",
       "\n",
       "                        })                };                });            </script>        </div>"
      ]
     },
     "metadata": {},
     "output_type": "display_data"
    }
   ],
   "source": [
    "fig = go.Figure([go.Bar(\n",
    "       y=df.groupby('locality_name')['price'].mean(),\n",
    "       x=df.locality_name.unique(),\n",
    "       name=column,\n",
    "       )])\n",
    "fig.show()"
   ]
  },
  {
   "cell_type": "code",
   "execution_count": 331,
   "id": "168fd2b7",
   "metadata": {},
   "outputs": [
    {
     "data": {
      "application/vnd.plotly.v1+json": {
       "config": {
        "plotlyServerURL": "https://plotly.com"
       },
       "data": [
        {
         "name": "kitchen_space",
         "type": "bar",
         "x": [
          "Санкт-Петербург",
          "Лаврики",
          "Аннолово",
          "Бугры",
          "Петергоф",
          "Лахта",
          "Пушкин",
          "Заневское",
          "Янино-1",
          "Гатчина",
          "Красницы",
          "Новоселье",
          "Колпино"
         ],
         "y": [
          79.7,
          49.96409090909091,
          44.12625,
          54.20166666666666,
          45.73425925925926,
          159.79985401459857,
          43.37156050955414,
          114.66,
          53.27272727272727,
          1605,
          48.024,
          52.334300441826215,
          59.5745
         ]
        }
       ],
       "layout": {
        "template": {
         "data": {
          "bar": [
           {
            "error_x": {
             "color": "#2a3f5f"
            },
            "error_y": {
             "color": "#2a3f5f"
            },
            "marker": {
             "line": {
              "color": "#E5ECF6",
              "width": 0.5
             },
             "pattern": {
              "fillmode": "overlay",
              "size": 10,
              "solidity": 0.2
             }
            },
            "type": "bar"
           }
          ],
          "barpolar": [
           {
            "marker": {
             "line": {
              "color": "#E5ECF6",
              "width": 0.5
             },
             "pattern": {
              "fillmode": "overlay",
              "size": 10,
              "solidity": 0.2
             }
            },
            "type": "barpolar"
           }
          ],
          "carpet": [
           {
            "aaxis": {
             "endlinecolor": "#2a3f5f",
             "gridcolor": "white",
             "linecolor": "white",
             "minorgridcolor": "white",
             "startlinecolor": "#2a3f5f"
            },
            "baxis": {
             "endlinecolor": "#2a3f5f",
             "gridcolor": "white",
             "linecolor": "white",
             "minorgridcolor": "white",
             "startlinecolor": "#2a3f5f"
            },
            "type": "carpet"
           }
          ],
          "choropleth": [
           {
            "colorbar": {
             "outlinewidth": 0,
             "ticks": ""
            },
            "type": "choropleth"
           }
          ],
          "contour": [
           {
            "colorbar": {
             "outlinewidth": 0,
             "ticks": ""
            },
            "colorscale": [
             [
              0,
              "#0d0887"
             ],
             [
              0.1111111111111111,
              "#46039f"
             ],
             [
              0.2222222222222222,
              "#7201a8"
             ],
             [
              0.3333333333333333,
              "#9c179e"
             ],
             [
              0.4444444444444444,
              "#bd3786"
             ],
             [
              0.5555555555555556,
              "#d8576b"
             ],
             [
              0.6666666666666666,
              "#ed7953"
             ],
             [
              0.7777777777777778,
              "#fb9f3a"
             ],
             [
              0.8888888888888888,
              "#fdca26"
             ],
             [
              1,
              "#f0f921"
             ]
            ],
            "type": "contour"
           }
          ],
          "contourcarpet": [
           {
            "colorbar": {
             "outlinewidth": 0,
             "ticks": ""
            },
            "type": "contourcarpet"
           }
          ],
          "heatmap": [
           {
            "colorbar": {
             "outlinewidth": 0,
             "ticks": ""
            },
            "colorscale": [
             [
              0,
              "#0d0887"
             ],
             [
              0.1111111111111111,
              "#46039f"
             ],
             [
              0.2222222222222222,
              "#7201a8"
             ],
             [
              0.3333333333333333,
              "#9c179e"
             ],
             [
              0.4444444444444444,
              "#bd3786"
             ],
             [
              0.5555555555555556,
              "#d8576b"
             ],
             [
              0.6666666666666666,
              "#ed7953"
             ],
             [
              0.7777777777777778,
              "#fb9f3a"
             ],
             [
              0.8888888888888888,
              "#fdca26"
             ],
             [
              1,
              "#f0f921"
             ]
            ],
            "type": "heatmap"
           }
          ],
          "heatmapgl": [
           {
            "colorbar": {
             "outlinewidth": 0,
             "ticks": ""
            },
            "colorscale": [
             [
              0,
              "#0d0887"
             ],
             [
              0.1111111111111111,
              "#46039f"
             ],
             [
              0.2222222222222222,
              "#7201a8"
             ],
             [
              0.3333333333333333,
              "#9c179e"
             ],
             [
              0.4444444444444444,
              "#bd3786"
             ],
             [
              0.5555555555555556,
              "#d8576b"
             ],
             [
              0.6666666666666666,
              "#ed7953"
             ],
             [
              0.7777777777777778,
              "#fb9f3a"
             ],
             [
              0.8888888888888888,
              "#fdca26"
             ],
             [
              1,
              "#f0f921"
             ]
            ],
            "type": "heatmapgl"
           }
          ],
          "histogram": [
           {
            "marker": {
             "pattern": {
              "fillmode": "overlay",
              "size": 10,
              "solidity": 0.2
             }
            },
            "type": "histogram"
           }
          ],
          "histogram2d": [
           {
            "colorbar": {
             "outlinewidth": 0,
             "ticks": ""
            },
            "colorscale": [
             [
              0,
              "#0d0887"
             ],
             [
              0.1111111111111111,
              "#46039f"
             ],
             [
              0.2222222222222222,
              "#7201a8"
             ],
             [
              0.3333333333333333,
              "#9c179e"
             ],
             [
              0.4444444444444444,
              "#bd3786"
             ],
             [
              0.5555555555555556,
              "#d8576b"
             ],
             [
              0.6666666666666666,
              "#ed7953"
             ],
             [
              0.7777777777777778,
              "#fb9f3a"
             ],
             [
              0.8888888888888888,
              "#fdca26"
             ],
             [
              1,
              "#f0f921"
             ]
            ],
            "type": "histogram2d"
           }
          ],
          "histogram2dcontour": [
           {
            "colorbar": {
             "outlinewidth": 0,
             "ticks": ""
            },
            "colorscale": [
             [
              0,
              "#0d0887"
             ],
             [
              0.1111111111111111,
              "#46039f"
             ],
             [
              0.2222222222222222,
              "#7201a8"
             ],
             [
              0.3333333333333333,
              "#9c179e"
             ],
             [
              0.4444444444444444,
              "#bd3786"
             ],
             [
              0.5555555555555556,
              "#d8576b"
             ],
             [
              0.6666666666666666,
              "#ed7953"
             ],
             [
              0.7777777777777778,
              "#fb9f3a"
             ],
             [
              0.8888888888888888,
              "#fdca26"
             ],
             [
              1,
              "#f0f921"
             ]
            ],
            "type": "histogram2dcontour"
           }
          ],
          "mesh3d": [
           {
            "colorbar": {
             "outlinewidth": 0,
             "ticks": ""
            },
            "type": "mesh3d"
           }
          ],
          "parcoords": [
           {
            "line": {
             "colorbar": {
              "outlinewidth": 0,
              "ticks": ""
             }
            },
            "type": "parcoords"
           }
          ],
          "pie": [
           {
            "automargin": true,
            "type": "pie"
           }
          ],
          "scatter": [
           {
            "fillpattern": {
             "fillmode": "overlay",
             "size": 10,
             "solidity": 0.2
            },
            "type": "scatter"
           }
          ],
          "scatter3d": [
           {
            "line": {
             "colorbar": {
              "outlinewidth": 0,
              "ticks": ""
             }
            },
            "marker": {
             "colorbar": {
              "outlinewidth": 0,
              "ticks": ""
             }
            },
            "type": "scatter3d"
           }
          ],
          "scattercarpet": [
           {
            "marker": {
             "colorbar": {
              "outlinewidth": 0,
              "ticks": ""
             }
            },
            "type": "scattercarpet"
           }
          ],
          "scattergeo": [
           {
            "marker": {
             "colorbar": {
              "outlinewidth": 0,
              "ticks": ""
             }
            },
            "type": "scattergeo"
           }
          ],
          "scattergl": [
           {
            "marker": {
             "colorbar": {
              "outlinewidth": 0,
              "ticks": ""
             }
            },
            "type": "scattergl"
           }
          ],
          "scattermapbox": [
           {
            "marker": {
             "colorbar": {
              "outlinewidth": 0,
              "ticks": ""
             }
            },
            "type": "scattermapbox"
           }
          ],
          "scatterpolar": [
           {
            "marker": {
             "colorbar": {
              "outlinewidth": 0,
              "ticks": ""
             }
            },
            "type": "scatterpolar"
           }
          ],
          "scatterpolargl": [
           {
            "marker": {
             "colorbar": {
              "outlinewidth": 0,
              "ticks": ""
             }
            },
            "type": "scatterpolargl"
           }
          ],
          "scatterternary": [
           {
            "marker": {
             "colorbar": {
              "outlinewidth": 0,
              "ticks": ""
             }
            },
            "type": "scatterternary"
           }
          ],
          "surface": [
           {
            "colorbar": {
             "outlinewidth": 0,
             "ticks": ""
            },
            "colorscale": [
             [
              0,
              "#0d0887"
             ],
             [
              0.1111111111111111,
              "#46039f"
             ],
             [
              0.2222222222222222,
              "#7201a8"
             ],
             [
              0.3333333333333333,
              "#9c179e"
             ],
             [
              0.4444444444444444,
              "#bd3786"
             ],
             [
              0.5555555555555556,
              "#d8576b"
             ],
             [
              0.6666666666666666,
              "#ed7953"
             ],
             [
              0.7777777777777778,
              "#fb9f3a"
             ],
             [
              0.8888888888888888,
              "#fdca26"
             ],
             [
              1,
              "#f0f921"
             ]
            ],
            "type": "surface"
           }
          ],
          "table": [
           {
            "cells": {
             "fill": {
              "color": "#EBF0F8"
             },
             "line": {
              "color": "white"
             }
            },
            "header": {
             "fill": {
              "color": "#C8D4E3"
             },
             "line": {
              "color": "white"
             }
            },
            "type": "table"
           }
          ]
         },
         "layout": {
          "annotationdefaults": {
           "arrowcolor": "#2a3f5f",
           "arrowhead": 0,
           "arrowwidth": 1
          },
          "autotypenumbers": "strict",
          "coloraxis": {
           "colorbar": {
            "outlinewidth": 0,
            "ticks": ""
           }
          },
          "colorscale": {
           "diverging": [
            [
             0,
             "#8e0152"
            ],
            [
             0.1,
             "#c51b7d"
            ],
            [
             0.2,
             "#de77ae"
            ],
            [
             0.3,
             "#f1b6da"
            ],
            [
             0.4,
             "#fde0ef"
            ],
            [
             0.5,
             "#f7f7f7"
            ],
            [
             0.6,
             "#e6f5d0"
            ],
            [
             0.7,
             "#b8e186"
            ],
            [
             0.8,
             "#7fbc41"
            ],
            [
             0.9,
             "#4d9221"
            ],
            [
             1,
             "#276419"
            ]
           ],
           "sequential": [
            [
             0,
             "#0d0887"
            ],
            [
             0.1111111111111111,
             "#46039f"
            ],
            [
             0.2222222222222222,
             "#7201a8"
            ],
            [
             0.3333333333333333,
             "#9c179e"
            ],
            [
             0.4444444444444444,
             "#bd3786"
            ],
            [
             0.5555555555555556,
             "#d8576b"
            ],
            [
             0.6666666666666666,
             "#ed7953"
            ],
            [
             0.7777777777777778,
             "#fb9f3a"
            ],
            [
             0.8888888888888888,
             "#fdca26"
            ],
            [
             1,
             "#f0f921"
            ]
           ],
           "sequentialminus": [
            [
             0,
             "#0d0887"
            ],
            [
             0.1111111111111111,
             "#46039f"
            ],
            [
             0.2222222222222222,
             "#7201a8"
            ],
            [
             0.3333333333333333,
             "#9c179e"
            ],
            [
             0.4444444444444444,
             "#bd3786"
            ],
            [
             0.5555555555555556,
             "#d8576b"
            ],
            [
             0.6666666666666666,
             "#ed7953"
            ],
            [
             0.7777777777777778,
             "#fb9f3a"
            ],
            [
             0.8888888888888888,
             "#fdca26"
            ],
            [
             1,
             "#f0f921"
            ]
           ]
          },
          "colorway": [
           "#636efa",
           "#EF553B",
           "#00cc96",
           "#ab63fa",
           "#FFA15A",
           "#19d3f3",
           "#FF6692",
           "#B6E880",
           "#FF97FF",
           "#FECB52"
          ],
          "font": {
           "color": "#2a3f5f"
          },
          "geo": {
           "bgcolor": "white",
           "lakecolor": "white",
           "landcolor": "#E5ECF6",
           "showlakes": true,
           "showland": true,
           "subunitcolor": "white"
          },
          "hoverlabel": {
           "align": "left"
          },
          "hovermode": "closest",
          "mapbox": {
           "style": "light"
          },
          "paper_bgcolor": "white",
          "plot_bgcolor": "#E5ECF6",
          "polar": {
           "angularaxis": {
            "gridcolor": "white",
            "linecolor": "white",
            "ticks": ""
           },
           "bgcolor": "#E5ECF6",
           "radialaxis": {
            "gridcolor": "white",
            "linecolor": "white",
            "ticks": ""
           }
          },
          "scene": {
           "xaxis": {
            "backgroundcolor": "#E5ECF6",
            "gridcolor": "white",
            "gridwidth": 2,
            "linecolor": "white",
            "showbackground": true,
            "ticks": "",
            "zerolinecolor": "white"
           },
           "yaxis": {
            "backgroundcolor": "#E5ECF6",
            "gridcolor": "white",
            "gridwidth": 2,
            "linecolor": "white",
            "showbackground": true,
            "ticks": "",
            "zerolinecolor": "white"
           },
           "zaxis": {
            "backgroundcolor": "#E5ECF6",
            "gridcolor": "white",
            "gridwidth": 2,
            "linecolor": "white",
            "showbackground": true,
            "ticks": "",
            "zerolinecolor": "white"
           }
          },
          "shapedefaults": {
           "line": {
            "color": "#2a3f5f"
           }
          },
          "ternary": {
           "aaxis": {
            "gridcolor": "white",
            "linecolor": "white",
            "ticks": ""
           },
           "baxis": {
            "gridcolor": "white",
            "linecolor": "white",
            "ticks": ""
           },
           "bgcolor": "#E5ECF6",
           "caxis": {
            "gridcolor": "white",
            "linecolor": "white",
            "ticks": ""
           }
          },
          "title": {
           "x": 0.05
          },
          "xaxis": {
           "automargin": true,
           "gridcolor": "white",
           "linecolor": "white",
           "ticks": "",
           "title": {
            "standoff": 15
           },
           "zerolinecolor": "white",
           "zerolinewidth": 2
          },
          "yaxis": {
           "automargin": true,
           "gridcolor": "white",
           "linecolor": "white",
           "ticks": "",
           "title": {
            "standoff": 15
           },
           "zerolinecolor": "white",
           "zerolinewidth": 2
          }
         }
        }
       }
      },
      "text/html": [
       "<div>                            <div id=\"1ae918ff-a844-4ad3-996c-bf2c832e52d6\" class=\"plotly-graph-div\" style=\"height:525px; width:100%;\"></div>            <script type=\"text/javascript\">                require([\"plotly\"], function(Plotly) {                    window.PLOTLYENV=window.PLOTLYENV || {};                                    if (document.getElementById(\"1ae918ff-a844-4ad3-996c-bf2c832e52d6\")) {                    Plotly.newPlot(                        \"1ae918ff-a844-4ad3-996c-bf2c832e52d6\",                        [{\"name\":\"kitchen_space\",\"x\":[\"\\u0421\\u0430\\u043d\\u043a\\u0442-\\u041f\\u0435\\u0442\\u0435\\u0440\\u0431\\u0443\\u0440\\u0433\",\"\\u041b\\u0430\\u0432\\u0440\\u0438\\u043a\\u0438\",\"\\u0410\\u043d\\u043d\\u043e\\u043b\\u043e\\u0432\\u043e\",\"\\u0411\\u0443\\u0433\\u0440\\u044b\",\"\\u041f\\u0435\\u0442\\u0435\\u0440\\u0433\\u043e\\u0444\",\"\\u041b\\u0430\\u0445\\u0442\\u0430\",\"\\u041f\\u0443\\u0448\\u043a\\u0438\\u043d\",\"\\u0417\\u0430\\u043d\\u0435\\u0432\\u0441\\u043a\\u043e\\u0435\",\"\\u042f\\u043d\\u0438\\u043d\\u043e-1\",\"\\u0413\\u0430\\u0442\\u0447\\u0438\\u043d\\u0430\",\"\\u041a\\u0440\\u0430\\u0441\\u043d\\u0438\\u0446\\u044b\",\"\\u041d\\u043e\\u0432\\u043e\\u0441\\u0435\\u043b\\u044c\\u0435\",\"\\u041a\\u043e\\u043b\\u043f\\u0438\\u043d\\u043e\"],\"y\":[79.7,49.96409090909091,44.12625,54.20166666666666,45.73425925925926,159.79985401459857,43.37156050955414,114.66,53.27272727272727,1605.0,48.024,52.334300441826215,59.5745],\"type\":\"bar\"}],                        {\"template\":{\"data\":{\"histogram2dcontour\":[{\"type\":\"histogram2dcontour\",\"colorbar\":{\"outlinewidth\":0,\"ticks\":\"\"},\"colorscale\":[[0.0,\"#0d0887\"],[0.1111111111111111,\"#46039f\"],[0.2222222222222222,\"#7201a8\"],[0.3333333333333333,\"#9c179e\"],[0.4444444444444444,\"#bd3786\"],[0.5555555555555556,\"#d8576b\"],[0.6666666666666666,\"#ed7953\"],[0.7777777777777778,\"#fb9f3a\"],[0.8888888888888888,\"#fdca26\"],[1.0,\"#f0f921\"]]}],\"choropleth\":[{\"type\":\"choropleth\",\"colorbar\":{\"outlinewidth\":0,\"ticks\":\"\"}}],\"histogram2d\":[{\"type\":\"histogram2d\",\"colorbar\":{\"outlinewidth\":0,\"ticks\":\"\"},\"colorscale\":[[0.0,\"#0d0887\"],[0.1111111111111111,\"#46039f\"],[0.2222222222222222,\"#7201a8\"],[0.3333333333333333,\"#9c179e\"],[0.4444444444444444,\"#bd3786\"],[0.5555555555555556,\"#d8576b\"],[0.6666666666666666,\"#ed7953\"],[0.7777777777777778,\"#fb9f3a\"],[0.8888888888888888,\"#fdca26\"],[1.0,\"#f0f921\"]]}],\"heatmap\":[{\"type\":\"heatmap\",\"colorbar\":{\"outlinewidth\":0,\"ticks\":\"\"},\"colorscale\":[[0.0,\"#0d0887\"],[0.1111111111111111,\"#46039f\"],[0.2222222222222222,\"#7201a8\"],[0.3333333333333333,\"#9c179e\"],[0.4444444444444444,\"#bd3786\"],[0.5555555555555556,\"#d8576b\"],[0.6666666666666666,\"#ed7953\"],[0.7777777777777778,\"#fb9f3a\"],[0.8888888888888888,\"#fdca26\"],[1.0,\"#f0f921\"]]}],\"heatmapgl\":[{\"type\":\"heatmapgl\",\"colorbar\":{\"outlinewidth\":0,\"ticks\":\"\"},\"colorscale\":[[0.0,\"#0d0887\"],[0.1111111111111111,\"#46039f\"],[0.2222222222222222,\"#7201a8\"],[0.3333333333333333,\"#9c179e\"],[0.4444444444444444,\"#bd3786\"],[0.5555555555555556,\"#d8576b\"],[0.6666666666666666,\"#ed7953\"],[0.7777777777777778,\"#fb9f3a\"],[0.8888888888888888,\"#fdca26\"],[1.0,\"#f0f921\"]]}],\"contourcarpet\":[{\"type\":\"contourcarpet\",\"colorbar\":{\"outlinewidth\":0,\"ticks\":\"\"}}],\"contour\":[{\"type\":\"contour\",\"colorbar\":{\"outlinewidth\":0,\"ticks\":\"\"},\"colorscale\":[[0.0,\"#0d0887\"],[0.1111111111111111,\"#46039f\"],[0.2222222222222222,\"#7201a8\"],[0.3333333333333333,\"#9c179e\"],[0.4444444444444444,\"#bd3786\"],[0.5555555555555556,\"#d8576b\"],[0.6666666666666666,\"#ed7953\"],[0.7777777777777778,\"#fb9f3a\"],[0.8888888888888888,\"#fdca26\"],[1.0,\"#f0f921\"]]}],\"surface\":[{\"type\":\"surface\",\"colorbar\":{\"outlinewidth\":0,\"ticks\":\"\"},\"colorscale\":[[0.0,\"#0d0887\"],[0.1111111111111111,\"#46039f\"],[0.2222222222222222,\"#7201a8\"],[0.3333333333333333,\"#9c179e\"],[0.4444444444444444,\"#bd3786\"],[0.5555555555555556,\"#d8576b\"],[0.6666666666666666,\"#ed7953\"],[0.7777777777777778,\"#fb9f3a\"],[0.8888888888888888,\"#fdca26\"],[1.0,\"#f0f921\"]]}],\"mesh3d\":[{\"type\":\"mesh3d\",\"colorbar\":{\"outlinewidth\":0,\"ticks\":\"\"}}],\"scatter\":[{\"fillpattern\":{\"fillmode\":\"overlay\",\"size\":10,\"solidity\":0.2},\"type\":\"scatter\"}],\"parcoords\":[{\"type\":\"parcoords\",\"line\":{\"colorbar\":{\"outlinewidth\":0,\"ticks\":\"\"}}}],\"scatterpolargl\":[{\"type\":\"scatterpolargl\",\"marker\":{\"colorbar\":{\"outlinewidth\":0,\"ticks\":\"\"}}}],\"bar\":[{\"error_x\":{\"color\":\"#2a3f5f\"},\"error_y\":{\"color\":\"#2a3f5f\"},\"marker\":{\"line\":{\"color\":\"#E5ECF6\",\"width\":0.5},\"pattern\":{\"fillmode\":\"overlay\",\"size\":10,\"solidity\":0.2}},\"type\":\"bar\"}],\"scattergeo\":[{\"type\":\"scattergeo\",\"marker\":{\"colorbar\":{\"outlinewidth\":0,\"ticks\":\"\"}}}],\"scatterpolar\":[{\"type\":\"scatterpolar\",\"marker\":{\"colorbar\":{\"outlinewidth\":0,\"ticks\":\"\"}}}],\"histogram\":[{\"marker\":{\"pattern\":{\"fillmode\":\"overlay\",\"size\":10,\"solidity\":0.2}},\"type\":\"histogram\"}],\"scattergl\":[{\"type\":\"scattergl\",\"marker\":{\"colorbar\":{\"outlinewidth\":0,\"ticks\":\"\"}}}],\"scatter3d\":[{\"type\":\"scatter3d\",\"line\":{\"colorbar\":{\"outlinewidth\":0,\"ticks\":\"\"}},\"marker\":{\"colorbar\":{\"outlinewidth\":0,\"ticks\":\"\"}}}],\"scattermapbox\":[{\"type\":\"scattermapbox\",\"marker\":{\"colorbar\":{\"outlinewidth\":0,\"ticks\":\"\"}}}],\"scatterternary\":[{\"type\":\"scatterternary\",\"marker\":{\"colorbar\":{\"outlinewidth\":0,\"ticks\":\"\"}}}],\"scattercarpet\":[{\"type\":\"scattercarpet\",\"marker\":{\"colorbar\":{\"outlinewidth\":0,\"ticks\":\"\"}}}],\"carpet\":[{\"aaxis\":{\"endlinecolor\":\"#2a3f5f\",\"gridcolor\":\"white\",\"linecolor\":\"white\",\"minorgridcolor\":\"white\",\"startlinecolor\":\"#2a3f5f\"},\"baxis\":{\"endlinecolor\":\"#2a3f5f\",\"gridcolor\":\"white\",\"linecolor\":\"white\",\"minorgridcolor\":\"white\",\"startlinecolor\":\"#2a3f5f\"},\"type\":\"carpet\"}],\"table\":[{\"cells\":{\"fill\":{\"color\":\"#EBF0F8\"},\"line\":{\"color\":\"white\"}},\"header\":{\"fill\":{\"color\":\"#C8D4E3\"},\"line\":{\"color\":\"white\"}},\"type\":\"table\"}],\"barpolar\":[{\"marker\":{\"line\":{\"color\":\"#E5ECF6\",\"width\":0.5},\"pattern\":{\"fillmode\":\"overlay\",\"size\":10,\"solidity\":0.2}},\"type\":\"barpolar\"}],\"pie\":[{\"automargin\":true,\"type\":\"pie\"}]},\"layout\":{\"autotypenumbers\":\"strict\",\"colorway\":[\"#636efa\",\"#EF553B\",\"#00cc96\",\"#ab63fa\",\"#FFA15A\",\"#19d3f3\",\"#FF6692\",\"#B6E880\",\"#FF97FF\",\"#FECB52\"],\"font\":{\"color\":\"#2a3f5f\"},\"hovermode\":\"closest\",\"hoverlabel\":{\"align\":\"left\"},\"paper_bgcolor\":\"white\",\"plot_bgcolor\":\"#E5ECF6\",\"polar\":{\"bgcolor\":\"#E5ECF6\",\"angularaxis\":{\"gridcolor\":\"white\",\"linecolor\":\"white\",\"ticks\":\"\"},\"radialaxis\":{\"gridcolor\":\"white\",\"linecolor\":\"white\",\"ticks\":\"\"}},\"ternary\":{\"bgcolor\":\"#E5ECF6\",\"aaxis\":{\"gridcolor\":\"white\",\"linecolor\":\"white\",\"ticks\":\"\"},\"baxis\":{\"gridcolor\":\"white\",\"linecolor\":\"white\",\"ticks\":\"\"},\"caxis\":{\"gridcolor\":\"white\",\"linecolor\":\"white\",\"ticks\":\"\"}},\"coloraxis\":{\"colorbar\":{\"outlinewidth\":0,\"ticks\":\"\"}},\"colorscale\":{\"sequential\":[[0.0,\"#0d0887\"],[0.1111111111111111,\"#46039f\"],[0.2222222222222222,\"#7201a8\"],[0.3333333333333333,\"#9c179e\"],[0.4444444444444444,\"#bd3786\"],[0.5555555555555556,\"#d8576b\"],[0.6666666666666666,\"#ed7953\"],[0.7777777777777778,\"#fb9f3a\"],[0.8888888888888888,\"#fdca26\"],[1.0,\"#f0f921\"]],\"sequentialminus\":[[0.0,\"#0d0887\"],[0.1111111111111111,\"#46039f\"],[0.2222222222222222,\"#7201a8\"],[0.3333333333333333,\"#9c179e\"],[0.4444444444444444,\"#bd3786\"],[0.5555555555555556,\"#d8576b\"],[0.6666666666666666,\"#ed7953\"],[0.7777777777777778,\"#fb9f3a\"],[0.8888888888888888,\"#fdca26\"],[1.0,\"#f0f921\"]],\"diverging\":[[0,\"#8e0152\"],[0.1,\"#c51b7d\"],[0.2,\"#de77ae\"],[0.3,\"#f1b6da\"],[0.4,\"#fde0ef\"],[0.5,\"#f7f7f7\"],[0.6,\"#e6f5d0\"],[0.7,\"#b8e186\"],[0.8,\"#7fbc41\"],[0.9,\"#4d9221\"],[1,\"#276419\"]]},\"xaxis\":{\"gridcolor\":\"white\",\"linecolor\":\"white\",\"ticks\":\"\",\"title\":{\"standoff\":15},\"zerolinecolor\":\"white\",\"automargin\":true,\"zerolinewidth\":2},\"yaxis\":{\"gridcolor\":\"white\",\"linecolor\":\"white\",\"ticks\":\"\",\"title\":{\"standoff\":15},\"zerolinecolor\":\"white\",\"automargin\":true,\"zerolinewidth\":2},\"scene\":{\"xaxis\":{\"backgroundcolor\":\"#E5ECF6\",\"gridcolor\":\"white\",\"linecolor\":\"white\",\"showbackground\":true,\"ticks\":\"\",\"zerolinecolor\":\"white\",\"gridwidth\":2},\"yaxis\":{\"backgroundcolor\":\"#E5ECF6\",\"gridcolor\":\"white\",\"linecolor\":\"white\",\"showbackground\":true,\"ticks\":\"\",\"zerolinecolor\":\"white\",\"gridwidth\":2},\"zaxis\":{\"backgroundcolor\":\"#E5ECF6\",\"gridcolor\":\"white\",\"linecolor\":\"white\",\"showbackground\":true,\"ticks\":\"\",\"zerolinecolor\":\"white\",\"gridwidth\":2}},\"shapedefaults\":{\"line\":{\"color\":\"#2a3f5f\"}},\"annotationdefaults\":{\"arrowcolor\":\"#2a3f5f\",\"arrowhead\":0,\"arrowwidth\":1},\"geo\":{\"bgcolor\":\"white\",\"landcolor\":\"#E5ECF6\",\"subunitcolor\":\"white\",\"showland\":true,\"showlakes\":true,\"lakecolor\":\"white\"},\"title\":{\"x\":0.05},\"mapbox\":{\"style\":\"light\"}}}},                        {\"responsive\": true}                    ).then(function(){\n",
       "                            \n",
       "var gd = document.getElementById('1ae918ff-a844-4ad3-996c-bf2c832e52d6');\n",
       "var x = new MutationObserver(function (mutations, observer) {{\n",
       "        var display = window.getComputedStyle(gd).display;\n",
       "        if (!display || display === 'none') {{\n",
       "            console.log([gd, 'removed!']);\n",
       "            Plotly.purge(gd);\n",
       "            observer.disconnect();\n",
       "        }}\n",
       "}});\n",
       "\n",
       "// Listen for the removal of the full notebook cells\n",
       "var notebookContainer = gd.closest('#notebook-container');\n",
       "if (notebookContainer) {{\n",
       "    x.observe(notebookContainer, {childList: true});\n",
       "}}\n",
       "\n",
       "// Listen for the clearing of the current output cell\n",
       "var outputEl = gd.closest('.output');\n",
       "if (outputEl) {{\n",
       "    x.observe(outputEl, {childList: true});\n",
       "}}\n",
       "\n",
       "                        })                };                });            </script>        </div>"
      ]
     },
     "metadata": {},
     "output_type": "display_data"
    }
   ],
   "source": [
    "fig = go.Figure([go.Bar(\n",
    "       y=df.groupby('locality_name')['area'].mean(),\n",
    "       x=df.locality_name.unique(),\n",
    "       name=column,\n",
    "       )])\n",
    "fig.show()"
   ]
  },
  {
   "cell_type": "markdown",
   "id": "c1038f3b",
   "metadata": {},
   "source": [
    "# Старт сервера"
   ]
  },
  {
   "cell_type": "code",
   "execution_count": 125,
   "id": "d037755f",
   "metadata": {
    "scrolled": false
   },
   "outputs": [],
   "source": [
    "# app = dash.Dash()\n",
    "# app.layout = html.Div([\n",
    "#     dcc.Graph(figure=fig)\n",
    "# ])\n",
    "\n",
    "# app.run_server(debug=True, use_reloader=False)  # Turn off reloader if inside Jupyter"
   ]
  },
  {
   "cell_type": "code",
   "execution_count": null,
   "id": "bb45d9f8",
   "metadata": {},
   "outputs": [],
   "source": []
  }
 ],
 "metadata": {
  "kernelspec": {
   "display_name": "Python 3 (ipykernel)",
   "language": "python",
   "name": "python3"
  },
  "language_info": {
   "codemirror_mode": {
    "name": "ipython",
    "version": 3
   },
   "file_extension": ".py",
   "mimetype": "text/x-python",
   "name": "python",
   "nbconvert_exporter": "python",
   "pygments_lexer": "ipython3",
   "version": "3.8.13"
  },
  "toc": {
   "base_numbering": 1,
   "nav_menu": {},
   "number_sections": true,
   "sideBar": true,
   "skip_h1_title": false,
   "title_cell": "Table of Contents",
   "title_sidebar": "Contents",
   "toc_cell": true,
   "toc_position": {
    "height": "560px",
    "left": "35px",
    "top": "66px",
    "width": "209px"
   },
   "toc_section_display": true,
   "toc_window_display": true
  }
 },
 "nbformat": 4,
 "nbformat_minor": 5
}
